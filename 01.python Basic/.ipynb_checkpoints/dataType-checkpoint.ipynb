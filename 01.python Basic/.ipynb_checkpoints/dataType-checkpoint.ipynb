{
 "cells": [
  {
   "cell_type": "markdown",
   "id": "55d5d8b5-d960-4f0a-8ea9-c1d65def560c",
   "metadata": {},
   "source": [
    "### 변수 :\n",
    "### 1. 이름을 잘 만들어야 한다. 작명센스!!\n",
    "### 2. 숫자가 맨 앞에 올 수 없다.\n",
    "### 3. 단어와 단어 사이는 _ 또는 대문자로 구별한다."
   ]
  },
  {
   "cell_type": "code",
   "execution_count": null,
   "id": "673f50da-707e-48aa-a37d-b84c8592c180",
   "metadata": {},
   "outputs": [],
   "source": [
    "price = 1000\n",
    "discount = 200\n",
    "discountedPrice = price - discount"
   ]
  },
  {
   "cell_type": "code",
   "execution_count": 7,
   "id": "b7b1fceb-a686-46f2-8267-af44e8009adc",
   "metadata": {},
   "outputs": [],
   "source": [
    "a=1000\n",
    "b=200"
   ]
  },
  {
   "cell_type": "code",
   "execution_count": 8,
   "id": "ab3f9e8a-10d2-44cc-8e91-c04f9be8f13d",
   "metadata": {},
   "outputs": [],
   "source": [
    "c=a-b"
   ]
  },
  {
   "cell_type": "code",
   "execution_count": 9,
   "id": "5b0509fd-4eba-4e4a-9877-ed86605f4fa7",
   "metadata": {},
   "outputs": [
    {
     "data": {
      "text/plain": [
       "800"
      ]
     },
     "execution_count": 9,
     "metadata": {},
     "output_type": "execute_result"
    }
   ],
   "source": [
    "c"
   ]
  },
  {
   "cell_type": "code",
   "execution_count": 10,
   "id": "12ac3eb0-c842-49e0-994c-f493507d5ff8",
   "metadata": {},
   "outputs": [
    {
     "data": {
      "text/plain": [
       "233"
      ]
     },
     "execution_count": 10,
     "metadata": {},
     "output_type": "execute_result"
    }
   ],
   "source": [
    "a=33\n",
    "b==44\n",
    "a+b"
   ]
  },
  {
   "cell_type": "code",
   "execution_count": 11,
   "id": "ae40d075-762e-4f6a-aa81-9e48a255960b",
   "metadata": {},
   "outputs": [
    {
     "data": {
      "text/plain": [
       "'3344'"
      ]
     },
     "execution_count": 11,
     "metadata": {},
     "output_type": "execute_result"
    }
   ],
   "source": [
    "a=\"33\"\n",
    "b=\"44\"\n",
    "a+b"
   ]
  },
  {
   "cell_type": "markdown",
   "id": "44b017df-1525-473c-9099-88b82fc2a996",
   "metadata": {},
   "source": [
    "##### 1-1-1. 수"
   ]
  },
  {
   "cell_type": "code",
   "execution_count": 15,
   "id": "624e0d17-2bdd-4250-82ed-af5f09fb5e2e",
   "metadata": {},
   "outputs": [],
   "source": [
    "integerValue = 10\n",
    "floatValue = 20.5"
   ]
  },
  {
   "cell_type": "code",
   "execution_count": 18,
   "id": "7697203d-083d-4130-a1d1-450ed90c56bb",
   "metadata": {},
   "outputs": [
    {
     "data": {
      "text/plain": [
       "int"
      ]
     },
     "execution_count": 18,
     "metadata": {},
     "output_type": "execute_result"
    }
   ],
   "source": [
    "type(integerValue)"
   ]
  },
  {
   "cell_type": "code",
   "execution_count": 17,
   "id": "4acff7fc-eab1-43b6-a1af-b6922ec1bfee",
   "metadata": {},
   "outputs": [
    {
     "data": {
      "text/plain": [
       "float"
      ]
     },
     "execution_count": 17,
     "metadata": {},
     "output_type": "execute_result"
    }
   ],
   "source": [
    "answer = integerValue * floatValue\n",
    "type(answer)"
   ]
  },
  {
   "cell_type": "code",
   "execution_count": 24,
   "id": "02c2ed29-2911-41df-82b3-21e97c6ea150",
   "metadata": {},
   "outputs": [
    {
     "name": "stdout",
     "output_type": "stream",
     "text": [
      "30.5\n",
      "-10.5\n",
      "205.0\n",
      "0.4878048780487805\n"
     ]
    }
   ],
   "source": [
    "plusAns = integerValue + floatValue\n",
    "minusAns = integerValue - floatValue\n",
    "multiAns = integerValue * floatValue\n",
    "dicAns = integerValue / floatValue\n",
    "print(plusAns)\n",
    "print(minusAns)\n",
    "print(multiAns)\n",
    "print(dicAns)"
   ]
  },
  {
   "cell_type": "code",
   "execution_count": 25,
   "id": "5b180119-9eb0-4f26-9695-07ffbe7d5eaf",
   "metadata": {},
   "outputs": [
    {
     "data": {
      "text/plain": [
       "0"
      ]
     },
     "execution_count": 25,
     "metadata": {},
     "output_type": "execute_result"
    }
   ],
   "source": [
    "pattern = 4\n",
    "targetWeek = 24\n",
    "targetWeek % pattern"
   ]
  },
  {
   "cell_type": "markdown",
   "id": "77cc39c6-0a8c-441e-a6d9-9f869fb30566",
   "metadata": {},
   "source": [
    "##### 실습) \n",
    "- 현재 시간과 분을 입력 값으로 받아서 2개의 값을 더하는 연산을 수행하세요."
   ]
  },
  {
   "cell_type": "code",
   "execution_count": 27,
   "id": "af32e2a2-9900-4b61-bc7e-eb06817d2c7a",
   "metadata": {},
   "outputs": [
    {
     "name": "stdout",
     "output_type": "stream",
     "text": [
      "48\n"
     ]
    }
   ],
   "source": [
    "from datetime import datetime\n",
    "\n",
    "now = datetime.now()\n",
    "\n",
    "min = now.minute\n",
    "sec = now.second\n",
    "\n",
    "result = min + sec\n",
    "print(result)"
   ]
  },
  {
   "cell_type": "code",
   "execution_count": 1,
   "id": "b824cf8c-4a92-4fe3-9bd2-89f435325fae",
   "metadata": {},
   "outputs": [
    {
     "name": "stdout",
     "output_type": "stream",
     "text": [
      "49\n"
     ]
    }
   ],
   "source": [
    "currentHour = 13\n",
    "currentMin = 36\n",
    "answer = currentHour + currentMin\n",
    "print(answer)"
   ]
  },
  {
   "cell_type": "code",
   "execution_count": 3,
   "id": "5647c329-a441-4bb6-a00f-1238d4d6e019",
   "metadata": {},
   "outputs": [
    {
     "name": "stdout",
     "output_type": "stream",
     "text": [
      "현재 시간과 분의 합은 = 49\n"
     ]
    }
   ],
   "source": [
    "print(\"현재 시간과 분의 합은 = {}\".format(answer))"
   ]
  },
  {
   "cell_type": "code",
   "execution_count": 4,
   "id": "2648aa90-dc6f-4bf2-9020-3f3b11330dff",
   "metadata": {},
   "outputs": [
    {
     "data": {
      "text/plain": [
       "67"
      ]
     },
     "execution_count": 4,
     "metadata": {},
     "output_type": "execute_result"
    }
   ],
   "source": [
    "import datetime\n",
    "#현재 주차정보 가져오기\n",
    "currentTime = datetime.datetime.now()\n",
    "#현재 시간 분 정보 가져오기\n",
    "currentHour = currentTime.hour\n",
    "currentMin = currentTime.minute\n",
    "#결과\n",
    "answer = currentHour + currentMin\n",
    "answer"
   ]
  },
  {
   "cell_type": "markdown",
   "id": "0630197b-e421-4877-a495-758d9e3c4c4a",
   "metadata": {},
   "source": [
    "##### 1-1-2. 문자열"
   ]
  },
  {
   "cell_type": "markdown",
   "id": "816e2c1a-4471-4169-afd8-73dd6451f64b",
   "metadata": {},
   "source": [
    "##### 내가 무슨 문자가 들어오든 내가 원하는 값을 추출할 수 있고\n",
    "##### 내가 원한느 문자를 붙일 수 있고"
   ]
  },
  {
   "cell_type": "code",
   "execution_count": 5,
   "id": "3046d453-927d-47bf-8ece-88d0d9f4109e",
   "metadata": {},
   "outputs": [],
   "source": [
    "testString = \"haiteam\""
   ]
  },
  {
   "cell_type": "code",
   "execution_count": 7,
   "id": "89abd96e-ae42-4c9c-81bc-53ac866532b6",
   "metadata": {},
   "outputs": [],
   "source": [
    "testString1 = 33\n",
    "testString2 = \"33\"\n",
    "\n",
    "# testString2 + 50  # ---> 문자열에 숫자를 더하는 건 안 됨"
   ]
  },
  {
   "cell_type": "code",
   "execution_count": 8,
   "id": "bb5a692e-b742-4e0e-b2c2-4e959ffac532",
   "metadata": {},
   "outputs": [],
   "source": [
    "currentYear = \"2023\""
   ]
  },
  {
   "cell_type": "code",
   "execution_count": 10,
   "id": "e3b3fa66-04d5-463f-b43f-023a2838f299",
   "metadata": {},
   "outputs": [],
   "source": [
    "currentWeek = \"1\""
   ]
  },
  {
   "cell_type": "code",
   "execution_count": 11,
   "id": "4a634db6-c8d1-4780-9446-ab7b94109972",
   "metadata": {},
   "outputs": [
    {
     "data": {
      "text/plain": [
       "'20231'"
      ]
     },
     "execution_count": 11,
     "metadata": {},
     "output_type": "execute_result"
    }
   ],
   "source": [
    "currentYear + currentWeek"
   ]
  },
  {
   "cell_type": "code",
   "execution_count": 12,
   "id": "d250bb30-4e23-41e4-9e7f-0dc7f96a618f",
   "metadata": {},
   "outputs": [],
   "source": [
    "targetInfo = \"202301\""
   ]
  },
  {
   "cell_type": "code",
   "execution_count": 16,
   "id": "44621373-718f-4662-b103-f50983685354",
   "metadata": {},
   "outputs": [],
   "source": [
    "yearLenStd = 4"
   ]
  },
  {
   "cell_type": "code",
   "execution_count": 18,
   "id": "f0120950-41d2-429a-8d5a-cbe6e5137610",
   "metadata": {},
   "outputs": [
    {
     "data": {
      "text/plain": [
       "'2023'"
      ]
     },
     "execution_count": 18,
     "metadata": {},
     "output_type": "execute_result"
    }
   ],
   "source": [
    "extractedYear = targetInfo[0:yearLenStd]\n",
    "extractedYear"
   ]
  },
  {
   "cell_type": "code",
   "execution_count": 19,
   "id": "a21f9ac4-0e71-49c6-8cc8-939e53130c8b",
   "metadata": {},
   "outputs": [
    {
     "data": {
      "text/plain": [
       "'2'"
      ]
     },
     "execution_count": 19,
     "metadata": {},
     "output_type": "execute_result"
    }
   ],
   "source": [
    "targetInfo[0]  # 특정 인텍스 값 출력"
   ]
  },
  {
   "cell_type": "code",
   "execution_count": 21,
   "id": "2c02ef16-a268-4194-a69a-710aa520bc4a",
   "metadata": {},
   "outputs": [
    {
     "data": {
      "text/plain": [
       "'2023'"
      ]
     },
     "execution_count": 21,
     "metadata": {},
     "output_type": "execute_result"
    }
   ],
   "source": [
    "targetInfo[0:]  # 1) 전체 다 출력\n",
    "targetInfo[:4]  # 2) 전체 다 출력"
   ]
  },
  {
   "cell_type": "code",
   "execution_count": 22,
   "id": "05b88e11-88f4-4fe6-941b-8f029827a795",
   "metadata": {},
   "outputs": [
    {
     "data": {
      "text/plain": [
       "'2023'"
      ]
     },
     "execution_count": 22,
     "metadata": {},
     "output_type": "execute_result"
    }
   ],
   "source": [
    "yearinfo = targetInfo[0:yearLenStd]\n",
    "yearinfo"
   ]
  },
  {
   "cell_type": "code",
   "execution_count": 24,
   "id": "a8c819b6-e12f-4c84-bd7c-0f73c582cec8",
   "metadata": {},
   "outputs": [
    {
     "data": {
      "text/plain": [
       "1"
      ]
     },
     "execution_count": 24,
     "metadata": {},
     "output_type": "execute_result"
    }
   ],
   "source": [
    "# 문자열 세기\n",
    "modelName = \"LEDTV_001\"\n",
    "prefix = \"LEDTV\"\n",
    "modelName.count(prefix)"
   ]
  },
  {
   "cell_type": "code",
   "execution_count": 29,
   "id": "010f0164-2949-4085-96bc-dd3af3a34e9f",
   "metadata": {},
   "outputs": [
    {
     "data": {
      "text/plain": [
       "4"
      ]
     },
     "execution_count": 29,
     "metadata": {},
     "output_type": "execute_result"
    }
   ],
   "source": [
    "# 문자열 위치확인\n",
    "yearweek = \"2023W01\"\n",
    "delimeter = \"W\"\n",
    "yearweek.index(delimeter)"
   ]
  },
  {
   "cell_type": "code",
   "execution_count": 31,
   "id": "cbe2c39e-bd7e-41d4-a14f-2ff067326c87",
   "metadata": {},
   "outputs": [
    {
     "data": {
      "text/plain": [
       "'2023'"
      ]
     },
     "execution_count": 31,
     "metadata": {},
     "output_type": "execute_result"
    }
   ],
   "source": [
    "delimeterIndex = yearweek.index(delimeter)\n",
    "yearInfo = yearweek[:delimeterIndex]\n",
    "yearInfo"
   ]
  },
  {
   "cell_type": "code",
   "execution_count": 34,
   "id": "9daaab28-85de-41b1-9b66-f8bebefa07ff",
   "metadata": {},
   "outputs": [],
   "source": [
    "# 대소문자 구별\n",
    "targetId = \"haitem\""
   ]
  },
  {
   "cell_type": "code",
   "execution_count": 35,
   "id": "0361b1d9-f3b5-4db4-b7bc-61417bca6dd5",
   "metadata": {},
   "outputs": [
    {
     "data": {
      "text/plain": [
       "'HAITEM'"
      ]
     },
     "execution_count": 35,
     "metadata": {},
     "output_type": "execute_result"
    }
   ],
   "source": [
    "targetId.upper()"
   ]
  },
  {
   "cell_type": "code",
   "execution_count": 36,
   "id": "7d483055-d509-4c59-b479-cb7798a2ffc3",
   "metadata": {},
   "outputs": [
    {
     "data": {
      "text/plain": [
       "'haitem'"
      ]
     },
     "execution_count": 36,
     "metadata": {},
     "output_type": "execute_result"
    }
   ],
   "source": [
    "targetId.lower()"
   ]
  },
  {
   "cell_type": "code",
   "execution_count": 39,
   "id": "8d320876-bb3f-42e7-81ee-9ec5524a2d9a",
   "metadata": {},
   "outputs": [
    {
     "data": {
      "text/plain": [
       "False"
      ]
     },
     "execution_count": 39,
     "metadata": {},
     "output_type": "execute_result"
    }
   ],
   "source": [
    "userInputId = \"haiteam\"\n",
    "comSavedId = \"HAITEAM\"\n",
    "userInputId == comSavedId"
   ]
  },
  {
   "cell_type": "code",
   "execution_count": 40,
   "id": "d417010b-087c-43e4-8e8b-89661c6627b7",
   "metadata": {},
   "outputs": [
    {
     "data": {
      "text/plain": [
       "True"
      ]
     },
     "execution_count": 40,
     "metadata": {},
     "output_type": "execute_result"
    }
   ],
   "source": [
    "userInputId.upper() == comSavedId"
   ]
  },
  {
   "cell_type": "code",
   "execution_count": 42,
   "id": "639b2095-4533-44a5-b2a9-f82c8ea07da0",
   "metadata": {},
   "outputs": [],
   "source": [
    "# 문자 치환\n",
    "inputYearWeek = \"2017W11\""
   ]
  },
  {
   "cell_type": "code",
   "execution_count": 43,
   "id": "4299daae-136a-4281-b002-569ccc64d10c",
   "metadata": {},
   "outputs": [],
   "source": [
    "orgDelimeter = \"W\"  #  <--- 변수 설정 해주는 게 좋음\n",
    "newDelimeter = \"_\""
   ]
  },
  {
   "cell_type": "code",
   "execution_count": 44,
   "id": "fe8e0827-8716-4fa7-b3fd-2a1490746ec9",
   "metadata": {},
   "outputs": [
    {
     "data": {
      "text/plain": [
       "'2017_11'"
      ]
     },
     "execution_count": 44,
     "metadata": {},
     "output_type": "execute_result"
    }
   ],
   "source": [
    "inputYearWeek.replace(orgDelimeter, newDelimeter)"
   ]
  },
  {
   "cell_type": "code",
   "execution_count": 46,
   "id": "2b92ae76-2b23-490a-bb34-d910ce57b454",
   "metadata": {},
   "outputs": [
    {
     "data": {
      "text/plain": [
       "['2017', '11']"
      ]
     },
     "execution_count": 46,
     "metadata": {},
     "output_type": "execute_result"
    }
   ],
   "source": [
    "# 문자 분리\n",
    "inputYearWeek.split(orgDelimeter)"
   ]
  },
  {
   "cell_type": "code",
   "execution_count": 62,
   "id": "7c475be5-2015-4eca-a501-f785d18263e4",
   "metadata": {},
   "outputs": [],
   "source": [
    "# 형변환\n",
    "strDataA = str(intData)"
   ]
  },
  {
   "cell_type": "code",
   "execution_count": 63,
   "id": "b158f5f7-d6b7-4507-a57b-23a844cc4e5f",
   "metadata": {},
   "outputs": [
    {
     "data": {
      "text/plain": [
       "str"
      ]
     },
     "execution_count": 63,
     "metadata": {},
     "output_type": "execute_result"
    }
   ],
   "source": [
    "type(strDataA)"
   ]
  },
  {
   "cell_type": "code",
   "execution_count": 64,
   "id": "e612d036-b8c3-46d2-ad96-feb247154ed4",
   "metadata": {},
   "outputs": [
    {
     "name": "stdout",
     "output_type": "stream",
     "text": [
      "2023\n",
      "1\n"
     ]
    }
   ],
   "source": [
    "yearInfo = int(intData / 100)\n",
    "weekInfo = intData % 100\n",
    "print(yearInfo)\n",
    "print(weekInfo)"
   ]
  },
  {
   "cell_type": "code",
   "execution_count": null,
   "id": "729d926c-7b95-449b-90e6-201290b904f7",
   "metadata": {},
   "outputs": [],
   "source": []
  },
  {
   "cell_type": "code",
   "execution_count": 65,
   "id": "690d5a6d-df1d-40ab-bde6-2ba7fe5b78bd",
   "metadata": {},
   "outputs": [
    {
     "data": {
      "text/plain": [
       "int"
      ]
     },
     "execution_count": 65,
     "metadata": {},
     "output_type": "execute_result"
    }
   ],
   "source": [
    "strData = \"202301\"\n",
    "intData = int(strData)\n",
    "type(intData)"
   ]
  },
  {
   "cell_type": "markdown",
   "id": "5bc210e9-e423-4f3e-b09e-ad6bef4bc810",
   "metadata": {},
   "source": [
    "##### 실습)\n",
    "- \"Sec 2018W28 250\" 문자열 생성 후 stock_name, data, value로 각각 의미하는 문자열을 생성하세요.(단, 모두 대문자여야 하면, 'W'를 삭제해야 함)"
   ]
  },
  {
   "cell_type": "code",
   "execution_count": 101,
   "id": "9df84a08-51e0-43dc-bec4-7fd5513ddce7",
   "metadata": {},
   "outputs": [],
   "source": [
    "strValue = \"Sec 2018W28 250\"\n",
    "\n",
    "strValue.upper()\n",
    "\n",
    "splitDelimeter = \" \"\n",
    "splitVal = strValue.split(splitDelimeter)\n",
    "splitVal\n",
    "\n",
    "stock_name = splitVal[0]\n",
    "print(stock_name)\n",
    "\n",
    "orgDelimeter = \"W\"\n",
    "newDelimeter = \"\"\n",
    "date = int(splitVal[1].replace(orgDelimeter, newDelimeter))\n",
    "print(date)\n",
    "\n",
    "value = splitVal[2]\n",
    "print(value)"
   ]
  },
  {
   "cell_type": "markdown",
   "id": "b27eaccf-9930-47fc-b55a-0a4944cf5dc7",
   "metadata": {},
   "source": [
    "##### 1-1-3. 리스트"
   ]
  },
  {
   "cell_type": "code",
   "execution_count": 133,
   "id": "11e1fc7b-b962-49a2-8f23-c236cdf2e51b",
   "metadata": {},
   "outputs": [],
   "source": [
    "emptyList = []"
   ]
  },
  {
   "cell_type": "code",
   "execution_count": 134,
   "id": "86836d27-6af2-4e6c-a1a5-d2b567d42b7b",
   "metadata": {},
   "outputs": [],
   "source": [
    "priceList = [110, 220, 330, 440, 550]"
   ]
  },
  {
   "cell_type": "code",
   "execution_count": 135,
   "id": "14676d1e-a191-481c-9238-b5a877a4f157",
   "metadata": {},
   "outputs": [
    {
     "data": {
      "text/plain": [
       "[110, 220, 330]"
      ]
     },
     "execution_count": 135,
     "metadata": {},
     "output_type": "execute_result"
    }
   ],
   "source": [
    "priceList[0:3]"
   ]
  },
  {
   "cell_type": "code",
   "execution_count": 136,
   "id": "5369451b-5d55-4a2d-b775-06e6a859c28f",
   "metadata": {},
   "outputs": [
    {
     "data": {
      "text/plain": [
       "[999, 220, 330, 440, 550]"
      ]
     },
     "execution_count": 136,
     "metadata": {},
     "output_type": "execute_result"
    }
   ],
   "source": [
    "# 값 수정\n",
    "priceList[0] = 999\n",
    "\n",
    "priceList"
   ]
  },
  {
   "cell_type": "code",
   "execution_count": 137,
   "id": "c9fa874a-e087-4f65-8da0-0fb213e55276",
   "metadata": {},
   "outputs": [
    {
     "data": {
      "text/plain": [
       "[220, 330, 440, 550]"
      ]
     },
     "execution_count": 137,
     "metadata": {},
     "output_type": "execute_result"
    }
   ],
   "source": [
    "# 값 삭제\n",
    "priceList.remove(999)\n",
    "priceList"
   ]
  },
  {
   "cell_type": "code",
   "execution_count": 139,
   "id": "e722ad6f-53c0-4534-b46c-f4c2e0a53581",
   "metadata": {},
   "outputs": [
    {
     "data": {
      "text/plain": [
       "[220, 330, 440, 550, 999]"
      ]
     },
     "execution_count": 139,
     "metadata": {},
     "output_type": "execute_result"
    }
   ],
   "source": [
    "# 값 추가\n",
    "newPrice = 999\n",
    "priceList.append(newPrice)\n",
    "priceList"
   ]
  },
  {
   "cell_type": "code",
   "execution_count": 142,
   "id": "02427fb1-12f4-491b-97b9-45cbb27af8f2",
   "metadata": {},
   "outputs": [
    {
     "name": "stdout",
     "output_type": "stream",
     "text": [
      "5\n",
      "220\n",
      "999\n",
      "2539\n"
     ]
    }
   ],
   "source": [
    "# 길이 구하기 len min max sum\n",
    "print(len(priceList))\n",
    "print(min(priceList))\n",
    "print(max(priceList))\n",
    "print(sum(priceList))"
   ]
  },
  {
   "cell_type": "markdown",
   "id": "5c8a9ac8-c827-41e8-b9e5-9341a2fb1f44",
   "metadata": {},
   "source": [
    "##### 실습)\n",
    "-  [120, 150, 300, 500, 1000, 100, 2000]값에서 최소, 최대값을 뺀 평균을 average이름의 변수에 담으세요."
   ]
  },
  {
   "cell_type": "code",
   "execution_count": 193,
   "id": "2dce9213-e36d-45c2-b951-0c19612d0b1e",
   "metadata": {},
   "outputs": [
    {
     "name": "stdout",
     "output_type": "stream",
     "text": [
      "5\n",
      "2070\n",
      "414.0\n"
     ]
    }
   ],
   "source": [
    "# 1)\n",
    "valueList = [120, 150, 300, 500, 1000, 100, 2000]\n",
    "minValue = min(valueList)\n",
    "maxValue = max(valueList)\n",
    "\n",
    "i = 0\n",
    "sumVal = 0\n",
    "cnt = 0\n",
    "\n",
    "while i < len(valueList) :\n",
    "    if valueList[i] != minValue and valueList[i] != maxValue :\n",
    "        sumVal += valueList[i] \n",
    "        cnt += 1  \n",
    "    i += 1\n",
    "print(cnt)\n",
    "print(sumVal)\n",
    "average = sumVal / cnt\n",
    "print(average)"
   ]
  },
  {
   "cell_type": "code",
   "execution_count": 196,
   "id": "616abdd6-4ba4-40eb-b567-d547f628b3a7",
   "metadata": {},
   "outputs": [
    {
     "name": "stdout",
     "output_type": "stream",
     "text": [
      "[120, 150, 300, 500, 1000]\n",
      "414.0\n"
     ]
    }
   ],
   "source": [
    "# 2)\n",
    "valList = [120, 150, 300, 500, 1000, 100, 2000]\n",
    "minVal = min(valList)\n",
    "maxVal = max(valList)\n",
    "\n",
    "valList.remove(minVal)\n",
    "valList.remove(maxVal)\n",
    "\n",
    "print(valList)\n",
    "\n",
    "lenNum = len(valList)\n",
    "sumValue = sum(valList)\n",
    "average = sumValue / lenNum\n",
    "print(average)"
   ]
  },
  {
   "cell_type": "code",
   "execution_count": 197,
   "id": "720079f0-ba2b-4898-876d-77e7b5f19569",
   "metadata": {},
   "outputs": [
    {
     "name": "stdout",
     "output_type": "stream",
     "text": [
      "100 2000\n",
      "414.0\n"
     ]
    }
   ],
   "source": [
    "# 교수님)\n",
    "targetList = [120, 150, 300, 500, 1000, 100, 2000]\n",
    "\n",
    "# Step1: 최소값 최대값을 구한다\n",
    "minValue = min(targetList)\n",
    "maxValue = max(targetList)\n",
    "print(minValue, maxValue)\n",
    "\n",
    "# Step2: 리스트에서 최소값 최대값을 제거한다\n",
    "targetList.remove(minValue)\n",
    "targetList.remove(maxValue)\n",
    "targetList\n",
    "\n",
    "# Step3: 최종 리스트에서 평균을 구한다\n",
    "# 평균: 전체합 / 전체길이\n",
    "listSum = sum(targetList)\n",
    "listLen = len(targetList)\n",
    "\n",
    "answer = listSum / listLen\n",
    "print(answer)"
   ]
  },
  {
   "cell_type": "markdown",
   "id": "76e091c2-f625-433e-8085-bc820a7cd561",
   "metadata": {},
   "source": [
    "##### 1-1-4. 비교 연산자"
   ]
  },
  {
   "cell_type": "code",
   "execution_count": 198,
   "id": "6e3b698c-9831-43d2-80a6-ff8dc6fb1b8a",
   "metadata": {},
   "outputs": [],
   "source": [
    "a=5\n",
    "b=5"
   ]
  },
  {
   "cell_type": "code",
   "execution_count": 199,
   "id": "c8129e9a-c253-4c1e-b782-1bfe6d2ed4b3",
   "metadata": {},
   "outputs": [
    {
     "data": {
      "text/plain": [
       "True"
      ]
     },
     "execution_count": 199,
     "metadata": {},
     "output_type": "execute_result"
    }
   ],
   "source": [
    "a == b"
   ]
  },
  {
   "cell_type": "code",
   "execution_count": 200,
   "id": "81cb7309-9bd4-4229-a588-7e0fe65357a3",
   "metadata": {},
   "outputs": [
    {
     "data": {
      "text/plain": [
       "False"
      ]
     },
     "execution_count": 200,
     "metadata": {},
     "output_type": "execute_result"
    }
   ],
   "source": [
    "a != b"
   ]
  },
  {
   "cell_type": "code",
   "execution_count": 201,
   "id": "0d07a97e-7804-4c04-8fb8-473efd88668b",
   "metadata": {},
   "outputs": [
    {
     "data": {
      "text/plain": [
       "False"
      ]
     },
     "execution_count": 201,
     "metadata": {},
     "output_type": "execute_result"
    }
   ],
   "source": [
    "a < b"
   ]
  },
  {
   "cell_type": "code",
   "execution_count": 202,
   "id": "9683e746-2ea3-411d-8160-95fa83e5b6d5",
   "metadata": {},
   "outputs": [
    {
     "data": {
      "text/plain": [
       "True"
      ]
     },
     "execution_count": 202,
     "metadata": {},
     "output_type": "execute_result"
    }
   ],
   "source": [
    "a >= b"
   ]
  },
  {
   "cell_type": "markdown",
   "id": "ed8cd2b6-4560-4fb9-b9bc-cc067aaa1b28",
   "metadata": {},
   "source": [
    "### 2-1-1. 반복문 (for)"
   ]
  },
  {
   "cell_type": "code",
   "execution_count": null,
   "id": "05e73760-df9f-456b-a0c5-0b679c1cbbbc",
   "metadata": {},
   "outputs": [],
   "source": [
    "tvList = [\"UN42001\", \"UN520001\", \"UN55001\"]\n",
    "\n",
    "preFix = \"LEDTV_\"\n",
    "\n",
    "tvList[0] = preFix + tvList[0]\n",
    "\n",
    "tvList\n",
    "\n",
    "# Header : i를 0에서 2까지 반복하겠다.\n",
    "# 1)\n",
    "for i in range(0, 3):\n",
    "    # 반복 구문\n",
    "    tvList[i] = preFix + tvList[i]\n",
    "tvList"
   ]
  },
  {
   "cell_type": "code",
   "execution_count": null,
   "id": "89a85ad3-2e44-40c8-8cd1-2ac2e97bab63",
   "metadata": {},
   "outputs": [
    {
     "data": {
      "text/plain": [
       "['LEDTV_LEDTV_UN42001', 'LEDTV_LEDTV_UN520001', 'LEDTV_LEDTV_UN55001']"
      ]
     },
     "execution_count": 235,
     "metadata": {},
     "output_type": "execute_result"
    }
   ],
   "source": [
    "# 2)\n",
    "tvListLen = len(tvList)\n",
    "for i in range(0, tvListLen):\n",
    "    # 반복 구문\n",
    "    tvList[i] = preFix + tvList[i]\n",
    "tvList"
   ]
  },
  {
   "cell_type": "markdown",
   "id": "7a7e75e3-8ba0-49ba-9ac0-ea4359eb612a",
   "metadata": {},
   "source": [
    "##### 1-1-5 디버깅\n",
    "- 하나 하나 값을 대입해서 작동 잘 되는지 확인 하기"
   ]
  },
  {
   "cell_type": "code",
   "execution_count": 239,
   "id": "a4a2452b-88f2-40c1-ba03-7e7f85af77fa",
   "metadata": {},
   "outputs": [],
   "source": [
    "tvList = [\"UN42001\", \"UN520001\", \"UN55001\"]"
   ]
  },
  {
   "cell_type": "code",
   "execution_count": null,
   "id": "0f2dc199-15d9-40d8-a4a1-a5a3940f167c",
   "metadata": {},
   "outputs": [],
   "source": [
    "preFix = \"LEDTV_\""
   ]
  },
  {
   "cell_type": "code",
   "execution_count": 236,
   "id": "df598290-33af-4fba-9613-836a6fa93435",
   "metadata": {},
   "outputs": [],
   "source": [
    "i = 0"
   ]
  },
  {
   "cell_type": "code",
   "execution_count": 237,
   "id": "ca8a346b-64f3-4714-a3ce-d76d04307394",
   "metadata": {},
   "outputs": [],
   "source": [
    "tvList[i] = preFix + tvList[i]"
   ]
  },
  {
   "cell_type": "code",
   "execution_count": 240,
   "id": "adf83830-7a23-455e-8a15-e404f48ba680",
   "metadata": {},
   "outputs": [
    {
     "data": {
      "text/plain": [
       "['UN42001', 'UN520001', 'UN55001']"
      ]
     },
     "execution_count": 240,
     "metadata": {},
     "output_type": "execute_result"
    }
   ],
   "source": [
    "tvList"
   ]
  },
  {
   "cell_type": "markdown",
   "id": "747a8749-f18e-4217-bc69-4c55c27493db",
   "metadata": {},
   "source": [
    "### 2-1-2. 반복문 (while)"
   ]
  },
  {
   "cell_type": "code",
   "execution_count": 242,
   "id": "3400f114-e5f9-44cc-93c1-939e0a267f79",
   "metadata": {},
   "outputs": [
    {
     "data": {
      "text/plain": [
       "['LEDTV_UN42001', 'LEDTV_UN520001', 'LEDTV_UN55001']"
      ]
     },
     "execution_count": 242,
     "metadata": {},
     "output_type": "execute_result"
    }
   ],
   "source": [
    "# 반복문 while문 Header\n",
    "i = 0\n",
    "while ( i < len(tvList)):\n",
    "    # 반복 구문\n",
    "    tvList[i] = preFix + tvList[i]\n",
    "    i = i + 1\n",
    "tvList"
   ]
  },
  {
   "cell_type": "markdown",
   "id": "72a70d1f-8954-4ef5-8db9-44abeed8a500",
   "metadata": {
    "tags": []
   },
   "source": [
    "##### 실습)\n",
    "- tvList2 = [\"UN40EN001\", \"UN40EN002\", \"UN40EN003\", \"UN40EN004\"] 리스트가 출력되도록 하세요"
   ]
  },
  {
   "cell_type": "code",
   "execution_count": 256,
   "id": "94dfada0-d2ea-409b-bb2c-7aab7eaa67b6",
   "metadata": {},
   "outputs": [
    {
     "name": "stdout",
     "output_type": "stream",
     "text": [
      "['UN40EN001', 'UN40EN002', 'UN40EN003', 'UN40EN004']\n"
     ]
    }
   ],
   "source": [
    "tvList2 = [\"UN40EN001\", \"UN40EN002\", \"UN40EN003\", \"UN40EN004\"]\n",
    "\n",
    "print(tvList2)"
   ]
  },
  {
   "cell_type": "markdown",
   "id": "91b1ac16-951e-4611-8357-4b0f23e7f708",
   "metadata": {
    "tags": []
   },
   "source": [
    "##### 실습)\n",
    "- customerNumber 앞에 접두어 SEC_를 붙인다"
   ]
  },
  {
   "cell_type": "code",
   "execution_count": 253,
   "id": "f5971a22-bcb5-41df-a0b4-577fd221a8f0",
   "metadata": {},
   "outputs": [
    {
     "data": {
      "text/plain": [
       "['SEC_A13566',\n",
       " 'SEC_A14219',\n",
       " 'SEC_A15312',\n",
       " 'SEC_A16605',\n",
       " 'SEC_B10634',\n",
       " 'SEC_B16849',\n",
       " 'SEC_B18816',\n",
       " 'SEC_C10639',\n",
       " 'SEC_C12717',\n",
       " 'SEC_C15050',\n",
       " 'SEC_C18306',\n",
       " 'SEC_C18622',\n",
       " 'SEC_C19178',\n",
       " 'SEC_D11795',\n",
       " 'SEC_D13030',\n",
       " 'SEC_D15289',\n",
       " 'SEC_D17241',\n",
       " 'SEC_D17880',\n",
       " 'SEC_E10778',\n",
       " 'SEC_E11917',\n",
       " 'SEC_E16075',\n",
       " 'SEC_E16221',\n",
       " 'SEC_E18145',\n",
       " 'SEC_E19404',\n",
       " 'SEC_F10222',\n",
       " 'SEC_F12979',\n",
       " 'SEC_F14866',\n",
       " 'SEC_F17131',\n",
       " 'SEC_F18646',\n",
       " 'SEC_F19938',\n",
       " 'SEC_G11453',\n",
       " 'SEC_G15439',\n",
       " 'SEC_G15736',\n",
       " 'SEC_G16437',\n",
       " 'SEC_G16681',\n",
       " 'SEC_G16922',\n",
       " 'SEC_G18402',\n",
       " 'SEC_G19717',\n",
       " 'SEC_H10188',\n",
       " 'SEC_H15023',\n",
       " 'SEC_H16326',\n",
       " 'SEC_H16434',\n",
       " 'SEC_H18821',\n",
       " 'SEC_H19829',\n",
       " 'SEC_I11601',\n",
       " 'SEC_I12899',\n",
       " 'SEC_I14835',\n",
       " 'SEC_I17056',\n",
       " 'SEC_I17780',\n",
       " 'SEC_I18190',\n",
       " 'SEC_I19586',\n",
       " 'SEC_J10809',\n",
       " 'SEC_J15083',\n",
       " 'SEC_J16445',\n",
       " 'SEC_J18368',\n",
       " 'SEC_J18640',\n",
       " 'SEC_K10712',\n",
       " 'SEC_K13300',\n",
       " 'SEC_K16632',\n",
       " 'SEC_L10919',\n",
       " 'SEC_L13892',\n",
       " 'SEC_L16344',\n",
       " 'SEC_L17101',\n",
       " 'SEC_L18000',\n",
       " 'SEC_M10156',\n",
       " 'SEC_M16452',\n",
       " 'SEC_M17538',\n",
       " 'SEC_N13273',\n",
       " 'SEC_N14862',\n",
       " 'SEC_N15762',\n",
       " 'SEC_O10236',\n",
       " 'SEC_O12193',\n",
       " 'SEC_O13037',\n",
       " 'SEC_O13586',\n",
       " 'SEC_O16407',\n",
       " 'SEC_O19630',\n",
       " 'SEC_P14445',\n",
       " 'SEC_P14740',\n",
       " 'SEC_P18446',\n",
       " 'SEC_P18769',\n",
       " 'SEC_P19679',\n",
       " 'SEC_Q11876',\n",
       " 'SEC_Q12581',\n",
       " 'SEC_Q13484',\n",
       " 'SEC_Q14673',\n",
       " 'SEC_Q15445',\n",
       " 'SEC_Q16449',\n",
       " 'SEC_Q16970',\n",
       " 'SEC_Q18064',\n",
       " 'SEC_Q18901',\n",
       " 'SEC_Q19870',\n",
       " 'SEC_R10086',\n",
       " 'SEC_R11271',\n",
       " 'SEC_R12480',\n",
       " 'SEC_R15454',\n",
       " 'SEC_R16364',\n",
       " 'SEC_R18220',\n",
       " 'SEC_S10909',\n",
       " 'SEC_S12066',\n",
       " 'SEC_S12785',\n",
       " 'SEC_S13238',\n",
       " 'SEC_S14751',\n",
       " 'SEC_S14878',\n",
       " 'SEC_S15191',\n",
       " 'SEC_S15607',\n",
       " 'SEC_S15966',\n",
       " 'SEC_S16151',\n",
       " 'SEC_S17396',\n",
       " 'SEC_S17893',\n",
       " 'SEC_S18699',\n",
       " 'SEC_S18924',\n",
       " 'SEC_T10762',\n",
       " 'SEC_T11116',\n",
       " 'SEC_T11473',\n",
       " 'SEC_T11512',\n",
       " 'SEC_T12735',\n",
       " 'SEC_T13866',\n",
       " 'SEC_T16556',\n",
       " 'SEC_U15861',\n",
       " 'SEC_U16637',\n",
       " 'SEC_U16894',\n",
       " 'SEC_U17547',\n",
       " 'SEC_U17748',\n",
       " 'SEC_V10654',\n",
       " 'SEC_V16516',\n",
       " 'SEC_V16704',\n",
       " 'SEC_V18566',\n",
       " 'SEC_V19072',\n",
       " 'SEC_W10832',\n",
       " 'SEC_W13032',\n",
       " 'SEC_W13404',\n",
       " 'SEC_W13995',\n",
       " 'SEC_W16193',\n",
       " 'SEC_W18228',\n",
       " 'SEC_X10158',\n",
       " 'SEC_X13390',\n",
       " 'SEC_X14259',\n",
       " 'SEC_X19598',\n",
       " 'SEC_X19768',\n",
       " 'SEC_Y10906',\n",
       " 'SEC_Y12458',\n",
       " 'SEC_Y13678',\n",
       " 'SEC_Z11525',\n",
       " 'SEC_Z12343',\n",
       " 'SEC_Z12772',\n",
       " 'SEC_Z13253',\n",
       " 'SEC_Z13534',\n",
       " 'SEC_Z16428',\n",
       " 'SEC_Z16735',\n",
       " 'SEC_Z19835']"
      ]
     },
     "execution_count": 253,
     "metadata": {},
     "output_type": "execute_result"
    }
   ],
   "source": [
    "import pandas as pd\n",
    "\n",
    "dataUrl = \"https://raw.githubusercontent.com/hyokwan/python-lecture/master/dataset/customerdata.csv\"\n",
    "csData = pd.read_csv(dataUrl)\n",
    "customerNumber = list( csData.CUSTID )\n",
    "\n",
    "preFix = \"SEC_\"\n",
    "for i in range(len(customerNumber)):\n",
    "    customerNumber[i] = preFix + customerNumber[i]\n",
    "customerNumber"
   ]
  },
  {
   "cell_type": "markdown",
   "id": "e0a7f5b0-1fc1-406b-bf84-d100a8072ef5",
   "metadata": {
    "tags": []
   },
   "source": [
    "##### 실습)\n",
    "- tvList3 = [\"UN40EN001\", \"LEDTV_UN40EN002\", \"LEDTV_LEDTV_UN40EN003\", \"UN40EN004\"] 리스트에서 LEDTV_가 한 개만 앞에 붙도록 하세요 (단, 대소문자 구분없이 전부 처리!!)"
   ]
  },
  {
   "cell_type": "code",
   "execution_count": 278,
   "id": "6f6033fb-df3c-460b-a3fa-7ec625b76e8e",
   "metadata": {},
   "outputs": [
    {
     "data": {
      "text/plain": [
       "['LEDTV_UN40EN001', 'LEDTV_UN40EN002', 'LEDTV_UN40EN003', 'LEDTV_UN40EN004']"
      ]
     },
     "execution_count": 278,
     "metadata": {},
     "output_type": "execute_result"
    }
   ],
   "source": [
    "tvList3 = [\"UN40EN001\", \"LEDTV_UN40EN002\", \"LEDTV_LEDTV_UN40EN003\", \"UN40EN004\"]\n",
    "preFix = \"LEDTV_\"\n",
    "\n",
    "for i in range(len(tvList3)):\n",
    "    if tvList3[i].count(preFix) >= 2 :\n",
    "        tvList3[i] = tvList3[i].replace(preFix, \"\")\n",
    "        tvList3[i] = preFix + tvList3[i]\n",
    "    elif tvList3[i].count(preFix) == 1 :\n",
    "        pass\n",
    "    else:\n",
    "        tvList3[i] = preFix + tvList3[i]\n",
    "tvList3"
   ]
  },
  {
   "cell_type": "code",
   "execution_count": null,
   "id": "78e1a690-90fa-4ca8-8553-d7fa98536c6c",
   "metadata": {},
   "outputs": [],
   "source": []
  }
 ],
 "metadata": {
  "kernelspec": {
   "display_name": "Python 3 (ipykernel)",
   "language": "python",
   "name": "python3"
  },
  "language_info": {
   "codemirror_mode": {
    "name": "ipython",
    "version": 3
   },
   "file_extension": ".py",
   "mimetype": "text/x-python",
   "name": "python",
   "nbconvert_exporter": "python",
   "pygments_lexer": "ipython3",
   "version": "3.9.13"
  }
 },
 "nbformat": 4,
 "nbformat_minor": 5
}
