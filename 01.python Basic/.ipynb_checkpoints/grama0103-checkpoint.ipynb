{
 "cells": [
  {
   "cell_type": "markdown",
   "id": "c53ab808-64b8-40d0-9f15-0efb6875d63e",
   "metadata": {},
   "source": [
    "### * 반복문"
   ]
  },
  {
   "cell_type": "code",
   "execution_count": 1,
   "id": "3f8551cd-e712-40a6-b3fc-b42e996a76ca",
   "metadata": {},
   "outputs": [],
   "source": [
    "targetList = [\"LEDTV_001\", \"LEDTV_002\", \"LEDTV_003\"]"
   ]
  },
  {
   "cell_type": "code",
   "execution_count": 2,
   "id": "f6d885dc-6ab9-4296-8a7f-839e638e3bfd",
   "metadata": {},
   "outputs": [
    {
     "name": "stdout",
     "output_type": "stream",
     "text": [
      "LEDTV_001\n",
      "LEDTV_002\n",
      "LEDTV_003\n"
     ]
    }
   ],
   "source": [
    "# for뮨 헤더 생성 구문을 tab으로 들여쓰기 한다.\n",
    "# 반복되는 인덱스 번호를 반복변수로 변환한다.\n",
    "for i in range(0, len(targetList)):\n",
    "    print(targetList[i])"
   ]
  },
  {
   "cell_type": "code",
   "execution_count": 32,
   "id": "c97a7d5d-9a3a-4b3b-b7f0-d636520dcb15",
   "metadata": {},
   "outputs": [
    {
     "name": "stdout",
     "output_type": "stream",
     "text": [
      "LEDTV_001\n",
      "LEDTV_003\n"
     ]
    }
   ],
   "source": [
    "for i in range(0, len(targetList),2):\n",
    "    print(targetList[i])"
   ]
  },
  {
   "cell_type": "code",
   "execution_count": 4,
   "id": "325edc20-bb9b-4faf-819f-42de0c175af2",
   "metadata": {},
   "outputs": [
    {
     "name": "stdout",
     "output_type": "stream",
     "text": [
      "LEDTV_001\n",
      "LEDTV_002\n",
      "LEDTV_003\n"
     ]
    }
   ],
   "source": [
    "i=0\n",
    "while(i < len(targetList)):\n",
    "    print(targetList[i])\n",
    "    i += 1"
   ]
  },
  {
   "cell_type": "markdown",
   "id": "cc17e1ea-01d5-4616-803e-3f7433e1feb1",
   "metadata": {},
   "source": [
    "### * 조건문"
   ]
  },
  {
   "cell_type": "code",
   "execution_count": 30,
   "id": "6a54f209-9f32-427c-9764-5d15f7199c6e",
   "metadata": {},
   "outputs": [
    {
     "data": {
      "text/plain": [
       "'LEDTV_UN52_001'"
      ]
     },
     "execution_count": 30,
     "metadata": {},
     "output_type": "execute_result"
    }
   ],
   "source": [
    "targetModel = \"UN52_001\"\n",
    "preFix = \"LEDTV_\"\n",
    "\n",
    "# 접두어가 있으면 접두어를 붙인다.\n",
    "if targetModel.count(preFix) == 0:\n",
    "    targetModel = preFix + targetModel\n",
    "else:\n",
    "    pass\n",
    "targetModel"
   ]
  },
  {
   "cell_type": "code",
   "execution_count": 31,
   "id": "3b2b022d-5d79-4ebc-9b6d-424436b201d8",
   "metadata": {},
   "outputs": [
    {
     "data": {
      "text/plain": [
       "'99999'"
      ]
     },
     "execution_count": 31,
     "metadata": {},
     "output_type": "execute_result"
    }
   ],
   "source": [
    "targetModel = \"UN52_001\"\n",
    "preFix = \"LEDTV_\"\n",
    "\n",
    "delimeter = \"_\"\n",
    "outCode = \"99999\"\n",
    "recallSerial = \"001\"\n",
    "\n",
    "# 시리얼번호가 끝자리 001인 경우 모델코드 99999으로 변경\n",
    "if targetModel.split(delimeter)[1] == recallSerial:\n",
    "    targetModel = outCode\n",
    "elif targetModel.count(preFix) == 0:\n",
    "    targetModel = preFix + targetModel\n",
    "else:\n",
    "    pass\n",
    "targetModel"
   ]
  },
  {
   "cell_type": "code",
   "execution_count": 33,
   "id": "a296eed9-6fac-45f1-9e3f-2d07d041a54a",
   "metadata": {},
   "outputs": [
    {
     "data": {
      "text/plain": [
       "'LEDTV_UN52_001'"
      ]
     },
     "execution_count": 33,
     "metadata": {},
     "output_type": "execute_result"
    }
   ],
   "source": [
    "# 조건식 순서만 변경해도 원하는 답이 안 나옴\n",
    "\n",
    "targetModel = \"UN52_001\"\n",
    "preFix = \"LEDTV_\"\n",
    "\n",
    "delimeter = \"_\"\n",
    "outCode = \"99999\"\n",
    "recallSerial = \"001\"\n",
    "\n",
    "# 시리얼번호가 끝자리 001인 경우 모델코드 99999으로 변경\n",
    "if targetModel.count(preFix) == 0:\n",
    "    targetModel = preFix + targetModel\n",
    "elif targetModel.split(delimeter)[1] == recallSerial:\n",
    "    targetModel = outCode    \n",
    "else:\n",
    "    pass\n",
    "targetModel"
   ]
  },
  {
   "cell_type": "markdown",
   "id": "76b23ea3-8e8b-489a-a481-1e6969f07844",
   "metadata": {},
   "source": [
    "##### 실습\n",
    "- 4개의 아이템을 조건문을 활용하여 LEDTV_가 하나만 붙도록 한다."
   ]
  },
  {
   "cell_type": "code",
   "execution_count": 54,
   "id": "49b97a79-8922-4f8c-a9dd-2618cba9013e",
   "metadata": {},
   "outputs": [
    {
     "data": {
      "text/plain": [
       "['LEDTV_UN40EN001', 'LEDTV_UN40EN002', 'LEDTV_UN40EN003', 'LEDTV_UN40EN004']"
      ]
     },
     "execution_count": 54,
     "metadata": {},
     "output_type": "execute_result"
    }
   ],
   "source": [
    "tvList = [\"LEDTV_LEDTV_UN40EN001\", \"UN40EN002\", \"LEDTV_UN40EN003\",  \"UN40EN004\"]\n",
    "preFix = \"LEDTV_\"\n",
    "\n",
    "for i in range(len(tvList)):  \n",
    "    cnt = tvList[i].count(preFix) \n",
    "    if cnt >= 2:\n",
    "        tvList[i] = tvList[i].replace(preFix,\"\")\n",
    "        tvList[i] = preFix + tvList[i]\n",
    "    elif cnt == 1:\n",
    "        pass\n",
    "    else:\n",
    "        tvList[i] = preFix + tvList[i]\n",
    "tvList"
   ]
  },
  {
   "cell_type": "code",
   "execution_count": 66,
   "id": "91c8065a-39ae-491e-b8f4-cf23487b7e98",
   "metadata": {},
   "outputs": [],
   "source": [
    "# 교수님\n",
    "tvList = [\"LEDTV_LEDTV_UN40EN001\", \"UN40EN002\", \"LEDTV_UN40EN003\",  \"UN40EN004\"]\n",
    "preFix = \"LEDTV_\""
   ]
  },
  {
   "cell_type": "code",
   "execution_count": 67,
   "id": "477f1848-fc0b-4bb9-be60-4705ce383231",
   "metadata": {},
   "outputs": [],
   "source": [
    "for i in range(0, len(tvList)):\n",
    "\n",
    "    ### STEP1. PREFIX가 없으면 붙여라\n",
    "    if tvList[i].count(preFix) == 0:\n",
    "        tvList[i] = preFix + tvList[i]\n",
    "    ### STEP2. PREFIX가 1개 있으면 PASS\n",
    "    elif tvList[i].count(preFix) == 1:\n",
    "        pass\n",
    "    ### STEP3. PREFIX가 2개 이상인 경우 지우고 붙인다\n",
    "    elif tvList[i].count(preFix) >= 2:\n",
    "        tvList[i] = preFix + tvList[i].replace(preFix, \"\")"
   ]
  },
  {
   "cell_type": "code",
   "execution_count": 68,
   "id": "f9543ca5-1a4a-4624-a93a-682fdf4d1f36",
   "metadata": {},
   "outputs": [
    {
     "data": {
      "text/plain": [
       "['LEDTV_UN40EN001', 'LEDTV_UN40EN002', 'LEDTV_UN40EN003', 'LEDTV_UN40EN004']"
      ]
     },
     "execution_count": 68,
     "metadata": {},
     "output_type": "execute_result"
    }
   ],
   "source": [
    "tvList"
   ]
  },
  {
   "cell_type": "markdown",
   "id": "3d3b3ea7-9d9e-455a-9046-9484c76f3b57",
   "metadata": {},
   "source": [
    "##### * for문 디버깅하는 방법\n",
    "1. 헤더를 주석처리한다\n",
    "2. 구문을 shift + tab으로 땡긴다\n",
    "3. i값을 별도로 선언한다"
   ]
  },
  {
   "cell_type": "code",
   "execution_count": 69,
   "id": "5f0a3118-5cee-4c6d-ab00-c79e0674e625",
   "metadata": {},
   "outputs": [],
   "source": [
    "i = 0"
   ]
  },
  {
   "cell_type": "code",
   "execution_count": 70,
   "id": "dca3e28c-f0c6-4825-b169-f4600044660f",
   "metadata": {},
   "outputs": [
    {
     "data": {
      "text/plain": [
       "False"
      ]
     },
     "execution_count": 70,
     "metadata": {},
     "output_type": "execute_result"
    }
   ],
   "source": [
    "tvList[i].count(preFix) == 0"
   ]
  },
  {
   "cell_type": "code",
   "execution_count": null,
   "id": "59c5c58a-577a-49c5-8fd9-7ef0c4349903",
   "metadata": {},
   "outputs": [],
   "source": [
    "### STEP1. PREFIX가 없으면 붙여라\n",
    "if tvList[i].count(preFix) == 0:\n",
    "    tvList[i] = preFix + tvList[i]\n",
    "### STEP2. PREFIX가 1개 있으면 PASS\n",
    "elif tvList[i].count(preFix) == 1:\n",
    "    pass\n",
    "### STEP3. PREFIX가 2개 이상인 경우 지우고 붙인다\n",
    "elif tvList[i].count(preFix) >= 2:\n",
    "    tvList[i] = preFix + tvList[i].replace(preFix, \"\")"
   ]
  }
 ],
 "metadata": {
  "kernelspec": {
   "display_name": "Python 3 (ipykernel)",
   "language": "python",
   "name": "python3"
  },
  "language_info": {
   "codemirror_mode": {
    "name": "ipython",
    "version": 3
   },
   "file_extension": ".py",
   "mimetype": "text/x-python",
   "name": "python",
   "nbconvert_exporter": "python",
   "pygments_lexer": "ipython3",
   "version": "3.9.13"
  }
 },
 "nbformat": 4,
 "nbformat_minor": 5
}
