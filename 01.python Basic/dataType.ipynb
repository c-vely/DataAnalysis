{
 "cells": [
  {
   "cell_type": "markdown",
   "id": "55d5d8b5-d960-4f0a-8ea9-c1d65def560c",
   "metadata": {},
   "source": [
    "### 변수 :\n",
    "### 1. 이름을 잘 만들어야 한다. 작명센스!!\n",
    "### 2. 숫자가 맨 앞에 올 수 없다.\n",
    "### 3. 단어와 단어 사이는 _ 또는 대문자로 구별한다."
   ]
  },
  {
   "cell_type": "code",
   "execution_count": null,
   "id": "673f50da-707e-48aa-a37d-b84c8592c180",
   "metadata": {},
   "outputs": [],
   "source": [
    "price = 1000\n",
    "discount = 200\n",
    "discountedPrice = price - discount"
   ]
  },
  {
   "cell_type": "code",
   "execution_count": 7,
   "id": "b7b1fceb-a686-46f2-8267-af44e8009adc",
   "metadata": {},
   "outputs": [],
   "source": [
    "a=1000\n",
    "b=200"
   ]
  },
  {
   "cell_type": "code",
   "execution_count": 8,
   "id": "ab3f9e8a-10d2-44cc-8e91-c04f9be8f13d",
   "metadata": {},
   "outputs": [],
   "source": [
    "c=a-b"
   ]
  },
  {
   "cell_type": "code",
   "execution_count": 9,
   "id": "5b0509fd-4eba-4e4a-9877-ed86605f4fa7",
   "metadata": {},
   "outputs": [
    {
     "data": {
      "text/plain": [
       "800"
      ]
     },
     "execution_count": 9,
     "metadata": {},
     "output_type": "execute_result"
    }
   ],
   "source": [
    "c"
   ]
  },
  {
   "cell_type": "code",
   "execution_count": 10,
   "id": "12ac3eb0-c842-49e0-994c-f493507d5ff8",
   "metadata": {},
   "outputs": [
    {
     "data": {
      "text/plain": [
       "233"
      ]
     },
     "execution_count": 10,
     "metadata": {},
     "output_type": "execute_result"
    }
   ],
   "source": [
    "a=33\n",
    "b==44\n",
    "a+b"
   ]
  },
  {
   "cell_type": "code",
   "execution_count": 11,
   "id": "ae40d075-762e-4f6a-aa81-9e48a255960b",
   "metadata": {},
   "outputs": [
    {
     "data": {
      "text/plain": [
       "'3344'"
      ]
     },
     "execution_count": 11,
     "metadata": {},
     "output_type": "execute_result"
    }
   ],
   "source": [
    "a=\"33\"\n",
    "b=\"44\"\n",
    "a+b"
   ]
  },
  {
   "cell_type": "markdown",
   "id": "44b017df-1525-473c-9099-88b82fc2a996",
   "metadata": {},
   "source": [
    "##### 1-1-1. 수"
   ]
  },
  {
   "cell_type": "code",
   "execution_count": 15,
   "id": "624e0d17-2bdd-4250-82ed-af5f09fb5e2e",
   "metadata": {},
   "outputs": [],
   "source": [
    "integerValue = 10\n",
    "floatValue = 20.5"
   ]
  },
  {
   "cell_type": "code",
   "execution_count": 18,
   "id": "7697203d-083d-4130-a1d1-450ed90c56bb",
   "metadata": {},
   "outputs": [
    {
     "data": {
      "text/plain": [
       "int"
      ]
     },
     "execution_count": 18,
     "metadata": {},
     "output_type": "execute_result"
    }
   ],
   "source": [
    "type(integerValue)"
   ]
  },
  {
   "cell_type": "code",
   "execution_count": 17,
   "id": "4acff7fc-eab1-43b6-a1af-b6922ec1bfee",
   "metadata": {},
   "outputs": [
    {
     "data": {
      "text/plain": [
       "float"
      ]
     },
     "execution_count": 17,
     "metadata": {},
     "output_type": "execute_result"
    }
   ],
   "source": [
    "answer = integerValue * floatValue\n",
    "type(answer)"
   ]
  },
  {
   "cell_type": "code",
   "execution_count": 24,
   "id": "02c2ed29-2911-41df-82b3-21e97c6ea150",
   "metadata": {},
   "outputs": [
    {
     "name": "stdout",
     "output_type": "stream",
     "text": [
      "30.5\n",
      "-10.5\n",
      "205.0\n",
      "0.4878048780487805\n"
     ]
    }
   ],
   "source": [
    "plusAns = integerValue + floatValue\n",
    "minusAns = integerValue - floatValue\n",
    "multiAns = integerValue * floatValue\n",
    "dicAns = integerValue / floatValue\n",
    "print(plusAns)\n",
    "print(minusAns)\n",
    "print(multiAns)\n",
    "print(dicAns)"
   ]
  },
  {
   "cell_type": "code",
   "execution_count": 25,
   "id": "5b180119-9eb0-4f26-9695-07ffbe7d5eaf",
   "metadata": {},
   "outputs": [
    {
     "data": {
      "text/plain": [
       "0"
      ]
     },
     "execution_count": 25,
     "metadata": {},
     "output_type": "execute_result"
    }
   ],
   "source": [
    "pattern = 4\n",
    "targetWeek = 24\n",
    "targetWeek % pattern"
   ]
  },
  {
   "cell_type": "markdown",
   "id": "5e262c26-3bc5-4d3b-b1f5-9392711fc3a7",
   "metadata": {},
   "source": [
    "##### 실습) \n",
    "- 현재 시간과 분을 입력 값으로 받아서 2개의 값을 더하는 연산을 수행하세요."
   ]
  },
  {
   "cell_type": "code",
   "execution_count": 27,
   "id": "af32e2a2-9900-4b61-bc7e-eb06817d2c7a",
   "metadata": {},
   "outputs": [
    {
     "name": "stdout",
     "output_type": "stream",
     "text": [
      "48\n"
     ]
    }
   ],
   "source": [
    "from datetime import datetime\n",
    "\n",
    "now = datetime.now()\n",
    "\n",
    "min = now.minute\n",
    "sec = now.second\n",
    "\n",
    "result = min + sec\n",
    "print(result)"
   ]
  },
  {
   "cell_type": "code",
   "execution_count": null,
   "id": "b824cf8c-4a92-4fe3-9bd2-89f435325fae",
   "metadata": {},
   "outputs": [],
   "source": []
  },
  {
   "cell_type": "code",
   "execution_count": null,
   "id": "5647c329-a441-4bb6-a00f-1238d4d6e019",
   "metadata": {},
   "outputs": [],
   "source": []
  }
 ],
 "metadata": {
  "kernelspec": {
   "display_name": "Python 3 (ipykernel)",
   "language": "python",
   "name": "python3"
  },
  "language_info": {
   "codemirror_mode": {
    "name": "ipython",
    "version": 3
   },
   "file_extension": ".py",
   "mimetype": "text/x-python",
   "name": "python",
   "nbconvert_exporter": "python",
   "pygments_lexer": "ipython3",
   "version": "3.9.13"
  }
 },
 "nbformat": 4,
 "nbformat_minor": 5
}
