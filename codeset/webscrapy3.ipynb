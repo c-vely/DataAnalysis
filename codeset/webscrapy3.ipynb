{
 "cells": [
  {
   "cell_type": "code",
   "execution_count": 6,
   "id": "40b53608-5e12-4792-ab46-83ee47111aa2",
   "metadata": {},
   "outputs": [],
   "source": [
    "#!/usr/bin/env python\n",
    "# coding: utf-8\n",
    "\n",
    "# ### 웹 데이터 수집\n",
    "\n",
    "\n",
    "# ### 1. requests, beautifulsoup 라이브러리\n",
    "\n",
    "\n",
    "# requests: 내가 웹에 데이터를 요청하는 라이브러리!\n",
    "# bs4: 웹페이지의 데이터를 이쁘게 추출하는 라이브러리!\n",
    "import requests, bs4\n",
    "import pandas as pd\n",
    "import datetime\n",
    "\n",
    "\n",
    "targetUrl = \"https://sparkkorea.com/%ed%80%b4%ec%a6%88/\"\n",
    "\n",
    "resp = requests.get(targetUrl)\n",
    "\n",
    "html = resp.text\n",
    "\n",
    "bsobj = bs4.BeautifulSoup(html,\"html.parser\")\n",
    "bsobj\n",
    "\n",
    "\n",
    "divScope =     bsobj.find(name=\"div\", attrs={\"class\":\"class_spark_quiz\"})\n",
    "\n",
    "atags = divScope.findAll(name=\"a\")\n",
    "\n",
    "titleList = []\n",
    "linkList = []\n",
    "\n",
    "for i in range(0, len(atags)):\n",
    "\n",
    "    quizTitle = atags[i].text # 퀴즈 타이틀 정보 수집\n",
    "    quizLink = atags[i].attrs[\"href\"] # 퀴즈 링크 정보 수집\n",
    "    titleList.append(quizTitle) # 빈리스트에 하나씩 저장\n",
    "    linkList.append(quizLink) # 빈리스트에 하나씩 저장\n",
    "\n",
    "quizInfoDf = pd.DataFrame( zip(titleList, linkList) , columns=[\"제목\",\"링크\"] )"
   ]
  },
  {
   "cell_type": "code",
   "execution_count": 7,
   "id": "12d479c6-3cac-4a4c-8135-975d68ef187e",
   "metadata": {},
   "outputs": [],
   "source": [
    "### revised by cjs\n",
    "### 작업: 저장파일명 위에 시간정보 삽입"
   ]
  },
  {
   "cell_type": "code",
   "execution_count": 15,
   "id": "840db58c-3bd3-4944-9deb-8cbba8ad049d",
   "metadata": {},
   "outputs": [],
   "source": [
    "# 현재날짜 가져오기\n",
    "currentDate = datetime.datetime.now()\n",
    "\n",
    "# 현재날짜 정보를 formatting 하기\n",
    "timeTag = currentDate.strftime(\"%Y_%m_%d_%H_%M_%S_%Z\")"
   ]
  },
  {
   "cell_type": "code",
   "execution_count": 16,
   "id": "35090835-7ebb-4181-a438-683a9880c077",
   "metadata": {},
   "outputs": [
    {
     "data": {
      "text/plain": [
       "'2023_01_05_11_09_51_'"
      ]
     },
     "execution_count": 16,
     "metadata": {},
     "output_type": "execute_result"
    }
   ],
   "source": [
    "timeTag"
   ]
  },
  {
   "cell_type": "code",
   "execution_count": 17,
   "id": "6d6dd308-b8c5-4987-8306-9d014b8c89ad",
   "metadata": {},
   "outputs": [],
   "source": [
    "quizInfoDf.to_csv(\"../dataset/quizinfo{}.csv\".format(timeTag), encoding=\"ms949\")"
   ]
  },
  {
   "cell_type": "code",
   "execution_count": null,
   "id": "cfc3445b-cf0e-4ae0-938a-55969d0b3603",
   "metadata": {},
   "outputs": [],
   "source": []
  }
 ],
 "metadata": {
  "kernelspec": {
   "display_name": "Python 3 (ipykernel)",
   "language": "python",
   "name": "python3"
  },
  "language_info": {
   "codemirror_mode": {
    "name": "ipython",
    "version": 3
   },
   "file_extension": ".py",
   "mimetype": "text/x-python",
   "name": "python",
   "nbconvert_exporter": "python",
   "pygments_lexer": "ipython3",
   "version": "3.9.13"
  }
 },
 "nbformat": 4,
 "nbformat_minor": 5
}
