{
 "cells": [
  {
   "cell_type": "code",
   "execution_count": 2,
   "id": "63413ddc-e670-436e-9fe5-11f41f37d0cd",
   "metadata": {},
   "outputs": [],
   "source": [
    "# 라이브러리 선언\n",
    "from selenium import webdriver\n",
    "from selenium.webdriver.common.by import By\n",
    "from selenium.webdriver.common.keys import Keys\n",
    "import bs4"
   ]
  },
  {
   "cell_type": "code",
   "execution_count": 1,
   "id": "e8888929-f720-44b4-a851-7a3e285aae22",
   "metadata": {},
   "outputs": [],
   "source": [
    "# 드라이버 위치 설정 (상대)\n",
    "driver_loc = \"../extern\\chromedriver/chromedriver.exe\""
   ]
  },
  {
   "cell_type": "code",
   "execution_count": 4,
   "id": "5e293605-edbd-4821-9a60-ff435944040f",
   "metadata": {},
   "outputs": [],
   "source": [
    "# 드라이버 옵션 설정\n",
    "options = webdriver.ChromeOptions()"
   ]
  },
  {
   "cell_type": "code",
   "execution_count": 5,
   "id": "ac18134b-5fc6-45f2-a231-55bb6d476bfb",
   "metadata": {},
   "outputs": [],
   "source": [
    "options.add_argument(\"window-size = 1920x1080\")"
   ]
  },
  {
   "cell_type": "code",
   "execution_count": 6,
   "id": "f1fed94d-7168-4166-941d-643148fe3c2f",
   "metadata": {},
   "outputs": [
    {
     "name": "stderr",
     "output_type": "stream",
     "text": [
      "C:\\Users\\PC17\\AppData\\Local\\Temp\\ipykernel_12608\\532407389.py:2: DeprecationWarning: executable_path has been deprecated, please pass in a Service object\n",
      "  driver = webdriver.Chrome(driver_loc, options = options)\n"
     ]
    }
   ],
   "source": [
    "# 웹 드라이버 정의\n",
    "driver = webdriver.Chrome(driver_loc, options = options)"
   ]
  },
  {
   "cell_type": "code",
   "execution_count": 7,
   "id": "3d96771d-50cc-48e9-910f-5433cac0c6c7",
   "metadata": {},
   "outputs": [],
   "source": [
    "#웹 페이지 파싱 될때까지 최대 3초 기다림\n",
    "driver.implicitly_wait(3)"
   ]
  },
  {
   "cell_type": "code",
   "execution_count": 21,
   "id": "daba8cf9-3818-4cd9-a823-782264e435f0",
   "metadata": {},
   "outputs": [],
   "source": [
    "# 웹 페이지 이동\n",
    "targetUrl = \"https://new.land.naver.com/houses?ms=37.4532833,126.7358048,16&a=VL:DDDGG&e=RETAIL\"\n",
    "driver.get(targetUrl)"
   ]
  },
  {
   "cell_type": "code",
   "execution_count": 22,
   "id": "ea70bdc8-0c66-4e01-b2e6-ce39a54ae60b",
   "metadata": {},
   "outputs": [
    {
     "name": "stdout",
     "output_type": "stream",
     "text": [
      "https://new.land.naver.com/houses?ms=37.4532833,126.7358048,16&a=VL:DDDGG&e=RETAIL\n"
     ]
    }
   ],
   "source": [
    "print(driver.current_url)"
   ]
  },
  {
   "cell_type": "code",
   "execution_count": 42,
   "id": "0a5d9868-0e43-4a1d-b5b4-41ab911b087f",
   "metadata": {},
   "outputs": [],
   "source": [
    "# driver가 접속한 페이지 소스 가져오기\n",
    "html = driver.page_source"
   ]
  },
  {
   "cell_type": "code",
   "execution_count": 43,
   "id": "d67051b5-dd41-4911-aaad-d90e37122116",
   "metadata": {},
   "outputs": [],
   "source": [
    "bsobj = bs4.BeautifulSoup(html, \"html.parser\")"
   ]
  },
  {
   "cell_type": "code",
   "execution_count": 44,
   "id": "74f9eaf0-c74f-49bd-8946-695a702039a7",
   "metadata": {
    "scrolled": true,
    "tags": []
   },
   "outputs": [],
   "source": [
    "divs = bsobj.findAll(name=\"div\", attrs={\"class\":\"item_inner\"} )"
   ]
  },
  {
   "cell_type": "code",
   "execution_count": 45,
   "id": "44263777-db21-4bbe-a04d-7bfd7c69ad48",
   "metadata": {},
   "outputs": [
    {
     "data": {
      "text/plain": [
       "20"
      ]
     },
     "execution_count": 45,
     "metadata": {},
     "output_type": "execute_result"
    }
   ],
   "source": [
    "len(divs)"
   ]
  },
  {
   "cell_type": "code",
   "execution_count": 47,
   "id": "c99a4fb0-651b-4c86-b973-accb31b9403d",
   "metadata": {},
   "outputs": [
    {
     "data": {
      "text/plain": [
       "<div class=\"item_inner\"><a class=\"thumbnail_area\" data-nclk=\"VHA.thumbnail\" href=\"javascript:void(0);\"><div aria-label=\"빌라\" class=\"thumbnail\" role=\"img\" style='background-image: url(\"https://landthumb-phinf.pstatic.net/20230103_23/land_naver_1672739904944rBqIS_JPEG/ed648fd8f3c623dd844dc1334fb748bb.JPG?type=m400_350\");'></div><span class=\"quantity\">13</span><span class=\"blind\">개의 매물사진이 있습니다.</span></a><a aria-expanded=\"false\" class=\"item_link\" data-nclk=\"VHA.title\" href=\"javascript:void(0);\" role=\"button\"><div class=\"item_title\"><span aria-label=\"현장확인\" class=\"confirm_type\" role=\"img\"><i class=\"sp_icon\"></i></span><span class=\"text\">빌라 </span></div><div class=\"price_line\"><span class=\"type\">매매</span><span class=\"price\">9,800</span></div><div class=\"info_area\"><p class=\"line\"><strong class=\"type\">빌라</strong><span class=\"spec\">40/34m², 5/5층, 남서향</span></p><p class=\"line\"><span class=\"spec\"></span></p></div><div class=\"tag_area\"><span class=\"tag\">25년이내 </span><span class=\"tag\">소형평수 </span><span class=\"tag\">탑층 </span></div></a><div class=\"cp_area\"><div class=\"cp_area_inner\"><span class=\"agent_info\"><a class=\"agent_name\" data-nclk=\"VHA.cp\" href=\"javascript:void(0);\">부동산써브 제공</a></span><span class=\"agent_info\"><a class=\"agent_name\" data-nclk=\"VHA.realtor\" href=\"javascript:void(0);\">범공인중개사사무소</a></span></div></div><div class=\"label_area\"><span class=\"label label--confirm\"><em class=\"title\">확인</em><em class=\"data\">23.01.03.</em></span></div></div>"
      ]
     },
     "execution_count": 47,
     "metadata": {},
     "output_type": "execute_result"
    }
   ],
   "source": [
    "divs[0]"
   ]
  },
  {
   "cell_type": "code",
   "execution_count": 57,
   "id": "b902509f-64dd-4122-964a-ce16a4005092",
   "metadata": {},
   "outputs": [
    {
     "data": {
      "text/plain": [
       "[<span class=\"agent_info\"><a class=\"agent_name\" data-nclk=\"VHA.cp\" href=\"javascript:void(0);\">부동산써브 제공</a></span>,\n",
       " <span class=\"agent_info\"><a class=\"agent_name\" data-nclk=\"VHA.realtor\" href=\"javascript:void(0);\">범공인중개사사무소</a></span>]"
      ]
     },
     "execution_count": 57,
     "metadata": {},
     "output_type": "execute_result"
    }
   ],
   "source": [
    "tmp = divs[0].findAll(name=\"span\", attrs={\"class\":\"agent_info\"})\n",
    "tmp"
   ]
  },
  {
   "cell_type": "code",
   "execution_count": 59,
   "id": "c0d87d86-903c-4927-9f9b-ef53c4ef9b64",
   "metadata": {},
   "outputs": [
    {
     "data": {
      "text/plain": [
       "2"
      ]
     },
     "execution_count": 59,
     "metadata": {},
     "output_type": "execute_result"
    }
   ],
   "source": [
    "len(tmp)"
   ]
  },
  {
   "cell_type": "code",
   "execution_count": 60,
   "id": "0ea23f59-6262-4d5b-83a8-a39af4008ad7",
   "metadata": {},
   "outputs": [
    {
     "data": {
      "text/plain": [
       "'범공인중개사사무소'"
      ]
     },
     "execution_count": 60,
     "metadata": {},
     "output_type": "execute_result"
    }
   ],
   "source": [
    "tmpText = tmp[1].text\n",
    "tmpText"
   ]
  },
  {
   "cell_type": "markdown",
   "id": "4801e998-ee43-45ea-a32f-d05b3cb470fc",
   "metadata": {},
   "source": [
    "###\n",
    "- 웹페이지 중, 아래처럼 접속했을 때는 접근이 안되는 경우가 있다. 이 때, 셀레니움 이용하면 좋음"
   ]
  },
  {
   "cell_type": "code",
   "execution_count": 34,
   "id": "84c995f4-9033-4385-9645-f380d0d223df",
   "metadata": {},
   "outputs": [],
   "source": [
    "import requests"
   ]
  },
  {
   "cell_type": "code",
   "execution_count": 35,
   "id": "f154ce78-c1e7-4201-95f5-b3e7ed0515d3",
   "metadata": {},
   "outputs": [],
   "source": [
    "resp = requests.get(targetUrl)"
   ]
  },
  {
   "cell_type": "code",
   "execution_count": 36,
   "id": "02242d04-6e62-4557-8463-1a16ae0390b2",
   "metadata": {},
   "outputs": [],
   "source": [
    "bsobj2 = bs4.BeautifulSoup(resp.text, \"html.parser\")"
   ]
  },
  {
   "cell_type": "code",
   "execution_count": 37,
   "id": "b3914bb8-1d69-4fef-a859-c0aa7fc3533e",
   "metadata": {},
   "outputs": [],
   "source": [
    "divs = bsobj2.findAll(name=\"div\", attrs={\"class\":\"item_inner\"} )"
   ]
  },
  {
   "cell_type": "code",
   "execution_count": 38,
   "id": "ab130b69-2135-4309-9fb8-53b905cc48e7",
   "metadata": {},
   "outputs": [
    {
     "data": {
      "text/plain": [
       "0"
      ]
     },
     "execution_count": 38,
     "metadata": {},
     "output_type": "execute_result"
    }
   ],
   "source": [
    "len(divs)"
   ]
  },
  {
   "cell_type": "code",
   "execution_count": null,
   "id": "e0b99efc-f42a-49dd-beb1-e726f0aaf142",
   "metadata": {},
   "outputs": [],
   "source": []
  },
  {
   "cell_type": "code",
   "execution_count": null,
   "id": "1ac85a66-0ae5-43d4-bebf-0c57ef503891",
   "metadata": {},
   "outputs": [],
   "source": []
  },
  {
   "cell_type": "code",
   "execution_count": 32,
   "id": "71fb67c4-eebb-4122-a347-7dc4a556ca91",
   "metadata": {},
   "outputs": [
    {
     "data": {
      "text/plain": [
       "20"
      ]
     },
     "execution_count": 32,
     "metadata": {},
     "output_type": "execute_result"
    }
   ],
   "source": [
    "len(divs)"
   ]
  },
  {
   "cell_type": "code",
   "execution_count": 19,
   "id": "23b78f72-31e7-407a-90cc-689025971d3f",
   "metadata": {},
   "outputs": [],
   "source": [
    "iframes = driver.find_elements(By.CSS_SELECTOR,'iframe')\n",
    "for iframe in iframes:\n",
    "    print(iframe.get_attribute('name'))"
   ]
  },
  {
   "cell_type": "code",
   "execution_count": 20,
   "id": "d5f58cd9-9236-416e-bf20-85b2b0107900",
   "metadata": {},
   "outputs": [
    {
     "data": {
      "text/plain": [
       "'<html><head></head><body></body></html>'"
      ]
     },
     "execution_count": 20,
     "metadata": {},
     "output_type": "execute_result"
    }
   ],
   "source": [
    "driver.page_source"
   ]
  },
  {
   "cell_type": "code",
   "execution_count": 17,
   "id": "f49556bb-4465-41f0-acce-a50bcf46f61b",
   "metadata": {},
   "outputs": [
    {
     "data": {
      "text/plain": [
       "'<html><head></head><body></body></html>'"
      ]
     },
     "execution_count": 17,
     "metadata": {},
     "output_type": "execute_result"
    }
   ],
   "source": [
    "driver.page_source"
   ]
  }
 ],
 "metadata": {
  "kernelspec": {
   "display_name": "Python 3 (ipykernel)",
   "language": "python",
   "name": "python3"
  },
  "language_info": {
   "codemirror_mode": {
    "name": "ipython",
    "version": 3
   },
   "file_extension": ".py",
   "mimetype": "text/x-python",
   "name": "python",
   "nbconvert_exporter": "python",
   "pygments_lexer": "ipython3",
   "version": "3.9.13"
  }
 },
 "nbformat": 4,
 "nbformat_minor": 5
}
