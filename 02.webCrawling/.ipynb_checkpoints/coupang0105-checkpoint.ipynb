{
 "cells": [
  {
   "cell_type": "code",
   "execution_count": null,
   "id": "3e385d77-7262-49e9-baff-e23b6cd77ebb",
   "metadata": {},
   "outputs": [],
   "source": [
    "https://pages.coupang.com/p/79307"
   ]
  },
  {
   "cell_type": "code",
   "execution_count": 1,
   "id": "c802b8ee-52c0-4d88-a830-8d90a68e0d67",
   "metadata": {},
   "outputs": [],
   "source": [
    "# 데이터 처리용 라이브러리\n",
    "import pandas as pd\n",
    "\n",
    "# 웹페이지 접속 라이브러리\n",
    "import requests\n",
    "\n",
    "# 웹페이지소스 이쁘게 수집하는 라이브러리\n",
    "import bs4"
   ]
  },
  {
   "cell_type": "code",
   "execution_count": null,
   "id": "a9399b93-0074-42bb-b739-c8933b451ebf",
   "metadata": {},
   "outputs": [],
   "source": [
    "targetUrl = \"https://pages.coupang.com/p/79307\""
   ]
  },
  {
   "cell_type": "code",
   "execution_count": 2,
   "id": "7f9ef698-b4e6-46fc-a656-7f3a25cfbfc5",
   "metadata": {},
   "outputs": [
    {
     "ename": "NameError",
     "evalue": "name 'targetUrl' is not defined",
     "output_type": "error",
     "traceback": [
      "\u001b[1;31m---------------------------------------------------------------------------\u001b[0m",
      "\u001b[1;31mNameError\u001b[0m                                 Traceback (most recent call last)",
      "\u001b[1;32m~\\AppData\\Local\\Temp\\ipykernel_5764\\3775211008.py\u001b[0m in \u001b[0;36m<module>\u001b[1;34m\u001b[0m\n\u001b[0;32m      1\u001b[0m \u001b[0muser_agent\u001b[0m \u001b[1;33m=\u001b[0m \u001b[1;34m'Mozilla/5.0 (Windows NT 10.0; Win64; x64) AppleWebKit/537.36 (KHTML, like Gecko) Chrome/100.0.4896.75 Safari/537.36'\u001b[0m\u001b[1;33m\u001b[0m\u001b[1;33m\u001b[0m\u001b[0m\n\u001b[1;32m----> 2\u001b[1;33m \u001b[0mresp\u001b[0m \u001b[1;33m=\u001b[0m \u001b[0mrequests\u001b[0m\u001b[1;33m.\u001b[0m\u001b[0mget\u001b[0m\u001b[1;33m(\u001b[0m\u001b[0mtargetUrl\u001b[0m\u001b[1;33m,\u001b[0m\u001b[0mheaders\u001b[0m \u001b[1;33m=\u001b[0m \u001b[1;33m{\u001b[0m\u001b[1;34m'User-Agent'\u001b[0m\u001b[1;33m:\u001b[0m\u001b[0muser_agent\u001b[0m\u001b[1;33m}\u001b[0m \u001b[1;33m)\u001b[0m\u001b[1;33m\u001b[0m\u001b[1;33m\u001b[0m\u001b[0m\n\u001b[0m",
      "\u001b[1;31mNameError\u001b[0m: name 'targetUrl' is not defined"
     ]
    }
   ],
   "source": [
    "user_agent = 'Mozilla/5.0 (Windows NT 10.0; Win64; x64) AppleWebKit/537.36 (KHTML, like Gecko) Chrome/100.0.4896.75 Safari/537.36'\n",
    "resp = requests.get(targetUrl,headers = {'User-Agent':user_agent} )"
   ]
  },
  {
   "cell_type": "code",
   "execution_count": null,
   "id": "aebf0fa4-eb12-45fb-bbea-d8db4cd56d3e",
   "metadata": {},
   "outputs": [],
   "source": []
  }
 ],
 "metadata": {
  "kernelspec": {
   "display_name": "Python 3 (ipykernel)",
   "language": "python",
   "name": "python3"
  },
  "language_info": {
   "codemirror_mode": {
    "name": "ipython",
    "version": 3
   },
   "file_extension": ".py",
   "mimetype": "text/x-python",
   "name": "python",
   "nbconvert_exporter": "python",
   "pygments_lexer": "ipython3",
   "version": "3.9.13"
  }
 },
 "nbformat": 4,
 "nbformat_minor": 5
}
