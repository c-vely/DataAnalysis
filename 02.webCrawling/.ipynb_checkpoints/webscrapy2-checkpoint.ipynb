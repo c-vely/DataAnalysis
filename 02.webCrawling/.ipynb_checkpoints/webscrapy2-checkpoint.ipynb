{
 "cells": [
  {
   "cell_type": "code",
   "execution_count": 1,
   "id": "3791d112-186b-400a-a318-95932c1d13eb",
   "metadata": {},
   "outputs": [],
   "source": [
    "#!/usr/bin/env python\n",
    "# coding: utf-8\n",
    "\n",
    "# ### 웹 데이터 수집\n",
    "\n",
    "# ### 1. requests, beautifulsoup 라이브러리\n",
    "\n",
    "\n",
    "# requests: 내가 웹에 데이터를 요청하는 라이브러리!\n",
    "# bs4: 웹페이지의 데이터를 이쁘게 추출하는 라이브러리!\n",
    "import requests, bs4\n",
    "import pandas as pd\n",
    "\n",
    "targetUrl = \"https://sparkkorea.com/%ed%80%b4%ec%a6%88/\"\n",
    "\n",
    "resp = requests.get(targetUrl)\n",
    "\n",
    "html = resp.text\n",
    "\n",
    "bsobj = bs4.BeautifulSoup(html,\"html.parser\")\n",
    "bsobj\n",
    "\n",
    "\n",
    "divScope =     bsobj.find(name=\"div\", attrs={\"class\":\"class_spark_quiz\"})\n",
    "\n",
    "atags = divScope.findAll(name=\"a\")\n",
    "\n",
    "titleList = []\n",
    "linkList = []\n",
    "\n",
    "for i in range(0, len(atags)):\n",
    "\n",
    "    quizTitle = atags[i].text # 퀴즈 타이틀 정보 수집\n",
    "    quizLink = atags[i].attrs[\"href\"] # 퀴즈 링크 정보 수집\n",
    "    titleList.append(quizTitle) # 빈리스트에 하나씩 저장\n",
    "    linkList.append(quizLink) # 빈리스트에 하나씩 저장\n",
    "\n",
    "quizInfoDf = pd.DataFrame( zip(titleList, linkList) , columns=[\"제목\",\"링크\"] )\n",
    "quizInfoDf.to_csv(\"../dataset/quizinfo.csv\", encoding=\"ms949\")"
   ]
  }
 ],
 "metadata": {
  "kernelspec": {
   "display_name": "Python 3 (ipykernel)",
   "language": "python",
   "name": "python3"
  },
  "language_info": {
   "codemirror_mode": {
    "name": "ipython",
    "version": 3
   },
   "file_extension": ".py",
   "mimetype": "text/x-python",
   "name": "python",
   "nbconvert_exporter": "python",
   "pygments_lexer": "ipython3",
   "version": "3.9.13"
  }
 },
 "nbformat": 4,
 "nbformat_minor": 5
}
