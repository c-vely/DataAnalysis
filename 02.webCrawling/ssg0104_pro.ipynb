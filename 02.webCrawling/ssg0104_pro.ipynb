{
 "cells": [
  {
   "cell_type": "markdown",
   "id": "5d72b147-af60-47fe-bb24-d48a5bf61cfc",
   "metadata": {
    "tags": []
   },
   "source": [
    "# 웹페이지 데이터 수집 (ssg.com)"
   ]
  },
  {
   "cell_type": "markdown",
   "id": "92147f8c-ad98-45de-aa22-71bf7080587f",
   "metadata": {},
   "source": [
    "### * 라이브러리 선언"
   ]
  },
  {
   "cell_type": "code",
   "execution_count": 10,
   "id": "566fcc51-6e2b-4cd3-b8aa-9b066ebcecab",
   "metadata": {},
   "outputs": [],
   "source": [
    "# 데이터 처리용 라이브러리\n",
    "import pandas as pd\n",
    "\n",
    "# 웹페이지 접속 라이브러리\n",
    "import requests\n",
    "\n",
    "# 웹페이지소스 이쁘게 수집하는 라이브러리\n",
    "import bs4"
   ]
  },
  {
   "cell_type": "markdown",
   "id": "538a6659-2fd5-4557-8b4f-205e7779c018",
   "metadata": {},
   "source": [
    "### 1-1. 페이지 접속 (단일)"
   ]
  },
  {
   "cell_type": "code",
   "execution_count": 11,
   "id": "fc76d4ca-bdbb-486d-a967-694d8f2cd0d5",
   "metadata": {},
   "outputs": [],
   "source": [
    "targetUrl = \"https://www.ssg.com/search.ssg?target=all&query=%EA%B3%84%EB%9E%80\""
   ]
  },
  {
   "cell_type": "code",
   "execution_count": 13,
   "id": "a621b1ca-7614-446d-a38b-fa48d30422f4",
   "metadata": {},
   "outputs": [],
   "source": [
    "user_agent = 'Mozilla/5.0 (Windows NT 10.0; Win64; x64) AppleWebKit/537.36 (KHTML, like Gecko) Chrome/100.0.4896.75 Safari/537.36'"
   ]
  },
  {
   "cell_type": "code",
   "execution_count": 14,
   "id": "ec0e921e-096c-48da-a19d-bb3e6608a2af",
   "metadata": {},
   "outputs": [],
   "source": [
    "resp = requests.get(targetUrl,headers = {'User-Agent':user_agent} )"
   ]
  },
  {
   "cell_type": "code",
   "execution_count": 15,
   "id": "84bb961e-c73f-4a3b-bf45-bedeeeea1d72",
   "metadata": {},
   "outputs": [],
   "source": [
    "bsobj = bs4.BeautifulSoup(resp.text, \"html.parser\")"
   ]
  },
  {
   "cell_type": "markdown",
   "id": "93949db9-f981-4526-ad4e-324e1fc8d0a2",
   "metadata": {
    "tags": []
   },
   "source": [
    "### 2. 원하는 데이터 정보 추출"
   ]
  },
  {
   "cell_type": "code",
   "execution_count": 20,
   "id": "dd46ca35-ef1e-4625-9fd4-181ab0518e22",
   "metadata": {},
   "outputs": [],
   "source": [
    "scope = bsobj.find(name=\"div\", attrs={\"class\":\"cunit_lst_v\"})"
   ]
  },
  {
   "cell_type": "code",
   "execution_count": 21,
   "id": "d9adaca7-ab0b-4b90-a711-8cc796d7e577",
   "metadata": {},
   "outputs": [],
   "source": [
    "lis = scope.findAll(name=\"li\")"
   ]
  },
  {
   "cell_type": "code",
   "execution_count": 23,
   "id": "76ff0d83-2662-4a6b-a155-a93c353b9f39",
   "metadata": {},
   "outputs": [
    {
     "data": {
      "text/plain": [
       "80"
      ]
     },
     "execution_count": 23,
     "metadata": {},
     "output_type": "execute_result"
    }
   ],
   "source": [
    "len(lis)"
   ]
  },
  {
   "cell_type": "code",
   "execution_count": 24,
   "id": "592883b0-6ee0-48ea-b746-e8ca15abdfe4",
   "metadata": {
    "collapsed": true,
    "jupyter": {
     "outputs_hidden": true
    },
    "tags": []
   },
   "outputs": [
    {
     "data": {
      "text/plain": [
       "<li class=\"cunit_t232\" data-observable-unit=\"false\" data-react-comm-id=\"계란\" data-react-comm-type=\"srchwd\" data-react-salestr-no=\"2034\" data-react-site-no=\"6001\" data-react-srch-rsv-div-cd=\"10\" data-react-tarea-cd=\"00001_000000010\" data-unittype=\"item\" id=\"item_unit_0000007452329\">\n",
       "<div class=\"cunit_prod\" data-observable-item=\"true\" data-react-advert-advert-acct-grp-id=\"\" data-react-advert-bid-id=\"\" data-react-advert-bilng-type-cd=\"\" data-react-advert-extens-tery-div-cd=\"\" data-react-advert-kind-cd=\"\" data-react-advert-tgt-id=\"\" data-react-advert-yn=\"N\" data-react-mdl-info=\"\" data-react-unit-id=\"0000007452329\" data-react-unit-inx=\"0\" data-react-unit-text=\"\" data-react-unit-type=\"item\">\n",
       "<div class=\"prod_top\">\n",
       "</div>\n",
       "<div class=\"thmb\">\n",
       "<a class=\"clickable\" data-index=\"0\" data-info=\"0000007452329\" data-position=\"view\" data-react-tarea-dtl-cd=\"t00001\" data-unit=\"img\" href=\"/item/itemView.ssg?itemId=0000007452329&amp;siteNo=6001&amp;salestrNo=2034&amp;tlidSrchWd=계란&amp;srchPgNo=1&amp;src_area=ssglist\" target=\"_self\">\n",
       "<img alt=\"난이생생 계란 15개입 (왕란, 1020g)\" class=\"i1\" height=\"232\" loading=\"lazy\" onerror=\"this.onerror=null;this.src='https://simg.ssgcdn.com/trans.ssg?src=/ui/ssg/img/common/img_ready_500x500.jpg&amp;w=232&amp;h=232&amp;t=9ba4c0524addb9b9ec561d5523b3baf3f90ae796'\" src=\"//sitem.ssgcdn.com/29/23/45/item/0000007452329_i1_232.jpg\" width=\"232\"/>\n",
       "<img alt=\"난이생생 계란 15개입 (왕란, 1020g)\" aria-hidden=\"true\" class=\"i2\" height=\"232\" loading=\"lazy\" onerror=\"this.onerror=null;this.src='https://simg.ssgcdn.com/trans.ssg?src=/ui/ssg/img/common/img_ready_500x500.jpg&amp;w=232&amp;h=232&amp;t=9ba4c0524addb9b9ec561d5523b3baf3f90ae796'\" src=\"//sitem.ssgcdn.com/29/23/45/item/0000007452329_i2_232.jpg\" width=\"232\"/>\n",
       "<div aria-label=\"배송방법\" class=\"deiv_bdg notranslate\">\n",
       "<span class=\"ssgdeliv\"><span class=\"blind\">쓱-배송</span></span>\n",
       "</div>\n",
       "</a>\n",
       "<div class=\"exp_area notranslate\">\n",
       "<div class=\"util_bx\"> <a class=\"blank clickable\" data-index=\"0\" data-info=\"0000007452329\" data-position=\"pop\" data-unit=\"img\" href=\"/item/itemView.ssg?itemId=0000007452329&amp;siteNo=6001&amp;salestrNo=2034&amp;tlidSrchWd=계란&amp;srchPgNo=1&amp;src_area=ssglist\" target=\"_blank\"><span class=\"blind\">새창보기</span></a>\n",
       "<a class=\"cart clickable\" data-idx=\"0\" data-info=\"0000007452329\" data-position=\"cart\" data-react-tarea-dtl-cd=\"t00002\" data-unit=\"img\" href=\"javascript:void(0)\" onclick=\"frontCommCart.put(this, '');\" role=\"button\"><span class=\"blind\">장바구니</span></a>\n",
       "<span class=\"disp_cart_data\" data-cart-inflo-site-no=\"6005\" data-cart-ordqty=\"1\" data-cart-type=\"10\" style=\"display:none\">{\"advertBidId\":\"\",\"giftBtnShowType\":\"\",\"giftBtnActType\":\"N\",\"itemChrctDivCd\":\"10\",\"itemLnkd\":\"/item/itemView.ssg?itemId=0000007452329&amp;siteNo=6001&amp;salestrNo=2034&amp;tlidSrchWd=계란&amp;srchPgNo=1&amp;src_area=ssglist\",\"giftBtnMsg\":\"선물하기 불가 상품 입니다.\",\"bothSsgMorningShppYn\":\"N\",\"goItemDetailYn\":\"N\",\"drctPurchYn\":\"N\",\"itemId\":\"0000007452329\",\"dealItemYn\":\"N\",\"advertExtensTeryDivCd\":\"\",\"cleaningLabYn\":\"N\",\"siteNo\":\"6001\",\"useForcedSsg\":\"N\",\"cartPsblType\":\"\",\"uitemId\":\"00000\",\"infloSiteNo\":\"6005\",\"salestrNo\":\"2034\",\"msgItemDetail\":\"\"}</span>\n",
       "<span class=\"cmlike _js_cmlike interestIt\">\n",
       "<input name=\"attnDivCd\" type=\"hidden\" value=\"10\"/>\n",
       "<input name=\"attnDivDtlCd\" type=\"hidden\" value=\"10\"/>\n",
       "<input name=\"siteNo\" type=\"hidden\" value=\"6001\"/>\n",
       "<input name=\"attnTgtIdnfNo1\" type=\"hidden\" value=\"0000007452329\"/>\n",
       "<input name=\"attnTgtIdnfNo2\" type=\"hidden\" value=\"2034\"/>\n",
       "<input name=\"uitemId\" type=\"hidden\" value=\"00000\"/>\n",
       "<input name=\"notiTitle\" type=\"hidden\" value=\"난이생생 계란 15개입 (왕란, 1020g)\"/>\n",
       "<input name=\"notiImgPath\" type=\"hidden\" value=\"//sitem.ssgcdn.com/29/23/45/item/0000007452329_i1_232.jpg\"/>\n",
       "<input name=\"checked\" type=\"hidden\" value=\"N\"/>\n",
       "<input name=\"useForcedSsgYn\" type=\"hidden\" value=\"N\"/>\n",
       "<button class=\"cmlike_btn _js_cmlike_btn clickable\" data-position=\"clip\" data-react-tarea-dtl-cd=\"t00003\">\n",
       "<span class=\"cmlike_ico\">\n",
       "<i class=\"cmlike_primary_s\"></i>\n",
       "<span class=\"sr_off\"><span class=\"blind\">관심상품 취소</span></span>\n",
       "<span class=\"sr_on\"><span class=\"blind\">관심상품 등록</span></span>\n",
       "</span>\n",
       "</button>\n",
       "</span>\n",
       "</div>\n",
       "</div>\n",
       "</div>\n",
       "</div><div class=\"cunit_info\">\n",
       "<div class=\"cunit_tp\">\n",
       "<span class=\"cm_mall_ic ty_rect_s notranslate\">\n",
       "<i class=\"em\"><span class=\"blind\">이마트몰</span></i>\n",
       "<!-- ssg 푸드마켓  -->\n",
       "</span>\n",
       "<div class=\"dp_dv\">\n",
       "<!-- 신선보장 -->\n",
       "<!-- SSG설치 -->\n",
       "<!-- 오픈마켓  -->\n",
       "</div>\n",
       "</div>\n",
       "<div class=\"cunit_md notranslate\">\n",
       "<div class=\"title\">\n",
       "<a class=\"clickable\" data-index=\"0\" data-info=\"0000007452329\" data-position=\"view\" data-unit=\"img\" href=\"/item/itemView.ssg?itemId=0000007452329&amp;siteNo=6001&amp;salestrNo=2034&amp;tlidSrchWd=계란&amp;srchPgNo=1&amp;src_area=ssglist\" target=\"_self\">\n",
       "<em class=\"tx_ko\">난이생생 계란 15개입 (왕란, 1020g)</em>\n",
       "<em class=\"tx_en\">난이생생 계란 15개입 (왕란, 1020g)</em>\n",
       "<em class=\"tx_zh\">난이생생 계란 15개입 (왕란, 1020g)</em>\n",
       "</a>\n",
       "</div>\n",
       "</div>\n",
       "<div class=\"cunit_price\">\n",
       "<div class=\"opt_price\">\n",
       "<span class=\"blind\">할인적용가</span>\n",
       "<em class=\"ssg_price\">6,280</em>\n",
       "<span class=\"ssg_tx\">원</span>\n",
       "<div class=\"ssg_price_ko show_gl hide_ko\">(￦6,280)</div>\n",
       "</div>\n",
       "</div>\n",
       "<div class=\"cunit_prw\">\n",
       "<div class=\"unit\">(100g당:616원)</div>\n",
       "</div>\n",
       "<div class=\"cunit_app\">\n",
       "<div class=\"rating\">\n",
       "<div class=\"rate_bg\">\n",
       "<span style=\"width:96.0%\"><span class=\"blind\">별점 4.89점</span></span>\n",
       "</div>\n",
       "<span class=\"rate_tx\">(<em>117,034</em>개)</span>\n",
       "</div>\n",
       "</div>\n",
       "<div class=\"cunit_bene\">\n",
       "<div class=\"spt_deiv\">\n",
       "</div>\n",
       "<div class=\"cunit_badge_mmbrs\">\n",
       "<span class=\"cmbadge_mmbrs ty_text ty_m\">\n",
       "<i class=\"badge badge_mmbrs_brown ty_xs\">\n",
       "<span class=\"blind\">스마일클럽</span>\n",
       "</i>\n",
       "<span class=\"cm_smileclub_text\">최대 314원 적립</span>\n",
       "</span>\n",
       "</div>\n",
       "</div>\n",
       "<div class=\"cunit_tag v2 hide_gl\">\n",
       "<a class=\"clickable\" data-index=\"0\" data-info=\"0000007452329\" data-position=\"tag\" data-tagnm=\"반찬용\" href=\"/search.ssg?src_area=listtag&amp;query=%23%eb%b0%98%ec%b0%ac%ec%9a%a9\">#반찬용</a>\n",
       "<a class=\"clickable\" data-index=\"1\" data-info=\"0000007452329\" data-position=\"tag\" data-tagnm=\"구이용\" href=\"/search.ssg?src_area=listtag&amp;query=%23%ea%b5%ac%ec%9d%b4%ec%9a%a9\">#구이용</a>\n",
       "</div>\n",
       "</div>\n",
       "</li>"
      ]
     },
     "execution_count": 24,
     "metadata": {},
     "output_type": "execute_result"
    }
   ],
   "source": [
    "lis[0]"
   ]
  },
  {
   "cell_type": "markdown",
   "id": "931e1617-797b-45a4-9415-3219e96fb247",
   "metadata": {
    "tags": []
   },
   "source": [
    "### 3. 데이터 수집\n",
    "- 제품명 찾기"
   ]
  },
  {
   "cell_type": "code",
   "execution_count": 25,
   "id": "d44db8d6-fed5-4298-ac65-0205e9b3fe8c",
   "metadata": {},
   "outputs": [
    {
     "data": {
      "text/plain": [
       "<img alt=\"난이생생 계란 15개입 (왕란, 1020g)\" class=\"i1\" height=\"232\" loading=\"lazy\" onerror=\"this.onerror=null;this.src='https://simg.ssgcdn.com/trans.ssg?src=/ui/ssg/img/common/img_ready_500x500.jpg&amp;w=232&amp;h=232&amp;t=9ba4c0524addb9b9ec561d5523b3baf3f90ae796'\" src=\"//sitem.ssgcdn.com/29/23/45/item/0000007452329_i1_232.jpg\" width=\"232\"/>"
      ]
     },
     "execution_count": 25,
     "metadata": {},
     "output_type": "execute_result"
    }
   ],
   "source": [
    "lis[0].find(name=\"img\")"
   ]
  },
  {
   "cell_type": "code",
   "execution_count": 27,
   "id": "920822d0-dfb9-4087-bff5-04184cb77ea6",
   "metadata": {},
   "outputs": [],
   "source": [
    "eachproductName = lis[0].find(name=\"img\").attrs[\"alt\"]"
   ]
  },
  {
   "cell_type": "code",
   "execution_count": 28,
   "id": "4c67ea03-6a66-461b-aedf-272bfe579f4a",
   "metadata": {},
   "outputs": [
    {
     "data": {
      "text/plain": [
       "'난이생생 계란 15개입 (왕란, 1020g)'"
      ]
     },
     "execution_count": 28,
     "metadata": {},
     "output_type": "execute_result"
    }
   ],
   "source": [
    "eachproductName"
   ]
  },
  {
   "cell_type": "markdown",
   "id": "b1f2ab44-e4ca-4793-8297-3af1560f54a9",
   "metadata": {},
   "source": [
    "- 가격 찾기"
   ]
  },
  {
   "cell_type": "code",
   "execution_count": 29,
   "id": "243293dc-9b18-4c38-9849-9d8fc922e954",
   "metadata": {},
   "outputs": [
    {
     "data": {
      "text/plain": [
       "<em class=\"ssg_price\">6,280</em>"
      ]
     },
     "execution_count": 29,
     "metadata": {},
     "output_type": "execute_result"
    }
   ],
   "source": [
    "lis[0].find(name=\"em\", attrs={\"class\":\"ssg_price\"})"
   ]
  },
  {
   "cell_type": "code",
   "execution_count": 30,
   "id": "79c540bf-3cbd-4f3e-a764-780dca594aa4",
   "metadata": {},
   "outputs": [
    {
     "data": {
      "text/plain": [
       "'6,280'"
      ]
     },
     "execution_count": 30,
     "metadata": {},
     "output_type": "execute_result"
    }
   ],
   "source": [
    "lis[0].find(name=\"em\", attrs={\"class\":\"ssg_price\"}).text"
   ]
  },
  {
   "cell_type": "markdown",
   "id": "a4db873b-b5c6-47c7-8c17-91c286833b45",
   "metadata": {},
   "source": [
    "- 리스트 만들어 수집하기"
   ]
  },
  {
   "cell_type": "code",
   "execution_count": 31,
   "id": "068a69f9-faac-4ccd-b009-d64af02fec12",
   "metadata": {},
   "outputs": [],
   "source": [
    "productList = []\n",
    "productPriceList = []"
   ]
  },
  {
   "cell_type": "code",
   "execution_count": 33,
   "id": "42eec95e-5282-43e4-aef5-bb35deb5dcab",
   "metadata": {},
   "outputs": [],
   "source": [
    "for i in range(0, len(lis)):\n",
    "    eachproductName = lis[0].find(name=\"img\").attrs[\"alt\"]\n",
    "    eachProductPrice = lis[0].find(name=\"em\", attrs={\"class\":\"ssg_price\"}).text\n",
    "    \n",
    "    productList.append(eachproductName)\n",
    "    productPriceList.append(eachProductPrice)"
   ]
  },
  {
   "cell_type": "code",
   "execution_count": 36,
   "id": "faf5fd6a-2d52-4ea0-9f60-2ae60e4484bf",
   "metadata": {},
   "outputs": [
    {
     "data": {
      "text/html": [
       "<div>\n",
       "<style scoped>\n",
       "    .dataframe tbody tr th:only-of-type {\n",
       "        vertical-align: middle;\n",
       "    }\n",
       "\n",
       "    .dataframe tbody tr th {\n",
       "        vertical-align: top;\n",
       "    }\n",
       "\n",
       "    .dataframe thead th {\n",
       "        text-align: right;\n",
       "    }\n",
       "</style>\n",
       "<table border=\"1\" class=\"dataframe\">\n",
       "  <thead>\n",
       "    <tr style=\"text-align: right;\">\n",
       "      <th></th>\n",
       "      <th>제품이름</th>\n",
       "      <th>제품가격</th>\n",
       "    </tr>\n",
       "  </thead>\n",
       "  <tbody>\n",
       "    <tr>\n",
       "      <th>0</th>\n",
       "      <td>난이생생 계란 15개입 (왕란, 1020g)</td>\n",
       "      <td>6,280</td>\n",
       "    </tr>\n",
       "    <tr>\n",
       "      <th>1</th>\n",
       "      <td>난이생생 계란 15개입 (왕란, 1020g)</td>\n",
       "      <td>6,280</td>\n",
       "    </tr>\n",
       "    <tr>\n",
       "      <th>2</th>\n",
       "      <td>난이생생 계란 15개입 (왕란, 1020g)</td>\n",
       "      <td>6,280</td>\n",
       "    </tr>\n",
       "    <tr>\n",
       "      <th>3</th>\n",
       "      <td>난이생생 계란 15개입 (왕란, 1020g)</td>\n",
       "      <td>6,280</td>\n",
       "    </tr>\n",
       "    <tr>\n",
       "      <th>4</th>\n",
       "      <td>난이생생 계란 15개입 (왕란, 1020g)</td>\n",
       "      <td>6,280</td>\n",
       "    </tr>\n",
       "    <tr>\n",
       "      <th>...</th>\n",
       "      <td>...</td>\n",
       "      <td>...</td>\n",
       "    </tr>\n",
       "    <tr>\n",
       "      <th>75</th>\n",
       "      <td>난이생생 계란 15개입 (왕란, 1020g)</td>\n",
       "      <td>6,280</td>\n",
       "    </tr>\n",
       "    <tr>\n",
       "      <th>76</th>\n",
       "      <td>난이생생 계란 15개입 (왕란, 1020g)</td>\n",
       "      <td>6,280</td>\n",
       "    </tr>\n",
       "    <tr>\n",
       "      <th>77</th>\n",
       "      <td>난이생생 계란 15개입 (왕란, 1020g)</td>\n",
       "      <td>6,280</td>\n",
       "    </tr>\n",
       "    <tr>\n",
       "      <th>78</th>\n",
       "      <td>난이생생 계란 15개입 (왕란, 1020g)</td>\n",
       "      <td>6,280</td>\n",
       "    </tr>\n",
       "    <tr>\n",
       "      <th>79</th>\n",
       "      <td>난이생생 계란 15개입 (왕란, 1020g)</td>\n",
       "      <td>6,280</td>\n",
       "    </tr>\n",
       "  </tbody>\n",
       "</table>\n",
       "<p>80 rows × 2 columns</p>\n",
       "</div>"
      ],
      "text/plain": [
       "                        제품이름   제품가격\n",
       "0   난이생생 계란 15개입 (왕란, 1020g)  6,280\n",
       "1   난이생생 계란 15개입 (왕란, 1020g)  6,280\n",
       "2   난이생생 계란 15개입 (왕란, 1020g)  6,280\n",
       "3   난이생생 계란 15개입 (왕란, 1020g)  6,280\n",
       "4   난이생생 계란 15개입 (왕란, 1020g)  6,280\n",
       "..                       ...    ...\n",
       "75  난이생생 계란 15개입 (왕란, 1020g)  6,280\n",
       "76  난이생생 계란 15개입 (왕란, 1020g)  6,280\n",
       "77  난이생생 계란 15개입 (왕란, 1020g)  6,280\n",
       "78  난이생생 계란 15개입 (왕란, 1020g)  6,280\n",
       "79  난이생생 계란 15개입 (왕란, 1020g)  6,280\n",
       "\n",
       "[80 rows x 2 columns]"
      ]
     },
     "execution_count": 36,
     "metadata": {},
     "output_type": "execute_result"
    }
   ],
   "source": [
    "pd.DataFrame(zip(productList, productPriceList), columns = [\"제품이름\", \"제품가격\"] )"
   ]
  },
  {
   "cell_type": "markdown",
   "id": "93b7aed0-4bb3-49d2-82ff-fafc16703002",
   "metadata": {},
   "source": [
    "# * 10페이지 정보 추출"
   ]
  },
  {
   "cell_type": "code",
   "execution_count": null,
   "id": "1afb9d88-797a-443b-b0b6-5b0e7494eab9",
   "metadata": {},
   "outputs": [],
   "source": []
  }
 ],
 "metadata": {
  "kernelspec": {
   "display_name": "Python 3 (ipykernel)",
   "language": "python",
   "name": "python3"
  },
  "language_info": {
   "codemirror_mode": {
    "name": "ipython",
    "version": 3
   },
   "file_extension": ".py",
   "mimetype": "text/x-python",
   "name": "python",
   "nbconvert_exporter": "python",
   "pygments_lexer": "ipython3",
   "version": "3.9.13"
  }
 },
 "nbformat": 4,
 "nbformat_minor": 5
}
