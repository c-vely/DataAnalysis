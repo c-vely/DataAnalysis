{
 "cells": [
  {
   "cell_type": "code",
   "execution_count": 3,
   "id": "848ab3c7-a159-47f2-a175-5a95091c60cc",
   "metadata": {},
   "outputs": [],
   "source": [
    "import requests, bs4\n",
    "\n",
    "targetUrl = \"https://sparkkorea.com/%ed%80%b4%ec%a6%88/\"\n",
    "\n",
    "resp = requests.get(targetUrl)\n",
    "\n",
    "html = resp.text\n",
    "\n",
    "bsobj = bs4.BeautifulSoup(html,\"html.parser\")\n",
    "bsobj"
   ]
  },
  {
   "cell_type": "markdown",
   "id": "2df0aa8d-32a5-433c-946a-df8a7e4e5217",
   "metadata": {},
   "source": [
    "### * 태그명으로 소스 수집"
   ]
  },
  {
   "cell_type": "markdown",
   "id": "9ceef772-2686-4d1e-b680-6d193f8c1e64",
   "metadata": {},
   "source": [
    "### - h1찾기"
   ]
  },
  {
   "cell_type": "code",
   "execution_count": 20,
   "id": "e589aa4c-e8bd-41be-ad26-1458220775ba",
   "metadata": {},
   "outputs": [
    {
     "data": {
      "text/plain": [
       "<h1 class=\"site-title\">\n",
       "<a href=\"https://sparkkorea.com/\" rel=\"home\">\n",
       "\t\t\t\t\t스파크 코리아\t\t\t\t</a>\n",
       "</h1>"
      ]
     },
     "execution_count": 20,
     "metadata": {},
     "output_type": "execute_result"
    }
   ],
   "source": [
    "# 요소 1개만 찾기\n",
    "h1tags = bsobj.find(name=\"h1\")  \n",
    "h1tags"
   ]
  },
  {
   "cell_type": "code",
   "execution_count": 26,
   "id": "1b6692f3-d16a-4585-860c-36017b4490e7",
   "metadata": {},
   "outputs": [
    {
     "data": {
      "text/plain": [
       "bs4.element.Tag"
      ]
     },
     "execution_count": 26,
     "metadata": {},
     "output_type": "execute_result"
    }
   ],
   "source": [
    "type(h1tags)"
   ]
  },
  {
   "cell_type": "code",
   "execution_count": 21,
   "id": "999aa9b7-82d5-401a-ace6-e5ef11ddbbd2",
   "metadata": {},
   "outputs": [],
   "source": [
    "# 요소 다 찾기\n",
    "h1tags1 = bsobj.findAll(name=\"h1\")  # 리스트로 수집됨"
   ]
  },
  {
   "cell_type": "code",
   "execution_count": 22,
   "id": "84dd4389-1aeb-4f6c-b804-7071194f05a4",
   "metadata": {},
   "outputs": [
    {
     "data": {
      "text/plain": [
       "bs4.element.ResultSet"
      ]
     },
     "execution_count": 22,
     "metadata": {},
     "output_type": "execute_result"
    }
   ],
   "source": [
    "# 타입\n",
    "type(h1tags1)"
   ]
  },
  {
   "cell_type": "code",
   "execution_count": 23,
   "id": "995074d8-5533-4a9a-8d2f-6c10c02f1d7b",
   "metadata": {},
   "outputs": [
    {
     "data": {
      "text/plain": [
       "4"
      ]
     },
     "execution_count": 23,
     "metadata": {},
     "output_type": "execute_result"
    }
   ],
   "source": [
    "# 요소 길이 확인\n",
    "len(h1tags1)"
   ]
  },
  {
   "cell_type": "code",
   "execution_count": 24,
   "id": "402fb6a8-e9fe-49b6-b721-1dd44ffdf7fb",
   "metadata": {},
   "outputs": [
    {
     "data": {
      "text/plain": [
       "<h1> 메인 </h1>"
      ]
     },
     "execution_count": 24,
     "metadata": {},
     "output_type": "execute_result"
    }
   ],
   "source": [
    "# 요소 추출 가능\n",
    "h1tags1[2]"
   ]
  },
  {
   "cell_type": "code",
   "execution_count": 25,
   "id": "d1777eb5-e1f3-49d8-bb2c-7794dabf0167",
   "metadata": {},
   "outputs": [],
   "source": [
    "# 제한된 범위 추출 가능 limit\n",
    "h1tags1 = bsobj.findAll(name=\"h1\", limit=2) "
   ]
  },
  {
   "cell_type": "markdown",
   "id": "e410ba87-dc1d-4d71-bd43-e6ef88fd2d97",
   "metadata": {},
   "source": [
    "### - a 찾기"
   ]
  },
  {
   "cell_type": "code",
   "execution_count": 29,
   "id": "35c55077-da68-42f4-b18a-2a7519604c4d",
   "metadata": {},
   "outputs": [
    {
     "data": {
      "text/plain": [
       "[<a class=\"skip-link screen-reader-text\" href=\"#content\">컨텐츠로 건너뛰기</a>,\n",
       " <a href=\"https://sparkkorea.com/\" rel=\"home\">\n",
       " \t\t\t\t\t스파크 코리아\t\t\t\t</a>,\n",
       " <a href=\"https://sparkkorea.com/%ec%9e%90%eb%a3%8c%ec%8b%a4/\">자료실</a>,\n",
       " <a aria-current=\"page\" href=\"https://sparkkorea.com/%ed%80%b4%ec%a6%88/\">퀴즈</a>,\n",
       " <a href=\"https://sparkkorea.com/%ec%84%a4%eb%ac%b8-2/\">설문s</a>,\n",
       " <a href=\"https://sparkkorea.com/%ed%85%8c%ec%8a%a4%ed%8a%b8/\">테스트</a>,\n",
       " <a href=\"https://sparkkorea.com/%ec%84%a4%eb%ac%b8/\">학생퀴즈</a>,\n",
       " <a href=\"#\"> 설문 준비중 </a>,\n",
       " <a href=\"https://forms.gle/Fw49w9GhWQChDcZm7\"> 6/13 Spark 심화과정 </a>,\n",
       " <a href=\"https://forms.gle/G4TcXm3fKuHLHA6D6\"> 6/13 Spark 기본과정 </a>,\n",
       " <a href=\"https://forms.gle/M8gr1kC2ubA3UDVp8\"> 6/18 Spark [MAP_FILTER] </a>,\n",
       " <a href=\"https://forms.gle/h8w5mZ4MNaPLCPbi6\"> 6/18 Spark GroupBy 심화 </a>,\n",
       " <a href=\"https://forms.gle/q5yL6QHfueDLM5w27\"> 6/25 Spark RDD 실전 분석 </a>,\n",
       " <a href=\"https://forms.gle/Gxb4y6LfVYiaLu4M7\"> 6/27 Spark RDD 실전 분석2 </a>,\n",
       " <a class=\"share-twitter sd-button share-icon\" data-shared=\"sharing-twitter-102\" href=\"https://sparkkorea.com/%ed%80%b4%ec%a6%88/?share=twitter\" rel=\"nofollow noopener noreferrer\" target=\"_blank\" title=\"트위터로 공유하기\"><span>트위터</span></a>,\n",
       " <a class=\"share-facebook sd-button share-icon\" data-shared=\"sharing-facebook-102\" href=\"https://sparkkorea.com/%ed%80%b4%ec%a6%88/?share=facebook\" rel=\"nofollow noopener noreferrer\" target=\"_blank\" title=\"페이스북에 공유하려면 클릭하세요.\"><span>Facebook</span></a>,\n",
       " <a class=\"sd-link-color\"></a>,\n",
       " <a href=\"https://wordpress.com/?ref=footer_segment_business\" rel=\"nofollow\">워드프레스닷컴 웹사이트.</a>,\n",
       " <a href=\"https://sparkkorea.com\">\n",
       " <img alt=\"\" class=\"avatar avatar-50\" height=\"50\" src=\"https://s2.wp.com/i/logo/wpcom-gray-white.png\" width=\"50\"/>\t\t\t\t스파크 코리아\t\t\t</a>,\n",
       " <a href=\"https://sparkkorea.wordpress.com/wp-admin/customize.php?url=https%3A%2F%2Fsparkkorea.wordpress.com%2F%25ED%2580%25B4%25EC%25A6%2588%2F\">\n",
       " <svg class=\"gridicon gridicons-customize\" height=\"20\" viewbox=\"0 0 24 24\" width=\"20\" xmlns=\"http://www.w3.org/2000/svg\"><g><path d=\"M2 6c0-1.505.78-3.08 2-4 0 .845.69 2 2 2 1.657 0 3 1.343 3 3 0 .386-.08.752-.212 1.09.74.594 1.476 1.19 2.19 1.81L8.9 11.98c-.62-.716-1.214-1.454-1.807-2.192C6.753 9.92 6.387 10 6 10c-2.21 0-4-1.79-4-4zm12.152 6.848l1.34-1.34c.607.304 1.283.492 2.008.492 2.485 0 4.5-2.015 4.5-4.5 0-.725-.188-1.4-.493-2.007L18 9l-2-2 3.507-3.507C18.9 3.188 18.225 3 17.5 3 15.015 3 13 5.015 13 7.5c0 .725.188 1.4.493 2.007L3 20l2 2 6.848-6.848c1.885 1.928 3.874 3.753 5.977 5.45l1.425 1.148 1.5-1.5-1.15-1.425c-1.695-2.103-3.52-4.092-5.448-5.977z\"></path></g></svg> <span>사용자 정의하기</span>\n",
       " </a>,\n",
       " <a href=\"https://wordpress.com/start/\">가입</a>,\n",
       " <a href=\"https://wordpress.com/log-in?redirect_to=https%3A%2F%2Fr-login.wordpress.com%2Fremote-login.php%3Faction%3Dlink%26back%3Dhttps%253A%252F%252Fsparkkorea.com%252F%2525ed%252580%2525b4%2525ec%2525a6%252588%252F\">로그인</a>,\n",
       " <a href=\"https://wp.me/Pb5P34-1E\">단축 링크 복사</a>,\n",
       " <a href=\"http://en.wordpress.com/abuse/\">이 콘텐츠 신고하기</a>,\n",
       " <a href=\"https://subscribe.wordpress.com/\">구독 관리</a>]"
      ]
     },
     "execution_count": 29,
     "metadata": {},
     "output_type": "execute_result"
    }
   ],
   "source": [
    "atags = bsobj.findAll(name=\"a\")\n",
    "atags"
   ]
  },
  {
   "cell_type": "code",
   "execution_count": 31,
   "id": "4a024d3c-7fb3-4cb6-9c3a-783e1a3956ba",
   "metadata": {},
   "outputs": [
    {
     "data": {
      "text/plain": [
       "'퀴즈'"
      ]
     },
     "execution_count": 31,
     "metadata": {},
     "output_type": "execute_result"
    }
   ],
   "source": [
    "# 텍스트만 추출하기\n",
    "atags[3].text"
   ]
  },
  {
   "cell_type": "code",
   "execution_count": 32,
   "id": "42016d29-c68c-4078-ba72-cd2a02cf1c44",
   "metadata": {},
   "outputs": [
    {
     "data": {
      "text/plain": [
       "'a'"
      ]
     },
     "execution_count": 32,
     "metadata": {},
     "output_type": "execute_result"
    }
   ],
   "source": [
    "# 이름값 리턴 \n",
    "atags[3].name"
   ]
  },
  {
   "cell_type": "markdown",
   "id": "7cd2a241-de8e-4f2e-b6dd-bdca648e4b88",
   "metadata": {},
   "source": [
    "### * 태그 속성정보로 소스 수집하기"
   ]
  },
  {
   "cell_type": "code",
   "execution_count": 46,
   "id": "1d268780-c006-4e3e-9b7d-7ad3bf269473",
   "metadata": {},
   "outputs": [
    {
     "data": {
      "text/plain": [
       "[<div class=\"hfeed site\" id=\"page\">\n",
       " <a class=\"skip-link screen-reader-text\" href=\"#content\">컨텐츠로 건너뛰기</a>\n",
       " <header class=\"site-header\" id=\"masthead\" role=\"banner\">\n",
       " <div class=\"site-branding\">\n",
       " <h1 class=\"site-title\">\n",
       " <a href=\"https://sparkkorea.com/\" rel=\"home\">\n",
       " \t\t\t\t\t스파크 코리아\t\t\t\t</a>\n",
       " </h1>\n",
       " <p class=\"site-description\">스파크코리아 자료공유</p>\n",
       " </div><!-- .site-branding -->\n",
       " <nav class=\"main-navigation\" id=\"site-navigation\" role=\"navigation\">\n",
       " <button aria-controls=\"primary-menu\" aria-expanded=\"false\" class=\"menu-toggle\">메뉴</button>\n",
       " <div class=\"primary-menu\"><ul class=\"menu\" id=\"primary-menu\"><li class=\"menu-item menu-item-type-post_type menu-item-object-page menu-item-27\" id=\"menu-item-27\"><a href=\"https://sparkkorea.com/%ec%9e%90%eb%a3%8c%ec%8b%a4/\">자료실</a></li>\n",
       " <li class=\"menu-item menu-item-type-post_type menu-item-object-page current-menu-item page_item page-item-102 current_page_item menu-item-382\" id=\"menu-item-382\"><a aria-current=\"page\" href=\"https://sparkkorea.com/%ed%80%b4%ec%a6%88/\">퀴즈</a></li>\n",
       " <li class=\"menu-item menu-item-type-post_type menu-item-object-page menu-item-264\" id=\"menu-item-264\"><a href=\"https://sparkkorea.com/%ec%84%a4%eb%ac%b8-2/\">설문s</a></li>\n",
       " <li class=\"menu-item menu-item-type-post_type menu-item-object-page menu-item-383\" id=\"menu-item-383\"><a href=\"https://sparkkorea.com/%ed%85%8c%ec%8a%a4%ed%8a%b8/\">테스트</a></li>\n",
       " <li class=\"menu-item menu-item-type-post_type menu-item-object-page menu-item-397\" id=\"menu-item-397\"><a href=\"https://sparkkorea.com/%ec%84%a4%eb%ac%b8/\">학생퀴즈</a></li>\n",
       " </ul></div> </nav>\n",
       " </header><!-- #masthead -->\n",
       " <div class=\"site-inner\">\n",
       " <div class=\"site-content\" id=\"content\">\n",
       " <main class=\"content-area\" id=\"primary\" role=\"main\">\n",
       " <article class=\"post-102 page type-page status-publish hentry\" id=\"post-102\">\n",
       " <div class=\"entry-inner\">\n",
       " <header class=\"entry-header\">\n",
       " <h1 class=\"entry-title\">퀴즈</h1> </header><!-- .entry-header -->\n",
       " <div class=\"entry-content\">\n",
       " <div class=\"class_general_main\" id=\"id_general_main\">\n",
       " <h1> 메인 </h1>\n",
       " <a href=\"#\"> 설문 준비중 </a>\n",
       " <p></p>\n",
       " </div>\n",
       " <div class=\"class_spark_quiz\" id=\"id_spark_quiz\">\n",
       " <h1>Spark 퀴즈 </h1>\n",
       " <a href=\"https://forms.gle/Fw49w9GhWQChDcZm7\"> 6/13 Spark 심화과정 </a>\n",
       " <p></p>\n",
       " <a href=\"https://forms.gle/G4TcXm3fKuHLHA6D6\"> 6/13 Spark 기본과정 </a>\n",
       " <p></p>\n",
       " <a href=\"https://forms.gle/M8gr1kC2ubA3UDVp8\"> 6/18 Spark [MAP_FILTER] </a>\n",
       " <p></p>\n",
       " <a href=\"https://forms.gle/h8w5mZ4MNaPLCPbi6\"> 6/18 Spark GroupBy 심화 </a>\n",
       " <p></p>\n",
       " <a href=\"https://forms.gle/q5yL6QHfueDLM5w27\"> 6/25 Spark RDD 실전 분석 </a>\n",
       " <p></p>\n",
       " <a href=\"https://forms.gle/Gxb4y6LfVYiaLu4M7\"> 6/27 Spark RDD 실전 분석2 </a>\n",
       " <p></p>\n",
       " </div>\n",
       " <div class=\"sharedaddy sd-like-enabled sd-sharing-enabled\" id=\"jp-post-flair\"><div class=\"sharedaddy sd-sharing-enabled\"><div class=\"robots-nocontent sd-block sd-social sd-social-icon-text sd-sharing\"><h3 class=\"sd-title\">이 글 공유하기:</h3><div class=\"sd-content\"><ul><li class=\"share-twitter\"><a class=\"share-twitter sd-button share-icon\" data-shared=\"sharing-twitter-102\" href=\"https://sparkkorea.com/%ed%80%b4%ec%a6%88/?share=twitter\" rel=\"nofollow noopener noreferrer\" target=\"_blank\" title=\"트위터로 공유하기\"><span>트위터</span></a></li><li class=\"share-facebook\"><a class=\"share-facebook sd-button share-icon\" data-shared=\"sharing-facebook-102\" href=\"https://sparkkorea.com/%ed%80%b4%ec%a6%88/?share=facebook\" rel=\"nofollow noopener noreferrer\" target=\"_blank\" title=\"페이스북에 공유하려면 클릭하세요.\"><span>Facebook</span></a></li><li class=\"share-end\"></li></ul></div></div></div><div class=\"sharedaddy sd-block sd-like jetpack-likes-widget-wrapper jetpack-likes-widget-unloaded\" data-name=\"like-post-frame-163927570-102-63b4cf724908d\" data-src=\"//widgets.wp.com/likes/index.html?ver=20220105#blog_id=163927570&amp;post_id=102&amp;origin=sparkkorea.wordpress.com&amp;obj_id=163927570-102-63b4cf724908d&amp;domain=sparkkorea.com\" data-title=\"좋아요 또는 리블로깅\" id=\"like-post-wrapper-163927570-102-63b4cf724908d\"><h3 class=\"sd-title\">이것이 좋아요:</h3><div class=\"likes-widget-placeholder post-likes-widget-placeholder\" style=\"height: 55px;\"><span class=\"button\"><span>좋아하기</span></span> <span class=\"loading\">가져오는 중...</span></div><span class=\"sd-text-color\"></span><a class=\"sd-link-color\"></a></div></div> </div><!-- .entry-content -->\n",
       " </div><!-- .entry-inner -->\n",
       " </article><!-- #post-## -->\n",
       " </main><!-- #main -->\n",
       " </div><!-- #content -->\n",
       " <footer class=\"site-footer\" id=\"colophon\" role=\"contentinfo\">\n",
       " <div class=\"footer-bottom-info\">\n",
       " <div class=\"site-info\">\n",
       " <a href=\"https://wordpress.com/?ref=footer_segment_business\" rel=\"nofollow\">워드프레스닷컴 웹사이트.</a>\n",
       " </div><!-- .site-info -->\n",
       " </div><!-- .footer-bottom-info -->\n",
       " </footer><!-- #colophon -->\n",
       " </div><!-- .site-inner -->\n",
       " </div>,\n",
       " <div class=\"site-branding\">\n",
       " <h1 class=\"site-title\">\n",
       " <a href=\"https://sparkkorea.com/\" rel=\"home\">\n",
       " \t\t\t\t\t스파크 코리아\t\t\t\t</a>\n",
       " </h1>\n",
       " <p class=\"site-description\">스파크코리아 자료공유</p>\n",
       " </div>,\n",
       " <div class=\"primary-menu\"><ul class=\"menu\" id=\"primary-menu\"><li class=\"menu-item menu-item-type-post_type menu-item-object-page menu-item-27\" id=\"menu-item-27\"><a href=\"https://sparkkorea.com/%ec%9e%90%eb%a3%8c%ec%8b%a4/\">자료실</a></li>\n",
       " <li class=\"menu-item menu-item-type-post_type menu-item-object-page current-menu-item page_item page-item-102 current_page_item menu-item-382\" id=\"menu-item-382\"><a aria-current=\"page\" href=\"https://sparkkorea.com/%ed%80%b4%ec%a6%88/\">퀴즈</a></li>\n",
       " <li class=\"menu-item menu-item-type-post_type menu-item-object-page menu-item-264\" id=\"menu-item-264\"><a href=\"https://sparkkorea.com/%ec%84%a4%eb%ac%b8-2/\">설문s</a></li>\n",
       " <li class=\"menu-item menu-item-type-post_type menu-item-object-page menu-item-383\" id=\"menu-item-383\"><a href=\"https://sparkkorea.com/%ed%85%8c%ec%8a%a4%ed%8a%b8/\">테스트</a></li>\n",
       " <li class=\"menu-item menu-item-type-post_type menu-item-object-page menu-item-397\" id=\"menu-item-397\"><a href=\"https://sparkkorea.com/%ec%84%a4%eb%ac%b8/\">학생퀴즈</a></li>\n",
       " </ul></div>,\n",
       " <div class=\"site-inner\">\n",
       " <div class=\"site-content\" id=\"content\">\n",
       " <main class=\"content-area\" id=\"primary\" role=\"main\">\n",
       " <article class=\"post-102 page type-page status-publish hentry\" id=\"post-102\">\n",
       " <div class=\"entry-inner\">\n",
       " <header class=\"entry-header\">\n",
       " <h1 class=\"entry-title\">퀴즈</h1> </header><!-- .entry-header -->\n",
       " <div class=\"entry-content\">\n",
       " <div class=\"class_general_main\" id=\"id_general_main\">\n",
       " <h1> 메인 </h1>\n",
       " <a href=\"#\"> 설문 준비중 </a>\n",
       " <p></p>\n",
       " </div>\n",
       " <div class=\"class_spark_quiz\" id=\"id_spark_quiz\">\n",
       " <h1>Spark 퀴즈 </h1>\n",
       " <a href=\"https://forms.gle/Fw49w9GhWQChDcZm7\"> 6/13 Spark 심화과정 </a>\n",
       " <p></p>\n",
       " <a href=\"https://forms.gle/G4TcXm3fKuHLHA6D6\"> 6/13 Spark 기본과정 </a>\n",
       " <p></p>\n",
       " <a href=\"https://forms.gle/M8gr1kC2ubA3UDVp8\"> 6/18 Spark [MAP_FILTER] </a>\n",
       " <p></p>\n",
       " <a href=\"https://forms.gle/h8w5mZ4MNaPLCPbi6\"> 6/18 Spark GroupBy 심화 </a>\n",
       " <p></p>\n",
       " <a href=\"https://forms.gle/q5yL6QHfueDLM5w27\"> 6/25 Spark RDD 실전 분석 </a>\n",
       " <p></p>\n",
       " <a href=\"https://forms.gle/Gxb4y6LfVYiaLu4M7\"> 6/27 Spark RDD 실전 분석2 </a>\n",
       " <p></p>\n",
       " </div>\n",
       " <div class=\"sharedaddy sd-like-enabled sd-sharing-enabled\" id=\"jp-post-flair\"><div class=\"sharedaddy sd-sharing-enabled\"><div class=\"robots-nocontent sd-block sd-social sd-social-icon-text sd-sharing\"><h3 class=\"sd-title\">이 글 공유하기:</h3><div class=\"sd-content\"><ul><li class=\"share-twitter\"><a class=\"share-twitter sd-button share-icon\" data-shared=\"sharing-twitter-102\" href=\"https://sparkkorea.com/%ed%80%b4%ec%a6%88/?share=twitter\" rel=\"nofollow noopener noreferrer\" target=\"_blank\" title=\"트위터로 공유하기\"><span>트위터</span></a></li><li class=\"share-facebook\"><a class=\"share-facebook sd-button share-icon\" data-shared=\"sharing-facebook-102\" href=\"https://sparkkorea.com/%ed%80%b4%ec%a6%88/?share=facebook\" rel=\"nofollow noopener noreferrer\" target=\"_blank\" title=\"페이스북에 공유하려면 클릭하세요.\"><span>Facebook</span></a></li><li class=\"share-end\"></li></ul></div></div></div><div class=\"sharedaddy sd-block sd-like jetpack-likes-widget-wrapper jetpack-likes-widget-unloaded\" data-name=\"like-post-frame-163927570-102-63b4cf724908d\" data-src=\"//widgets.wp.com/likes/index.html?ver=20220105#blog_id=163927570&amp;post_id=102&amp;origin=sparkkorea.wordpress.com&amp;obj_id=163927570-102-63b4cf724908d&amp;domain=sparkkorea.com\" data-title=\"좋아요 또는 리블로깅\" id=\"like-post-wrapper-163927570-102-63b4cf724908d\"><h3 class=\"sd-title\">이것이 좋아요:</h3><div class=\"likes-widget-placeholder post-likes-widget-placeholder\" style=\"height: 55px;\"><span class=\"button\"><span>좋아하기</span></span> <span class=\"loading\">가져오는 중...</span></div><span class=\"sd-text-color\"></span><a class=\"sd-link-color\"></a></div></div> </div><!-- .entry-content -->\n",
       " </div><!-- .entry-inner -->\n",
       " </article><!-- #post-## -->\n",
       " </main><!-- #main -->\n",
       " </div><!-- #content -->\n",
       " <footer class=\"site-footer\" id=\"colophon\" role=\"contentinfo\">\n",
       " <div class=\"footer-bottom-info\">\n",
       " <div class=\"site-info\">\n",
       " <a href=\"https://wordpress.com/?ref=footer_segment_business\" rel=\"nofollow\">워드프레스닷컴 웹사이트.</a>\n",
       " </div><!-- .site-info -->\n",
       " </div><!-- .footer-bottom-info -->\n",
       " </footer><!-- #colophon -->\n",
       " </div>,\n",
       " <div class=\"site-content\" id=\"content\">\n",
       " <main class=\"content-area\" id=\"primary\" role=\"main\">\n",
       " <article class=\"post-102 page type-page status-publish hentry\" id=\"post-102\">\n",
       " <div class=\"entry-inner\">\n",
       " <header class=\"entry-header\">\n",
       " <h1 class=\"entry-title\">퀴즈</h1> </header><!-- .entry-header -->\n",
       " <div class=\"entry-content\">\n",
       " <div class=\"class_general_main\" id=\"id_general_main\">\n",
       " <h1> 메인 </h1>\n",
       " <a href=\"#\"> 설문 준비중 </a>\n",
       " <p></p>\n",
       " </div>\n",
       " <div class=\"class_spark_quiz\" id=\"id_spark_quiz\">\n",
       " <h1>Spark 퀴즈 </h1>\n",
       " <a href=\"https://forms.gle/Fw49w9GhWQChDcZm7\"> 6/13 Spark 심화과정 </a>\n",
       " <p></p>\n",
       " <a href=\"https://forms.gle/G4TcXm3fKuHLHA6D6\"> 6/13 Spark 기본과정 </a>\n",
       " <p></p>\n",
       " <a href=\"https://forms.gle/M8gr1kC2ubA3UDVp8\"> 6/18 Spark [MAP_FILTER] </a>\n",
       " <p></p>\n",
       " <a href=\"https://forms.gle/h8w5mZ4MNaPLCPbi6\"> 6/18 Spark GroupBy 심화 </a>\n",
       " <p></p>\n",
       " <a href=\"https://forms.gle/q5yL6QHfueDLM5w27\"> 6/25 Spark RDD 실전 분석 </a>\n",
       " <p></p>\n",
       " <a href=\"https://forms.gle/Gxb4y6LfVYiaLu4M7\"> 6/27 Spark RDD 실전 분석2 </a>\n",
       " <p></p>\n",
       " </div>\n",
       " <div class=\"sharedaddy sd-like-enabled sd-sharing-enabled\" id=\"jp-post-flair\"><div class=\"sharedaddy sd-sharing-enabled\"><div class=\"robots-nocontent sd-block sd-social sd-social-icon-text sd-sharing\"><h3 class=\"sd-title\">이 글 공유하기:</h3><div class=\"sd-content\"><ul><li class=\"share-twitter\"><a class=\"share-twitter sd-button share-icon\" data-shared=\"sharing-twitter-102\" href=\"https://sparkkorea.com/%ed%80%b4%ec%a6%88/?share=twitter\" rel=\"nofollow noopener noreferrer\" target=\"_blank\" title=\"트위터로 공유하기\"><span>트위터</span></a></li><li class=\"share-facebook\"><a class=\"share-facebook sd-button share-icon\" data-shared=\"sharing-facebook-102\" href=\"https://sparkkorea.com/%ed%80%b4%ec%a6%88/?share=facebook\" rel=\"nofollow noopener noreferrer\" target=\"_blank\" title=\"페이스북에 공유하려면 클릭하세요.\"><span>Facebook</span></a></li><li class=\"share-end\"></li></ul></div></div></div><div class=\"sharedaddy sd-block sd-like jetpack-likes-widget-wrapper jetpack-likes-widget-unloaded\" data-name=\"like-post-frame-163927570-102-63b4cf724908d\" data-src=\"//widgets.wp.com/likes/index.html?ver=20220105#blog_id=163927570&amp;post_id=102&amp;origin=sparkkorea.wordpress.com&amp;obj_id=163927570-102-63b4cf724908d&amp;domain=sparkkorea.com\" data-title=\"좋아요 또는 리블로깅\" id=\"like-post-wrapper-163927570-102-63b4cf724908d\"><h3 class=\"sd-title\">이것이 좋아요:</h3><div class=\"likes-widget-placeholder post-likes-widget-placeholder\" style=\"height: 55px;\"><span class=\"button\"><span>좋아하기</span></span> <span class=\"loading\">가져오는 중...</span></div><span class=\"sd-text-color\"></span><a class=\"sd-link-color\"></a></div></div> </div><!-- .entry-content -->\n",
       " </div><!-- .entry-inner -->\n",
       " </article><!-- #post-## -->\n",
       " </main><!-- #main -->\n",
       " </div>,\n",
       " <div class=\"entry-inner\">\n",
       " <header class=\"entry-header\">\n",
       " <h1 class=\"entry-title\">퀴즈</h1> </header><!-- .entry-header -->\n",
       " <div class=\"entry-content\">\n",
       " <div class=\"class_general_main\" id=\"id_general_main\">\n",
       " <h1> 메인 </h1>\n",
       " <a href=\"#\"> 설문 준비중 </a>\n",
       " <p></p>\n",
       " </div>\n",
       " <div class=\"class_spark_quiz\" id=\"id_spark_quiz\">\n",
       " <h1>Spark 퀴즈 </h1>\n",
       " <a href=\"https://forms.gle/Fw49w9GhWQChDcZm7\"> 6/13 Spark 심화과정 </a>\n",
       " <p></p>\n",
       " <a href=\"https://forms.gle/G4TcXm3fKuHLHA6D6\"> 6/13 Spark 기본과정 </a>\n",
       " <p></p>\n",
       " <a href=\"https://forms.gle/M8gr1kC2ubA3UDVp8\"> 6/18 Spark [MAP_FILTER] </a>\n",
       " <p></p>\n",
       " <a href=\"https://forms.gle/h8w5mZ4MNaPLCPbi6\"> 6/18 Spark GroupBy 심화 </a>\n",
       " <p></p>\n",
       " <a href=\"https://forms.gle/q5yL6QHfueDLM5w27\"> 6/25 Spark RDD 실전 분석 </a>\n",
       " <p></p>\n",
       " <a href=\"https://forms.gle/Gxb4y6LfVYiaLu4M7\"> 6/27 Spark RDD 실전 분석2 </a>\n",
       " <p></p>\n",
       " </div>\n",
       " <div class=\"sharedaddy sd-like-enabled sd-sharing-enabled\" id=\"jp-post-flair\"><div class=\"sharedaddy sd-sharing-enabled\"><div class=\"robots-nocontent sd-block sd-social sd-social-icon-text sd-sharing\"><h3 class=\"sd-title\">이 글 공유하기:</h3><div class=\"sd-content\"><ul><li class=\"share-twitter\"><a class=\"share-twitter sd-button share-icon\" data-shared=\"sharing-twitter-102\" href=\"https://sparkkorea.com/%ed%80%b4%ec%a6%88/?share=twitter\" rel=\"nofollow noopener noreferrer\" target=\"_blank\" title=\"트위터로 공유하기\"><span>트위터</span></a></li><li class=\"share-facebook\"><a class=\"share-facebook sd-button share-icon\" data-shared=\"sharing-facebook-102\" href=\"https://sparkkorea.com/%ed%80%b4%ec%a6%88/?share=facebook\" rel=\"nofollow noopener noreferrer\" target=\"_blank\" title=\"페이스북에 공유하려면 클릭하세요.\"><span>Facebook</span></a></li><li class=\"share-end\"></li></ul></div></div></div><div class=\"sharedaddy sd-block sd-like jetpack-likes-widget-wrapper jetpack-likes-widget-unloaded\" data-name=\"like-post-frame-163927570-102-63b4cf724908d\" data-src=\"//widgets.wp.com/likes/index.html?ver=20220105#blog_id=163927570&amp;post_id=102&amp;origin=sparkkorea.wordpress.com&amp;obj_id=163927570-102-63b4cf724908d&amp;domain=sparkkorea.com\" data-title=\"좋아요 또는 리블로깅\" id=\"like-post-wrapper-163927570-102-63b4cf724908d\"><h3 class=\"sd-title\">이것이 좋아요:</h3><div class=\"likes-widget-placeholder post-likes-widget-placeholder\" style=\"height: 55px;\"><span class=\"button\"><span>좋아하기</span></span> <span class=\"loading\">가져오는 중...</span></div><span class=\"sd-text-color\"></span><a class=\"sd-link-color\"></a></div></div> </div><!-- .entry-content -->\n",
       " </div>,\n",
       " <div class=\"entry-content\">\n",
       " <div class=\"class_general_main\" id=\"id_general_main\">\n",
       " <h1> 메인 </h1>\n",
       " <a href=\"#\"> 설문 준비중 </a>\n",
       " <p></p>\n",
       " </div>\n",
       " <div class=\"class_spark_quiz\" id=\"id_spark_quiz\">\n",
       " <h1>Spark 퀴즈 </h1>\n",
       " <a href=\"https://forms.gle/Fw49w9GhWQChDcZm7\"> 6/13 Spark 심화과정 </a>\n",
       " <p></p>\n",
       " <a href=\"https://forms.gle/G4TcXm3fKuHLHA6D6\"> 6/13 Spark 기본과정 </a>\n",
       " <p></p>\n",
       " <a href=\"https://forms.gle/M8gr1kC2ubA3UDVp8\"> 6/18 Spark [MAP_FILTER] </a>\n",
       " <p></p>\n",
       " <a href=\"https://forms.gle/h8w5mZ4MNaPLCPbi6\"> 6/18 Spark GroupBy 심화 </a>\n",
       " <p></p>\n",
       " <a href=\"https://forms.gle/q5yL6QHfueDLM5w27\"> 6/25 Spark RDD 실전 분석 </a>\n",
       " <p></p>\n",
       " <a href=\"https://forms.gle/Gxb4y6LfVYiaLu4M7\"> 6/27 Spark RDD 실전 분석2 </a>\n",
       " <p></p>\n",
       " </div>\n",
       " <div class=\"sharedaddy sd-like-enabled sd-sharing-enabled\" id=\"jp-post-flair\"><div class=\"sharedaddy sd-sharing-enabled\"><div class=\"robots-nocontent sd-block sd-social sd-social-icon-text sd-sharing\"><h3 class=\"sd-title\">이 글 공유하기:</h3><div class=\"sd-content\"><ul><li class=\"share-twitter\"><a class=\"share-twitter sd-button share-icon\" data-shared=\"sharing-twitter-102\" href=\"https://sparkkorea.com/%ed%80%b4%ec%a6%88/?share=twitter\" rel=\"nofollow noopener noreferrer\" target=\"_blank\" title=\"트위터로 공유하기\"><span>트위터</span></a></li><li class=\"share-facebook\"><a class=\"share-facebook sd-button share-icon\" data-shared=\"sharing-facebook-102\" href=\"https://sparkkorea.com/%ed%80%b4%ec%a6%88/?share=facebook\" rel=\"nofollow noopener noreferrer\" target=\"_blank\" title=\"페이스북에 공유하려면 클릭하세요.\"><span>Facebook</span></a></li><li class=\"share-end\"></li></ul></div></div></div><div class=\"sharedaddy sd-block sd-like jetpack-likes-widget-wrapper jetpack-likes-widget-unloaded\" data-name=\"like-post-frame-163927570-102-63b4cf724908d\" data-src=\"//widgets.wp.com/likes/index.html?ver=20220105#blog_id=163927570&amp;post_id=102&amp;origin=sparkkorea.wordpress.com&amp;obj_id=163927570-102-63b4cf724908d&amp;domain=sparkkorea.com\" data-title=\"좋아요 또는 리블로깅\" id=\"like-post-wrapper-163927570-102-63b4cf724908d\"><h3 class=\"sd-title\">이것이 좋아요:</h3><div class=\"likes-widget-placeholder post-likes-widget-placeholder\" style=\"height: 55px;\"><span class=\"button\"><span>좋아하기</span></span> <span class=\"loading\">가져오는 중...</span></div><span class=\"sd-text-color\"></span><a class=\"sd-link-color\"></a></div></div> </div>,\n",
       " <div class=\"class_general_main\" id=\"id_general_main\">\n",
       " <h1> 메인 </h1>\n",
       " <a href=\"#\"> 설문 준비중 </a>\n",
       " <p></p>\n",
       " </div>,\n",
       " <div class=\"class_spark_quiz\" id=\"id_spark_quiz\">\n",
       " <h1>Spark 퀴즈 </h1>\n",
       " <a href=\"https://forms.gle/Fw49w9GhWQChDcZm7\"> 6/13 Spark 심화과정 </a>\n",
       " <p></p>\n",
       " <a href=\"https://forms.gle/G4TcXm3fKuHLHA6D6\"> 6/13 Spark 기본과정 </a>\n",
       " <p></p>\n",
       " <a href=\"https://forms.gle/M8gr1kC2ubA3UDVp8\"> 6/18 Spark [MAP_FILTER] </a>\n",
       " <p></p>\n",
       " <a href=\"https://forms.gle/h8w5mZ4MNaPLCPbi6\"> 6/18 Spark GroupBy 심화 </a>\n",
       " <p></p>\n",
       " <a href=\"https://forms.gle/q5yL6QHfueDLM5w27\"> 6/25 Spark RDD 실전 분석 </a>\n",
       " <p></p>\n",
       " <a href=\"https://forms.gle/Gxb4y6LfVYiaLu4M7\"> 6/27 Spark RDD 실전 분석2 </a>\n",
       " <p></p>\n",
       " </div>,\n",
       " <div class=\"sharedaddy sd-like-enabled sd-sharing-enabled\" id=\"jp-post-flair\"><div class=\"sharedaddy sd-sharing-enabled\"><div class=\"robots-nocontent sd-block sd-social sd-social-icon-text sd-sharing\"><h3 class=\"sd-title\">이 글 공유하기:</h3><div class=\"sd-content\"><ul><li class=\"share-twitter\"><a class=\"share-twitter sd-button share-icon\" data-shared=\"sharing-twitter-102\" href=\"https://sparkkorea.com/%ed%80%b4%ec%a6%88/?share=twitter\" rel=\"nofollow noopener noreferrer\" target=\"_blank\" title=\"트위터로 공유하기\"><span>트위터</span></a></li><li class=\"share-facebook\"><a class=\"share-facebook sd-button share-icon\" data-shared=\"sharing-facebook-102\" href=\"https://sparkkorea.com/%ed%80%b4%ec%a6%88/?share=facebook\" rel=\"nofollow noopener noreferrer\" target=\"_blank\" title=\"페이스북에 공유하려면 클릭하세요.\"><span>Facebook</span></a></li><li class=\"share-end\"></li></ul></div></div></div><div class=\"sharedaddy sd-block sd-like jetpack-likes-widget-wrapper jetpack-likes-widget-unloaded\" data-name=\"like-post-frame-163927570-102-63b4cf724908d\" data-src=\"//widgets.wp.com/likes/index.html?ver=20220105#blog_id=163927570&amp;post_id=102&amp;origin=sparkkorea.wordpress.com&amp;obj_id=163927570-102-63b4cf724908d&amp;domain=sparkkorea.com\" data-title=\"좋아요 또는 리블로깅\" id=\"like-post-wrapper-163927570-102-63b4cf724908d\"><h3 class=\"sd-title\">이것이 좋아요:</h3><div class=\"likes-widget-placeholder post-likes-widget-placeholder\" style=\"height: 55px;\"><span class=\"button\"><span>좋아하기</span></span> <span class=\"loading\">가져오는 중...</span></div><span class=\"sd-text-color\"></span><a class=\"sd-link-color\"></a></div></div>,\n",
       " <div class=\"sharedaddy sd-sharing-enabled\"><div class=\"robots-nocontent sd-block sd-social sd-social-icon-text sd-sharing\"><h3 class=\"sd-title\">이 글 공유하기:</h3><div class=\"sd-content\"><ul><li class=\"share-twitter\"><a class=\"share-twitter sd-button share-icon\" data-shared=\"sharing-twitter-102\" href=\"https://sparkkorea.com/%ed%80%b4%ec%a6%88/?share=twitter\" rel=\"nofollow noopener noreferrer\" target=\"_blank\" title=\"트위터로 공유하기\"><span>트위터</span></a></li><li class=\"share-facebook\"><a class=\"share-facebook sd-button share-icon\" data-shared=\"sharing-facebook-102\" href=\"https://sparkkorea.com/%ed%80%b4%ec%a6%88/?share=facebook\" rel=\"nofollow noopener noreferrer\" target=\"_blank\" title=\"페이스북에 공유하려면 클릭하세요.\"><span>Facebook</span></a></li><li class=\"share-end\"></li></ul></div></div></div>,\n",
       " <div class=\"robots-nocontent sd-block sd-social sd-social-icon-text sd-sharing\"><h3 class=\"sd-title\">이 글 공유하기:</h3><div class=\"sd-content\"><ul><li class=\"share-twitter\"><a class=\"share-twitter sd-button share-icon\" data-shared=\"sharing-twitter-102\" href=\"https://sparkkorea.com/%ed%80%b4%ec%a6%88/?share=twitter\" rel=\"nofollow noopener noreferrer\" target=\"_blank\" title=\"트위터로 공유하기\"><span>트위터</span></a></li><li class=\"share-facebook\"><a class=\"share-facebook sd-button share-icon\" data-shared=\"sharing-facebook-102\" href=\"https://sparkkorea.com/%ed%80%b4%ec%a6%88/?share=facebook\" rel=\"nofollow noopener noreferrer\" target=\"_blank\" title=\"페이스북에 공유하려면 클릭하세요.\"><span>Facebook</span></a></li><li class=\"share-end\"></li></ul></div></div>,\n",
       " <div class=\"sd-content\"><ul><li class=\"share-twitter\"><a class=\"share-twitter sd-button share-icon\" data-shared=\"sharing-twitter-102\" href=\"https://sparkkorea.com/%ed%80%b4%ec%a6%88/?share=twitter\" rel=\"nofollow noopener noreferrer\" target=\"_blank\" title=\"트위터로 공유하기\"><span>트위터</span></a></li><li class=\"share-facebook\"><a class=\"share-facebook sd-button share-icon\" data-shared=\"sharing-facebook-102\" href=\"https://sparkkorea.com/%ed%80%b4%ec%a6%88/?share=facebook\" rel=\"nofollow noopener noreferrer\" target=\"_blank\" title=\"페이스북에 공유하려면 클릭하세요.\"><span>Facebook</span></a></li><li class=\"share-end\"></li></ul></div>,\n",
       " <div class=\"sharedaddy sd-block sd-like jetpack-likes-widget-wrapper jetpack-likes-widget-unloaded\" data-name=\"like-post-frame-163927570-102-63b4cf724908d\" data-src=\"//widgets.wp.com/likes/index.html?ver=20220105#blog_id=163927570&amp;post_id=102&amp;origin=sparkkorea.wordpress.com&amp;obj_id=163927570-102-63b4cf724908d&amp;domain=sparkkorea.com\" data-title=\"좋아요 또는 리블로깅\" id=\"like-post-wrapper-163927570-102-63b4cf724908d\"><h3 class=\"sd-title\">이것이 좋아요:</h3><div class=\"likes-widget-placeholder post-likes-widget-placeholder\" style=\"height: 55px;\"><span class=\"button\"><span>좋아하기</span></span> <span class=\"loading\">가져오는 중...</span></div><span class=\"sd-text-color\"></span><a class=\"sd-link-color\"></a></div>,\n",
       " <div class=\"likes-widget-placeholder post-likes-widget-placeholder\" style=\"height: 55px;\"><span class=\"button\"><span>좋아하기</span></span> <span class=\"loading\">가져오는 중...</span></div>,\n",
       " <div class=\"footer-bottom-info\">\n",
       " <div class=\"site-info\">\n",
       " <a href=\"https://wordpress.com/?ref=footer_segment_business\" rel=\"nofollow\">워드프레스닷컴 웹사이트.</a>\n",
       " </div><!-- .site-info -->\n",
       " </div>,\n",
       " <div class=\"site-info\">\n",
       " <a href=\"https://wordpress.com/?ref=footer_segment_business\" rel=\"nofollow\">워드프레스닷컴 웹사이트.</a>\n",
       " </div>,\n",
       " <div style=\"display:none\">\n",
       " </div>,\n",
       " <div class=\"actnbr-pub-dyad-2 actnbr-has-follow\" id=\"actionbar\" style=\"display: none;\">\n",
       " <ul>\n",
       " <li class=\"actnbr-ellipsis actnbr-hidden\">\n",
       " <svg class=\"gridicon gridicons-ellipsis\" height=\"24\" viewbox=\"0 0 24 24\" width=\"24\" xmlns=\"http://www.w3.org/2000/svg\"><g><path d=\"M7 12c0 1.104-.896 2-2 2s-2-.896-2-2 .896-2 2-2 2 .896 2 2zm12-2c-1.104 0-2 .896-2 2s.896 2 2 2 2-.896 2-2-.896-2-2-2zm-7 0c-1.104 0-2 .896-2 2s.896 2 2 2 2-.896 2-2-.896-2-2-2z\"></path></g></svg> <div class=\"actnbr-popover tip tip-top-left actnbr-more\">\n",
       " <div class=\"tip-arrow\"></div>\n",
       " <div class=\"tip-inner\">\n",
       " <ul>\n",
       " <li class=\"actnbr-sitename\">\n",
       " <a href=\"https://sparkkorea.com\">\n",
       " <img alt=\"\" class=\"avatar avatar-50\" height=\"50\" src=\"https://s2.wp.com/i/logo/wpcom-gray-white.png\" width=\"50\"/>\t\t\t\t스파크 코리아\t\t\t</a>\n",
       " </li>\n",
       " <li class=\"actnbr-folded-customize\">\n",
       " <a href=\"https://sparkkorea.wordpress.com/wp-admin/customize.php?url=https%3A%2F%2Fsparkkorea.wordpress.com%2F%25ED%2580%25B4%25EC%25A6%2588%2F\">\n",
       " <svg class=\"gridicon gridicons-customize\" height=\"20\" viewbox=\"0 0 24 24\" width=\"20\" xmlns=\"http://www.w3.org/2000/svg\"><g><path d=\"M2 6c0-1.505.78-3.08 2-4 0 .845.69 2 2 2 1.657 0 3 1.343 3 3 0 .386-.08.752-.212 1.09.74.594 1.476 1.19 2.19 1.81L8.9 11.98c-.62-.716-1.214-1.454-1.807-2.192C6.753 9.92 6.387 10 6 10c-2.21 0-4-1.79-4-4zm12.152 6.848l1.34-1.34c.607.304 1.283.492 2.008.492 2.485 0 4.5-2.015 4.5-4.5 0-.725-.188-1.4-.493-2.007L18 9l-2-2 3.507-3.507C18.9 3.188 18.225 3 17.5 3 15.015 3 13 5.015 13 7.5c0 .725.188 1.4.493 2.007L3 20l2 2 6.848-6.848c1.885 1.928 3.874 3.753 5.977 5.45l1.425 1.148 1.5-1.5-1.15-1.425c-1.695-2.103-3.52-4.092-5.448-5.977z\"></path></g></svg> <span>사용자 정의하기</span>\n",
       " </a>\n",
       " </li>\n",
       " <li class=\"actnbr-signup\"><a href=\"https://wordpress.com/start/\">가입</a></li>\n",
       " <li class=\"actnbr-login\"><a href=\"https://wordpress.com/log-in?redirect_to=https%3A%2F%2Fr-login.wordpress.com%2Fremote-login.php%3Faction%3Dlink%26back%3Dhttps%253A%252F%252Fsparkkorea.com%252F%2525ed%252580%2525b4%2525ec%2525a6%252588%252F\">로그인</a></li>\n",
       " <li class=\"actnbr-shortlink\"><a href=\"https://wp.me/Pb5P34-1E\">단축 링크 복사</a></li>\n",
       " <li class=\"flb-report\"><a href=\"http://en.wordpress.com/abuse/\">이 콘텐츠 신고하기</a></li>\n",
       " <li class=\"actnbr-subs\">\n",
       " <a href=\"https://subscribe.wordpress.com/\">구독 관리</a>\n",
       " </li>\n",
       " </ul>\n",
       " </div>\n",
       " </div>\n",
       " </li>\n",
       " </ul>\n",
       " </div>,\n",
       " <div class=\"actnbr-popover tip tip-top-left actnbr-more\">\n",
       " <div class=\"tip-arrow\"></div>\n",
       " <div class=\"tip-inner\">\n",
       " <ul>\n",
       " <li class=\"actnbr-sitename\">\n",
       " <a href=\"https://sparkkorea.com\">\n",
       " <img alt=\"\" class=\"avatar avatar-50\" height=\"50\" src=\"https://s2.wp.com/i/logo/wpcom-gray-white.png\" width=\"50\"/>\t\t\t\t스파크 코리아\t\t\t</a>\n",
       " </li>\n",
       " <li class=\"actnbr-folded-customize\">\n",
       " <a href=\"https://sparkkorea.wordpress.com/wp-admin/customize.php?url=https%3A%2F%2Fsparkkorea.wordpress.com%2F%25ED%2580%25B4%25EC%25A6%2588%2F\">\n",
       " <svg class=\"gridicon gridicons-customize\" height=\"20\" viewbox=\"0 0 24 24\" width=\"20\" xmlns=\"http://www.w3.org/2000/svg\"><g><path d=\"M2 6c0-1.505.78-3.08 2-4 0 .845.69 2 2 2 1.657 0 3 1.343 3 3 0 .386-.08.752-.212 1.09.74.594 1.476 1.19 2.19 1.81L8.9 11.98c-.62-.716-1.214-1.454-1.807-2.192C6.753 9.92 6.387 10 6 10c-2.21 0-4-1.79-4-4zm12.152 6.848l1.34-1.34c.607.304 1.283.492 2.008.492 2.485 0 4.5-2.015 4.5-4.5 0-.725-.188-1.4-.493-2.007L18 9l-2-2 3.507-3.507C18.9 3.188 18.225 3 17.5 3 15.015 3 13 5.015 13 7.5c0 .725.188 1.4.493 2.007L3 20l2 2 6.848-6.848c1.885 1.928 3.874 3.753 5.977 5.45l1.425 1.148 1.5-1.5-1.15-1.425c-1.695-2.103-3.52-4.092-5.448-5.977z\"></path></g></svg> <span>사용자 정의하기</span>\n",
       " </a>\n",
       " </li>\n",
       " <li class=\"actnbr-signup\"><a href=\"https://wordpress.com/start/\">가입</a></li>\n",
       " <li class=\"actnbr-login\"><a href=\"https://wordpress.com/log-in?redirect_to=https%3A%2F%2Fr-login.wordpress.com%2Fremote-login.php%3Faction%3Dlink%26back%3Dhttps%253A%252F%252Fsparkkorea.com%252F%2525ed%252580%2525b4%2525ec%2525a6%252588%252F\">로그인</a></li>\n",
       " <li class=\"actnbr-shortlink\"><a href=\"https://wp.me/Pb5P34-1E\">단축 링크 복사</a></li>\n",
       " <li class=\"flb-report\"><a href=\"http://en.wordpress.com/abuse/\">이 콘텐츠 신고하기</a></li>\n",
       " <li class=\"actnbr-subs\">\n",
       " <a href=\"https://subscribe.wordpress.com/\">구독 관리</a>\n",
       " </li>\n",
       " </ul>\n",
       " </div>\n",
       " </div>,\n",
       " <div class=\"tip-arrow\"></div>,\n",
       " <div class=\"tip-inner\">\n",
       " <ul>\n",
       " <li class=\"actnbr-sitename\">\n",
       " <a href=\"https://sparkkorea.com\">\n",
       " <img alt=\"\" class=\"avatar avatar-50\" height=\"50\" src=\"https://s2.wp.com/i/logo/wpcom-gray-white.png\" width=\"50\"/>\t\t\t\t스파크 코리아\t\t\t</a>\n",
       " </li>\n",
       " <li class=\"actnbr-folded-customize\">\n",
       " <a href=\"https://sparkkorea.wordpress.com/wp-admin/customize.php?url=https%3A%2F%2Fsparkkorea.wordpress.com%2F%25ED%2580%25B4%25EC%25A6%2588%2F\">\n",
       " <svg class=\"gridicon gridicons-customize\" height=\"20\" viewbox=\"0 0 24 24\" width=\"20\" xmlns=\"http://www.w3.org/2000/svg\"><g><path d=\"M2 6c0-1.505.78-3.08 2-4 0 .845.69 2 2 2 1.657 0 3 1.343 3 3 0 .386-.08.752-.212 1.09.74.594 1.476 1.19 2.19 1.81L8.9 11.98c-.62-.716-1.214-1.454-1.807-2.192C6.753 9.92 6.387 10 6 10c-2.21 0-4-1.79-4-4zm12.152 6.848l1.34-1.34c.607.304 1.283.492 2.008.492 2.485 0 4.5-2.015 4.5-4.5 0-.725-.188-1.4-.493-2.007L18 9l-2-2 3.507-3.507C18.9 3.188 18.225 3 17.5 3 15.015 3 13 5.015 13 7.5c0 .725.188 1.4.493 2.007L3 20l2 2 6.848-6.848c1.885 1.928 3.874 3.753 5.977 5.45l1.425 1.148 1.5-1.5-1.15-1.425c-1.695-2.103-3.52-4.092-5.448-5.977z\"></path></g></svg> <span>사용자 정의하기</span>\n",
       " </a>\n",
       " </li>\n",
       " <li class=\"actnbr-signup\"><a href=\"https://wordpress.com/start/\">가입</a></li>\n",
       " <li class=\"actnbr-login\"><a href=\"https://wordpress.com/log-in?redirect_to=https%3A%2F%2Fr-login.wordpress.com%2Fremote-login.php%3Faction%3Dlink%26back%3Dhttps%253A%252F%252Fsparkkorea.com%252F%2525ed%252580%2525b4%2525ec%2525a6%252588%252F\">로그인</a></li>\n",
       " <li class=\"actnbr-shortlink\"><a href=\"https://wp.me/Pb5P34-1E\">단축 링크 복사</a></li>\n",
       " <li class=\"flb-report\"><a href=\"http://en.wordpress.com/abuse/\">이 콘텐츠 신고하기</a></li>\n",
       " <li class=\"actnbr-subs\">\n",
       " <a href=\"https://subscribe.wordpress.com/\">구독 관리</a>\n",
       " </li>\n",
       " </ul>\n",
       " </div>,\n",
       " <div id=\"likes-other-gravatars\">\n",
       " <div class=\"likes-text\">\n",
       " <span>%d</span> 블로거가 이것을 좋아합니다:\t\t</div>\n",
       " <ul class=\"wpl-avatars sd-like-gravatars\"></ul>\n",
       " </div>,\n",
       " <div class=\"likes-text\">\n",
       " <span>%d</span> 블로거가 이것을 좋아합니다:\t\t</div>]"
      ]
     },
     "execution_count": 46,
     "metadata": {},
     "output_type": "execute_result"
    }
   ],
   "source": [
    "divtags = bsobj.findAll(name = \"div\")\n",
    "divtags"
   ]
  },
  {
   "cell_type": "code",
   "execution_count": 40,
   "id": "2aa34c9e-7852-45e2-aaba-ac5f8a64005a",
   "metadata": {},
   "outputs": [
    {
     "data": {
      "text/plain": [
       "[<div class=\"class_spark_quiz\" id=\"id_spark_quiz\">\n",
       " <h1>Spark 퀴즈 </h1>\n",
       " <a href=\"https://forms.gle/Fw49w9GhWQChDcZm7\"> 6/13 Spark 심화과정 </a>\n",
       " <p></p>\n",
       " <a href=\"https://forms.gle/G4TcXm3fKuHLHA6D6\"> 6/13 Spark 기본과정 </a>\n",
       " <p></p>\n",
       " <a href=\"https://forms.gle/M8gr1kC2ubA3UDVp8\"> 6/18 Spark [MAP_FILTER] </a>\n",
       " <p></p>\n",
       " <a href=\"https://forms.gle/h8w5mZ4MNaPLCPbi6\"> 6/18 Spark GroupBy 심화 </a>\n",
       " <p></p>\n",
       " <a href=\"https://forms.gle/q5yL6QHfueDLM5w27\"> 6/25 Spark RDD 실전 분석 </a>\n",
       " <p></p>\n",
       " <a href=\"https://forms.gle/Gxb4y6LfVYiaLu4M7\"> 6/27 Spark RDD 실전 분석2 </a>\n",
       " <p></p>\n",
       " </div>]"
      ]
     },
     "execution_count": 40,
     "metadata": {},
     "output_type": "execute_result"
    }
   ],
   "source": [
    "# 태그 속성정보로 소스 수집하기\n",
    "divs = bsobj.findAll(name=\"div\", attrs={\"id\":\"id_spark_quiz\"})  #딕셔너리로 찾음\n",
    "divs"
   ]
  },
  {
   "cell_type": "code",
   "execution_count": 41,
   "id": "f2632cfb-26d2-469f-bee6-e5ea1f61b986",
   "metadata": {},
   "outputs": [
    {
     "ename": "SyntaxError",
     "evalue": "invalid syntax (3727353099.py, line 3)",
     "output_type": "error",
     "traceback": [
      "\u001b[1;36m  File \u001b[1;32m\"C:\\Users\\PC17\\AppData\\Local\\Temp\\ipykernel_11128\\3727353099.py\"\u001b[1;36m, line \u001b[1;32m3\u001b[0m\n\u001b[1;33m    retrun htmlvalue\u001b[0m\n\u001b[1;37m           ^\u001b[0m\n\u001b[1;31mSyntaxError\u001b[0m\u001b[1;31m:\u001b[0m invalid syntax\n"
     ]
    }
   ],
   "source": [
    "# 함수로 묻으면....ㅋㅋ\n",
    "def findAll(name, attrs):\n",
    "    #로직....\n",
    "    retrun htmlvalue"
   ]
  },
  {
   "cell_type": "code",
   "execution_count": 48,
   "id": "875034ae-3a34-4bfe-8f46-234fa0ad595f",
   "metadata": {},
   "outputs": [
    {
     "data": {
      "text/plain": [
       "[<div class=\"class_general_main\" id=\"id_general_main\">\n",
       " <h1> 메인 </h1>\n",
       " <a href=\"#\"> 설문 준비중 </a>\n",
       " <p></p>\n",
       " </div>]"
      ]
     },
     "execution_count": 48,
     "metadata": {},
     "output_type": "execute_result"
    }
   ],
   "source": [
    "divs1 = bsobj.findAll(name=\"div\", attrs={\"id\":\"id_general_main\"})\n",
    "divs1"
   ]
  },
  {
   "cell_type": "code",
   "execution_count": 49,
   "id": "d4d5aa5c-5a0f-4f01-946c-b915decd78c4",
   "metadata": {},
   "outputs": [
    {
     "data": {
      "text/plain": [
       "[<li class=\"actnbr-subs\">\n",
       " <a href=\"https://subscribe.wordpress.com/\">구독 관리</a>\n",
       " </li>]"
      ]
     },
     "execution_count": 49,
     "metadata": {},
     "output_type": "execute_result"
    }
   ],
   "source": [
    "divs2 = bsobj.findAll(name=\"li\", attrs={\"class\":\"actnbr-subs\"})\n",
    "divs2"
   ]
  },
  {
   "cell_type": "markdown",
   "id": "09392d31-3fe8-4abf-b8a9-88949d9193f5",
   "metadata": {},
   "source": [
    "### * 태그 내 부분태그 소스 수집하기\n",
    "1. find로 범위를 좁혀서 찾고\n",
    "2. 마지막은 findAll로 찾는게 좋음"
   ]
  },
  {
   "cell_type": "code",
   "execution_count": 60,
   "id": "99348dde-83ba-4fac-b8a7-8e9442e8538e",
   "metadata": {},
   "outputs": [
    {
     "data": {
      "text/plain": [
       "<div class=\"class_spark_quiz\" id=\"id_spark_quiz\">\n",
       "<h1>Spark 퀴즈 </h1>\n",
       "<a href=\"https://forms.gle/Fw49w9GhWQChDcZm7\"> 6/13 Spark 심화과정 </a>\n",
       "<p></p>\n",
       "<a href=\"https://forms.gle/G4TcXm3fKuHLHA6D6\"> 6/13 Spark 기본과정 </a>\n",
       "<p></p>\n",
       "<a href=\"https://forms.gle/M8gr1kC2ubA3UDVp8\"> 6/18 Spark [MAP_FILTER] </a>\n",
       "<p></p>\n",
       "<a href=\"https://forms.gle/h8w5mZ4MNaPLCPbi6\"> 6/18 Spark GroupBy 심화 </a>\n",
       "<p></p>\n",
       "<a href=\"https://forms.gle/q5yL6QHfueDLM5w27\"> 6/25 Spark RDD 실전 분석 </a>\n",
       "<p></p>\n",
       "<a href=\"https://forms.gle/Gxb4y6LfVYiaLu4M7\"> 6/27 Spark RDD 실전 분석2 </a>\n",
       "<p></p>\n",
       "</div>"
      ]
     },
     "execution_count": 60,
     "metadata": {},
     "output_type": "execute_result"
    }
   ],
   "source": [
    "# 1)\n",
    "divTarget = bsobj.find(name=\"div\", attrs={\"id\":\"id_spark_quiz\"})\n",
    "divTarget"
   ]
  },
  {
   "cell_type": "code",
   "execution_count": 69,
   "id": "1da23763-629c-4321-8fad-e06b66fb0279",
   "metadata": {},
   "outputs": [
    {
     "data": {
      "text/plain": [
       "[<a href=\"https://forms.gle/Fw49w9GhWQChDcZm7\"> 6/13 Spark 심화과정 </a>,\n",
       " <a href=\"https://forms.gle/G4TcXm3fKuHLHA6D6\"> 6/13 Spark 기본과정 </a>,\n",
       " <a href=\"https://forms.gle/M8gr1kC2ubA3UDVp8\"> 6/18 Spark [MAP_FILTER] </a>,\n",
       " <a href=\"https://forms.gle/h8w5mZ4MNaPLCPbi6\"> 6/18 Spark GroupBy 심화 </a>,\n",
       " <a href=\"https://forms.gle/q5yL6QHfueDLM5w27\"> 6/25 Spark RDD 실전 분석 </a>,\n",
       " <a href=\"https://forms.gle/Gxb4y6LfVYiaLu4M7\"> 6/27 Spark RDD 실전 분석2 </a>]"
      ]
     },
     "execution_count": 69,
     "metadata": {},
     "output_type": "execute_result"
    }
   ],
   "source": [
    "divTarget.findAll(name = \"a\")"
   ]
  },
  {
   "cell_type": "code",
   "execution_count": 62,
   "id": "6e6fee3c-b2b3-4479-94ed-98eb1d89fc45",
   "metadata": {},
   "outputs": [
    {
     "data": {
      "text/plain": [
       "<li class=\"actnbr-subs\">\n",
       "<a href=\"https://subscribe.wordpress.com/\">구독 관리</a>\n",
       "</li>"
      ]
     },
     "execution_count": 62,
     "metadata": {},
     "output_type": "execute_result"
    }
   ],
   "source": [
    "# 2)\n",
    "divtarget1 = bsobj.find(name=\"li\", attrs={\"class\":\"actnbr-subs\"})\n",
    "divtarget1"
   ]
  },
  {
   "cell_type": "code",
   "execution_count": 81,
   "id": "4da8d181-a225-41b9-9019-568f19b9b09b",
   "metadata": {},
   "outputs": [
    {
     "data": {
      "text/plain": [
       "[<a href=\"https://subscribe.wordpress.com/\">구독 관리</a>]"
      ]
     },
     "execution_count": 81,
     "metadata": {},
     "output_type": "execute_result"
    }
   ],
   "source": [
    "divtarget1.findAll(name = \"a\")"
   ]
  },
  {
   "cell_type": "markdown",
   "id": "7df86876-6d2f-45ae-a14e-66487dd1ae7b",
   "metadata": {},
   "source": [
    "##### \n",
    "- 수집한 a 태그명 리스트 -> 빈 리스트에 a태그.text만 추가하기"
   ]
  },
  {
   "cell_type": "code",
   "execution_count": 74,
   "id": "ba4b99a1-4e0c-4279-a232-6e72bff9ef42",
   "metadata": {},
   "outputs": [
    {
     "data": {
      "text/plain": [
       "[<a href=\"https://forms.gle/Fw49w9GhWQChDcZm7\"> 6/13 Spark 심화과정 </a>,\n",
       " <a href=\"https://forms.gle/G4TcXm3fKuHLHA6D6\"> 6/13 Spark 기본과정 </a>,\n",
       " <a href=\"https://forms.gle/M8gr1kC2ubA3UDVp8\"> 6/18 Spark [MAP_FILTER] </a>,\n",
       " <a href=\"https://forms.gle/h8w5mZ4MNaPLCPbi6\"> 6/18 Spark GroupBy 심화 </a>,\n",
       " <a href=\"https://forms.gle/q5yL6QHfueDLM5w27\"> 6/25 Spark RDD 실전 분석 </a>,\n",
       " <a href=\"https://forms.gle/Gxb4y6LfVYiaLu4M7\"> 6/27 Spark RDD 실전 분석2 </a>]"
      ]
     },
     "execution_count": 74,
     "metadata": {},
     "output_type": "execute_result"
    }
   ],
   "source": [
    "# 1)\n",
    "linkList = divTarget.findAll(name=\"a\")\n",
    "linkList"
   ]
  },
  {
   "cell_type": "code",
   "execution_count": 77,
   "id": "38ad4ba5-31d2-4e0b-aa5e-4b8a95006238",
   "metadata": {},
   "outputs": [],
   "source": [
    "nameList = []\n",
    "for i in range(0, len(linkList)):\n",
    "    nameList.append(linkList[i].text)"
   ]
  },
  {
   "cell_type": "code",
   "execution_count": 78,
   "id": "594b0682-4951-4e41-b962-c8af843ff6b7",
   "metadata": {},
   "outputs": [
    {
     "data": {
      "text/plain": [
       "[' 6/13 Spark 심화과정 ',\n",
       " ' 6/13 Spark 기본과정 ',\n",
       " ' 6/18 Spark [MAP_FILTER] ',\n",
       " ' 6/18 Spark GroupBy 심화 ',\n",
       " ' 6/25 Spark RDD 실전 분석 ',\n",
       " ' 6/27 Spark RDD 실전 분석2 ']"
      ]
     },
     "execution_count": 78,
     "metadata": {},
     "output_type": "execute_result"
    }
   ],
   "source": [
    "nameList"
   ]
  },
  {
   "cell_type": "code",
   "execution_count": 89,
   "id": "33068f91-8219-4989-90df-116e4daea128",
   "metadata": {},
   "outputs": [
    {
     "data": {
      "text/plain": [
       "['컨텐츠로 건너뛰기',\n",
       " '\\n\\t\\t\\t\\t\\t스파크 코리아\\t\\t\\t\\t',\n",
       " '자료실',\n",
       " '퀴즈',\n",
       " '설문s',\n",
       " '테스트',\n",
       " '학생퀴즈',\n",
       " ' 설문 준비중 ',\n",
       " ' 6/13 Spark 심화과정 ',\n",
       " ' 6/13 Spark 기본과정 ',\n",
       " ' 6/18 Spark [MAP_FILTER] ',\n",
       " ' 6/18 Spark GroupBy 심화 ',\n",
       " ' 6/25 Spark RDD 실전 분석 ',\n",
       " ' 6/27 Spark RDD 실전 분석2 ',\n",
       " '트위터',\n",
       " 'Facebook',\n",
       " '',\n",
       " '워드프레스닷컴 웹사이트.',\n",
       " '\\n\\t\\t\\t\\t스파크 코리아\\t\\t\\t',\n",
       " '\\n 사용자 정의하기\\n',\n",
       " '가입',\n",
       " '로그인',\n",
       " '단축 링크 복사',\n",
       " '이 콘텐츠 신고하기',\n",
       " '구독 관리']"
      ]
     },
     "execution_count": 89,
     "metadata": {},
     "output_type": "execute_result"
    }
   ],
   "source": [
    "# 2)\n",
    "atas = divTarget.findAll(name=\"a\")\n",
    "atagLen = len(atags)\n",
    "emptyList = []\n",
    "\n",
    "for i in range(0, atagLen):\n",
    "    emptyList.append(atags[i].text)\n",
    "emptyList"
   ]
  },
  {
   "cell_type": "code",
   "execution_count": 85,
   "id": "3cbc2faf-c29c-4480-a16f-3ad5e513921d",
   "metadata": {},
   "outputs": [],
   "source": [
    "# 예쁘게 보여주기\n",
    "import pandas as pd"
   ]
  },
  {
   "cell_type": "code",
   "execution_count": 87,
   "id": "937ee7e5-b407-440b-acd5-b539266b6bdf",
   "metadata": {},
   "outputs": [
    {
     "data": {
      "text/html": [
       "<div>\n",
       "<style scoped>\n",
       "    .dataframe tbody tr th:only-of-type {\n",
       "        vertical-align: middle;\n",
       "    }\n",
       "\n",
       "    .dataframe tbody tr th {\n",
       "        vertical-align: top;\n",
       "    }\n",
       "\n",
       "    .dataframe thead th {\n",
       "        text-align: right;\n",
       "    }\n",
       "</style>\n",
       "<table border=\"1\" class=\"dataframe\">\n",
       "  <thead>\n",
       "    <tr style=\"text-align: right;\">\n",
       "      <th></th>\n",
       "      <th>링크제목</th>\n",
       "    </tr>\n",
       "  </thead>\n",
       "  <tbody>\n",
       "    <tr>\n",
       "      <th>0</th>\n",
       "      <td>컨텐츠로 건너뛰기</td>\n",
       "    </tr>\n",
       "    <tr>\n",
       "      <th>1</th>\n",
       "      <td>\\n\\t\\t\\t\\t\\t스파크 코리아\\t\\t\\t\\t</td>\n",
       "    </tr>\n",
       "    <tr>\n",
       "      <th>2</th>\n",
       "      <td>자료실</td>\n",
       "    </tr>\n",
       "    <tr>\n",
       "      <th>3</th>\n",
       "      <td>퀴즈</td>\n",
       "    </tr>\n",
       "    <tr>\n",
       "      <th>4</th>\n",
       "      <td>설문s</td>\n",
       "    </tr>\n",
       "    <tr>\n",
       "      <th>5</th>\n",
       "      <td>테스트</td>\n",
       "    </tr>\n",
       "    <tr>\n",
       "      <th>6</th>\n",
       "      <td>학생퀴즈</td>\n",
       "    </tr>\n",
       "    <tr>\n",
       "      <th>7</th>\n",
       "      <td>설문 준비중</td>\n",
       "    </tr>\n",
       "    <tr>\n",
       "      <th>8</th>\n",
       "      <td>6/13 Spark 심화과정</td>\n",
       "    </tr>\n",
       "    <tr>\n",
       "      <th>9</th>\n",
       "      <td>6/13 Spark 기본과정</td>\n",
       "    </tr>\n",
       "    <tr>\n",
       "      <th>10</th>\n",
       "      <td>6/18 Spark [MAP_FILTER]</td>\n",
       "    </tr>\n",
       "    <tr>\n",
       "      <th>11</th>\n",
       "      <td>6/18 Spark GroupBy 심화</td>\n",
       "    </tr>\n",
       "    <tr>\n",
       "      <th>12</th>\n",
       "      <td>6/25 Spark RDD 실전 분석</td>\n",
       "    </tr>\n",
       "    <tr>\n",
       "      <th>13</th>\n",
       "      <td>6/27 Spark RDD 실전 분석2</td>\n",
       "    </tr>\n",
       "    <tr>\n",
       "      <th>14</th>\n",
       "      <td>트위터</td>\n",
       "    </tr>\n",
       "    <tr>\n",
       "      <th>15</th>\n",
       "      <td>Facebook</td>\n",
       "    </tr>\n",
       "    <tr>\n",
       "      <th>16</th>\n",
       "      <td></td>\n",
       "    </tr>\n",
       "    <tr>\n",
       "      <th>17</th>\n",
       "      <td>워드프레스닷컴 웹사이트.</td>\n",
       "    </tr>\n",
       "    <tr>\n",
       "      <th>18</th>\n",
       "      <td>\\n\\t\\t\\t\\t스파크 코리아\\t\\t\\t</td>\n",
       "    </tr>\n",
       "    <tr>\n",
       "      <th>19</th>\n",
       "      <td>\\n 사용자 정의하기\\n</td>\n",
       "    </tr>\n",
       "    <tr>\n",
       "      <th>20</th>\n",
       "      <td>가입</td>\n",
       "    </tr>\n",
       "    <tr>\n",
       "      <th>21</th>\n",
       "      <td>로그인</td>\n",
       "    </tr>\n",
       "    <tr>\n",
       "      <th>22</th>\n",
       "      <td>단축 링크 복사</td>\n",
       "    </tr>\n",
       "    <tr>\n",
       "      <th>23</th>\n",
       "      <td>이 콘텐츠 신고하기</td>\n",
       "    </tr>\n",
       "    <tr>\n",
       "      <th>24</th>\n",
       "      <td>구독 관리</td>\n",
       "    </tr>\n",
       "  </tbody>\n",
       "</table>\n",
       "</div>"
      ],
      "text/plain": [
       "                           링크제목\n",
       "0                     컨텐츠로 건너뛰기\n",
       "1   \\n\\t\\t\\t\\t\\t스파크 코리아\\t\\t\\t\\t\n",
       "2                           자료실\n",
       "3                            퀴즈\n",
       "4                           설문s\n",
       "5                           테스트\n",
       "6                          학생퀴즈\n",
       "7                       설문 준비중 \n",
       "8              6/13 Spark 심화과정 \n",
       "9              6/13 Spark 기본과정 \n",
       "10     6/18 Spark [MAP_FILTER] \n",
       "11       6/18 Spark GroupBy 심화 \n",
       "12        6/25 Spark RDD 실전 분석 \n",
       "13       6/27 Spark RDD 실전 분석2 \n",
       "14                          트위터\n",
       "15                     Facebook\n",
       "16                             \n",
       "17                워드프레스닷컴 웹사이트.\n",
       "18      \\n\\t\\t\\t\\t스파크 코리아\\t\\t\\t\n",
       "19                \\n 사용자 정의하기\\n\n",
       "20                           가입\n",
       "21                          로그인\n",
       "22                     단축 링크 복사\n",
       "23                   이 콘텐츠 신고하기\n",
       "24                        구독 관리"
      ]
     },
     "execution_count": 87,
     "metadata": {},
     "output_type": "execute_result"
    }
   ],
   "source": [
    "nameData = pd.DataFrame(emptyList, columns = [\"링크제목\"])\n",
    "nameData"
   ]
  },
  {
   "cell_type": "code",
   "execution_count": 92,
   "id": "ac230e07-f111-4811-9960-5933e2060058",
   "metadata": {},
   "outputs": [],
   "source": [
    "# csv 파일로 저장하기 (자동 다운로드 됨)\n",
    "nameData.to_csv(\"./namedata.csv\")"
   ]
  },
  {
   "cell_type": "code",
   "execution_count": 93,
   "id": "d512107e-3b3a-401d-81bd-94b7934a154f",
   "metadata": {},
   "outputs": [
    {
     "data": {
      "text/plain": [
       "<div class=\"likes-text\">\n",
       "<span>%d</span> 블로거가 이것을 좋아합니다:\t\t</div>"
      ]
     },
     "execution_count": 93,
     "metadata": {},
     "output_type": "execute_result"
    }
   ],
   "source": [
    "# 3)\n",
    "liketags = bsobj.find(name=\"div\", attrs={\"class\":\"likes-text\"})\n",
    "liketags"
   ]
  },
  {
   "cell_type": "code",
   "execution_count": 96,
   "id": "4538f882-4ad3-4745-91ad-c08f0c1b530b",
   "metadata": {},
   "outputs": [
    {
     "data": {
      "text/plain": [
       "[<span>%d</span>]"
      ]
     },
     "execution_count": 96,
     "metadata": {},
     "output_type": "execute_result"
    }
   ],
   "source": [
    "likeList = liketags.findAll(name=\"span\")\n",
    "likeList"
   ]
  },
  {
   "cell_type": "code",
   "execution_count": 98,
   "id": "a7263773-2064-491e-a29d-2dbcb7181065",
   "metadata": {},
   "outputs": [
    {
     "data": {
      "text/plain": [
       "1"
      ]
     },
     "execution_count": 98,
     "metadata": {},
     "output_type": "execute_result"
    }
   ],
   "source": [
    "len(likeList)"
   ]
  },
  {
   "cell_type": "markdown",
   "id": "533d33ef-b512-45e8-a4d5-4022e30f0b1c",
   "metadata": {},
   "source": [
    "#####\n",
    "- 태그 내 속성정보 수집 > 속성으로 찾기"
   ]
  },
  {
   "cell_type": "code",
   "execution_count": 104,
   "id": "2af42642-315a-488c-8b00-0e7aa9d65971",
   "metadata": {},
   "outputs": [
    {
     "data": {
      "text/plain": [
       "<a class=\"skip-link screen-reader-text\" href=\"#content\">컨텐츠로 건너뛰기</a>"
      ]
     },
     "execution_count": 104,
     "metadata": {},
     "output_type": "execute_result"
    }
   ],
   "source": [
    "# 각 요소 출력\n",
    "atags[0]"
   ]
  },
  {
   "cell_type": "code",
   "execution_count": 105,
   "id": "cb23833d-d759-4bb5-a334-23f049e12437",
   "metadata": {},
   "outputs": [
    {
     "data": {
      "text/plain": [
       "['skip-link', 'screen-reader-text']"
      ]
     },
     "execution_count": 105,
     "metadata": {},
     "output_type": "execute_result"
    }
   ],
   "source": [
    "# 각 요소의 속성만 출력\n",
    "atags[0].attrs[\"class\"]"
   ]
  },
  {
   "cell_type": "markdown",
   "id": "7ace96c1-eaa8-4fca-97eb-f9fd3c08f4d4",
   "metadata": {},
   "source": [
    "#####\n",
    "- 태그 내 속성정보 수집 > 텍스트 리스트, 속성 리스트 만들기"
   ]
  },
  {
   "cell_type": "code",
   "execution_count": 106,
   "id": "e6919a98-cf81-409d-91de-df215d08ed21",
   "metadata": {},
   "outputs": [
    {
     "data": {
      "text/plain": [
       "[<a class=\"skip-link screen-reader-text\" href=\"#content\">컨텐츠로 건너뛰기</a>,\n",
       " <a href=\"https://sparkkorea.com/\" rel=\"home\">\n",
       " \t\t\t\t\t스파크 코리아\t\t\t\t</a>,\n",
       " <a href=\"https://sparkkorea.com/%ec%9e%90%eb%a3%8c%ec%8b%a4/\">자료실</a>,\n",
       " <a aria-current=\"page\" href=\"https://sparkkorea.com/%ed%80%b4%ec%a6%88/\">퀴즈</a>,\n",
       " <a href=\"https://sparkkorea.com/%ec%84%a4%eb%ac%b8-2/\">설문s</a>,\n",
       " <a href=\"https://sparkkorea.com/%ed%85%8c%ec%8a%a4%ed%8a%b8/\">테스트</a>,\n",
       " <a href=\"https://sparkkorea.com/%ec%84%a4%eb%ac%b8/\">학생퀴즈</a>,\n",
       " <a href=\"#\"> 설문 준비중 </a>,\n",
       " <a href=\"https://forms.gle/Fw49w9GhWQChDcZm7\"> 6/13 Spark 심화과정 </a>,\n",
       " <a href=\"https://forms.gle/G4TcXm3fKuHLHA6D6\"> 6/13 Spark 기본과정 </a>,\n",
       " <a href=\"https://forms.gle/M8gr1kC2ubA3UDVp8\"> 6/18 Spark [MAP_FILTER] </a>,\n",
       " <a href=\"https://forms.gle/h8w5mZ4MNaPLCPbi6\"> 6/18 Spark GroupBy 심화 </a>,\n",
       " <a href=\"https://forms.gle/q5yL6QHfueDLM5w27\"> 6/25 Spark RDD 실전 분석 </a>,\n",
       " <a href=\"https://forms.gle/Gxb4y6LfVYiaLu4M7\"> 6/27 Spark RDD 실전 분석2 </a>,\n",
       " <a class=\"share-twitter sd-button share-icon\" data-shared=\"sharing-twitter-102\" href=\"https://sparkkorea.com/%ed%80%b4%ec%a6%88/?share=twitter\" rel=\"nofollow noopener noreferrer\" target=\"_blank\" title=\"트위터로 공유하기\"><span>트위터</span></a>,\n",
       " <a class=\"share-facebook sd-button share-icon\" data-shared=\"sharing-facebook-102\" href=\"https://sparkkorea.com/%ed%80%b4%ec%a6%88/?share=facebook\" rel=\"nofollow noopener noreferrer\" target=\"_blank\" title=\"페이스북에 공유하려면 클릭하세요.\"><span>Facebook</span></a>,\n",
       " <a class=\"sd-link-color\"></a>,\n",
       " <a href=\"https://wordpress.com/?ref=footer_segment_business\" rel=\"nofollow\">워드프레스닷컴 웹사이트.</a>,\n",
       " <a href=\"https://sparkkorea.com\">\n",
       " <img alt=\"\" class=\"avatar avatar-50\" height=\"50\" src=\"https://s2.wp.com/i/logo/wpcom-gray-white.png\" width=\"50\"/>\t\t\t\t스파크 코리아\t\t\t</a>,\n",
       " <a href=\"https://sparkkorea.wordpress.com/wp-admin/customize.php?url=https%3A%2F%2Fsparkkorea.wordpress.com%2F%25ED%2580%25B4%25EC%25A6%2588%2F\">\n",
       " <svg class=\"gridicon gridicons-customize\" height=\"20\" viewbox=\"0 0 24 24\" width=\"20\" xmlns=\"http://www.w3.org/2000/svg\"><g><path d=\"M2 6c0-1.505.78-3.08 2-4 0 .845.69 2 2 2 1.657 0 3 1.343 3 3 0 .386-.08.752-.212 1.09.74.594 1.476 1.19 2.19 1.81L8.9 11.98c-.62-.716-1.214-1.454-1.807-2.192C6.753 9.92 6.387 10 6 10c-2.21 0-4-1.79-4-4zm12.152 6.848l1.34-1.34c.607.304 1.283.492 2.008.492 2.485 0 4.5-2.015 4.5-4.5 0-.725-.188-1.4-.493-2.007L18 9l-2-2 3.507-3.507C18.9 3.188 18.225 3 17.5 3 15.015 3 13 5.015 13 7.5c0 .725.188 1.4.493 2.007L3 20l2 2 6.848-6.848c1.885 1.928 3.874 3.753 5.977 5.45l1.425 1.148 1.5-1.5-1.15-1.425c-1.695-2.103-3.52-4.092-5.448-5.977z\"></path></g></svg> <span>사용자 정의하기</span>\n",
       " </a>,\n",
       " <a href=\"https://wordpress.com/start/\">가입</a>,\n",
       " <a href=\"https://wordpress.com/log-in?redirect_to=https%3A%2F%2Fr-login.wordpress.com%2Fremote-login.php%3Faction%3Dlink%26back%3Dhttps%253A%252F%252Fsparkkorea.com%252F%2525ed%252580%2525b4%2525ec%2525a6%252588%252F\">로그인</a>,\n",
       " <a href=\"https://wp.me/Pb5P34-1E\">단축 링크 복사</a>,\n",
       " <a href=\"http://en.wordpress.com/abuse/\">이 콘텐츠 신고하기</a>,\n",
       " <a href=\"https://subscribe.wordpress.com/\">구독 관리</a>]"
      ]
     },
     "execution_count": 106,
     "metadata": {},
     "output_type": "execute_result"
    }
   ],
   "source": [
    "atags"
   ]
  },
  {
   "cell_type": "code",
   "execution_count": 107,
   "id": "169c9e3a-94c1-4d13-b3ea-2e6d876e1aff",
   "metadata": {},
   "outputs": [],
   "source": [
    "titleList = []\n",
    "linkList = []"
   ]
  },
  {
   "cell_type": "code",
   "execution_count": 108,
   "id": "cf9034e3-0491-409e-8d15-df38d1ae8024",
   "metadata": {},
   "outputs": [],
   "source": [
    "for i in range(0, len(atags)):\n",
    "    quizTitle = atags[0].text   #퀴즈 타이틀 정보 수집\n",
    "    quizLink = atags[0].attrs[\"href\"]   #퀴즈 링크 정보 수집\n",
    "    titleList.append(quizTitle)   # 빈 리스트에 하나씩 저장\n",
    "    linkList.append(quizLink)   # 빈 리스트에 하나씩 저장"
   ]
  },
  {
   "cell_type": "code",
   "execution_count": 109,
   "id": "194dfea0-bb87-4bb4-8a91-2f6998a8fd63",
   "metadata": {},
   "outputs": [
    {
     "data": {
      "text/plain": [
       "['#content',\n",
       " '#content',\n",
       " '#content',\n",
       " '#content',\n",
       " '#content',\n",
       " '#content',\n",
       " '#content',\n",
       " '#content',\n",
       " '#content',\n",
       " '#content',\n",
       " '#content',\n",
       " '#content',\n",
       " '#content',\n",
       " '#content',\n",
       " '#content',\n",
       " '#content',\n",
       " '#content',\n",
       " '#content',\n",
       " '#content',\n",
       " '#content',\n",
       " '#content',\n",
       " '#content',\n",
       " '#content',\n",
       " '#content',\n",
       " '#content']"
      ]
     },
     "execution_count": 109,
     "metadata": {},
     "output_type": "execute_result"
    }
   ],
   "source": [
    "linkList"
   ]
  },
  {
   "cell_type": "code",
   "execution_count": 110,
   "id": "c1aa5347-858b-495d-9e6f-51bcc5217e2f",
   "metadata": {},
   "outputs": [
    {
     "data": {
      "text/plain": [
       "['컨텐츠로 건너뛰기',\n",
       " '컨텐츠로 건너뛰기',\n",
       " '컨텐츠로 건너뛰기',\n",
       " '컨텐츠로 건너뛰기',\n",
       " '컨텐츠로 건너뛰기',\n",
       " '컨텐츠로 건너뛰기',\n",
       " '컨텐츠로 건너뛰기',\n",
       " '컨텐츠로 건너뛰기',\n",
       " '컨텐츠로 건너뛰기',\n",
       " '컨텐츠로 건너뛰기',\n",
       " '컨텐츠로 건너뛰기',\n",
       " '컨텐츠로 건너뛰기',\n",
       " '컨텐츠로 건너뛰기',\n",
       " '컨텐츠로 건너뛰기',\n",
       " '컨텐츠로 건너뛰기',\n",
       " '컨텐츠로 건너뛰기',\n",
       " '컨텐츠로 건너뛰기',\n",
       " '컨텐츠로 건너뛰기',\n",
       " '컨텐츠로 건너뛰기',\n",
       " '컨텐츠로 건너뛰기',\n",
       " '컨텐츠로 건너뛰기',\n",
       " '컨텐츠로 건너뛰기',\n",
       " '컨텐츠로 건너뛰기',\n",
       " '컨텐츠로 건너뛰기',\n",
       " '컨텐츠로 건너뛰기']"
      ]
     },
     "execution_count": 110,
     "metadata": {},
     "output_type": "execute_result"
    }
   ],
   "source": [
    "titleList"
   ]
  },
  {
   "cell_type": "code",
   "execution_count": 112,
   "id": "1d913332-36c0-42ef-b804-6d194daaa3d1",
   "metadata": {},
   "outputs": [],
   "source": [
    "# 합치기 \n",
    "import pandas as pd"
   ]
  },
  {
   "cell_type": "code",
   "execution_count": 113,
   "id": "7a1f1760-eee0-4132-bfd1-b40969e37c45",
   "metadata": {},
   "outputs": [
    {
     "data": {
      "text/html": [
       "<div>\n",
       "<style scoped>\n",
       "    .dataframe tbody tr th:only-of-type {\n",
       "        vertical-align: middle;\n",
       "    }\n",
       "\n",
       "    .dataframe tbody tr th {\n",
       "        vertical-align: top;\n",
       "    }\n",
       "\n",
       "    .dataframe thead th {\n",
       "        text-align: right;\n",
       "    }\n",
       "</style>\n",
       "<table border=\"1\" class=\"dataframe\">\n",
       "  <thead>\n",
       "    <tr style=\"text-align: right;\">\n",
       "      <th></th>\n",
       "      <th>0</th>\n",
       "      <th>1</th>\n",
       "    </tr>\n",
       "  </thead>\n",
       "  <tbody>\n",
       "    <tr>\n",
       "      <th>0</th>\n",
       "      <td>컨텐츠로 건너뛰기</td>\n",
       "      <td>#content</td>\n",
       "    </tr>\n",
       "    <tr>\n",
       "      <th>1</th>\n",
       "      <td>컨텐츠로 건너뛰기</td>\n",
       "      <td>#content</td>\n",
       "    </tr>\n",
       "    <tr>\n",
       "      <th>2</th>\n",
       "      <td>컨텐츠로 건너뛰기</td>\n",
       "      <td>#content</td>\n",
       "    </tr>\n",
       "    <tr>\n",
       "      <th>3</th>\n",
       "      <td>컨텐츠로 건너뛰기</td>\n",
       "      <td>#content</td>\n",
       "    </tr>\n",
       "    <tr>\n",
       "      <th>4</th>\n",
       "      <td>컨텐츠로 건너뛰기</td>\n",
       "      <td>#content</td>\n",
       "    </tr>\n",
       "    <tr>\n",
       "      <th>5</th>\n",
       "      <td>컨텐츠로 건너뛰기</td>\n",
       "      <td>#content</td>\n",
       "    </tr>\n",
       "    <tr>\n",
       "      <th>6</th>\n",
       "      <td>컨텐츠로 건너뛰기</td>\n",
       "      <td>#content</td>\n",
       "    </tr>\n",
       "    <tr>\n",
       "      <th>7</th>\n",
       "      <td>컨텐츠로 건너뛰기</td>\n",
       "      <td>#content</td>\n",
       "    </tr>\n",
       "    <tr>\n",
       "      <th>8</th>\n",
       "      <td>컨텐츠로 건너뛰기</td>\n",
       "      <td>#content</td>\n",
       "    </tr>\n",
       "    <tr>\n",
       "      <th>9</th>\n",
       "      <td>컨텐츠로 건너뛰기</td>\n",
       "      <td>#content</td>\n",
       "    </tr>\n",
       "    <tr>\n",
       "      <th>10</th>\n",
       "      <td>컨텐츠로 건너뛰기</td>\n",
       "      <td>#content</td>\n",
       "    </tr>\n",
       "    <tr>\n",
       "      <th>11</th>\n",
       "      <td>컨텐츠로 건너뛰기</td>\n",
       "      <td>#content</td>\n",
       "    </tr>\n",
       "    <tr>\n",
       "      <th>12</th>\n",
       "      <td>컨텐츠로 건너뛰기</td>\n",
       "      <td>#content</td>\n",
       "    </tr>\n",
       "    <tr>\n",
       "      <th>13</th>\n",
       "      <td>컨텐츠로 건너뛰기</td>\n",
       "      <td>#content</td>\n",
       "    </tr>\n",
       "    <tr>\n",
       "      <th>14</th>\n",
       "      <td>컨텐츠로 건너뛰기</td>\n",
       "      <td>#content</td>\n",
       "    </tr>\n",
       "    <tr>\n",
       "      <th>15</th>\n",
       "      <td>컨텐츠로 건너뛰기</td>\n",
       "      <td>#content</td>\n",
       "    </tr>\n",
       "    <tr>\n",
       "      <th>16</th>\n",
       "      <td>컨텐츠로 건너뛰기</td>\n",
       "      <td>#content</td>\n",
       "    </tr>\n",
       "    <tr>\n",
       "      <th>17</th>\n",
       "      <td>컨텐츠로 건너뛰기</td>\n",
       "      <td>#content</td>\n",
       "    </tr>\n",
       "    <tr>\n",
       "      <th>18</th>\n",
       "      <td>컨텐츠로 건너뛰기</td>\n",
       "      <td>#content</td>\n",
       "    </tr>\n",
       "    <tr>\n",
       "      <th>19</th>\n",
       "      <td>컨텐츠로 건너뛰기</td>\n",
       "      <td>#content</td>\n",
       "    </tr>\n",
       "    <tr>\n",
       "      <th>20</th>\n",
       "      <td>컨텐츠로 건너뛰기</td>\n",
       "      <td>#content</td>\n",
       "    </tr>\n",
       "    <tr>\n",
       "      <th>21</th>\n",
       "      <td>컨텐츠로 건너뛰기</td>\n",
       "      <td>#content</td>\n",
       "    </tr>\n",
       "    <tr>\n",
       "      <th>22</th>\n",
       "      <td>컨텐츠로 건너뛰기</td>\n",
       "      <td>#content</td>\n",
       "    </tr>\n",
       "    <tr>\n",
       "      <th>23</th>\n",
       "      <td>컨텐츠로 건너뛰기</td>\n",
       "      <td>#content</td>\n",
       "    </tr>\n",
       "    <tr>\n",
       "      <th>24</th>\n",
       "      <td>컨텐츠로 건너뛰기</td>\n",
       "      <td>#content</td>\n",
       "    </tr>\n",
       "  </tbody>\n",
       "</table>\n",
       "</div>"
      ],
      "text/plain": [
       "            0         1\n",
       "0   컨텐츠로 건너뛰기  #content\n",
       "1   컨텐츠로 건너뛰기  #content\n",
       "2   컨텐츠로 건너뛰기  #content\n",
       "3   컨텐츠로 건너뛰기  #content\n",
       "4   컨텐츠로 건너뛰기  #content\n",
       "5   컨텐츠로 건너뛰기  #content\n",
       "6   컨텐츠로 건너뛰기  #content\n",
       "7   컨텐츠로 건너뛰기  #content\n",
       "8   컨텐츠로 건너뛰기  #content\n",
       "9   컨텐츠로 건너뛰기  #content\n",
       "10  컨텐츠로 건너뛰기  #content\n",
       "11  컨텐츠로 건너뛰기  #content\n",
       "12  컨텐츠로 건너뛰기  #content\n",
       "13  컨텐츠로 건너뛰기  #content\n",
       "14  컨텐츠로 건너뛰기  #content\n",
       "15  컨텐츠로 건너뛰기  #content\n",
       "16  컨텐츠로 건너뛰기  #content\n",
       "17  컨텐츠로 건너뛰기  #content\n",
       "18  컨텐츠로 건너뛰기  #content\n",
       "19  컨텐츠로 건너뛰기  #content\n",
       "20  컨텐츠로 건너뛰기  #content\n",
       "21  컨텐츠로 건너뛰기  #content\n",
       "22  컨텐츠로 건너뛰기  #content\n",
       "23  컨텐츠로 건너뛰기  #content\n",
       "24  컨텐츠로 건너뛰기  #content"
      ]
     },
     "execution_count": 113,
     "metadata": {},
     "output_type": "execute_result"
    }
   ],
   "source": [
    "pd.DataFrame(zip(titleList, linkList))"
   ]
  },
  {
   "cell_type": "code",
   "execution_count": 119,
   "id": "aa55a16a-f60f-4f74-83c2-a60d6d7e2e7f",
   "metadata": {},
   "outputs": [
    {
     "data": {
      "text/html": [
       "<div>\n",
       "<style scoped>\n",
       "    .dataframe tbody tr th:only-of-type {\n",
       "        vertical-align: middle;\n",
       "    }\n",
       "\n",
       "    .dataframe tbody tr th {\n",
       "        vertical-align: top;\n",
       "    }\n",
       "\n",
       "    .dataframe thead th {\n",
       "        text-align: right;\n",
       "    }\n",
       "</style>\n",
       "<table border=\"1\" class=\"dataframe\">\n",
       "  <thead>\n",
       "    <tr style=\"text-align: right;\">\n",
       "      <th></th>\n",
       "      <th>제목</th>\n",
       "      <th>링크</th>\n",
       "    </tr>\n",
       "  </thead>\n",
       "  <tbody>\n",
       "    <tr>\n",
       "      <th>0</th>\n",
       "      <td>컨텐츠로 건너뛰기</td>\n",
       "      <td>#content</td>\n",
       "    </tr>\n",
       "    <tr>\n",
       "      <th>1</th>\n",
       "      <td>컨텐츠로 건너뛰기</td>\n",
       "      <td>#content</td>\n",
       "    </tr>\n",
       "    <tr>\n",
       "      <th>2</th>\n",
       "      <td>컨텐츠로 건너뛰기</td>\n",
       "      <td>#content</td>\n",
       "    </tr>\n",
       "    <tr>\n",
       "      <th>3</th>\n",
       "      <td>컨텐츠로 건너뛰기</td>\n",
       "      <td>#content</td>\n",
       "    </tr>\n",
       "    <tr>\n",
       "      <th>4</th>\n",
       "      <td>컨텐츠로 건너뛰기</td>\n",
       "      <td>#content</td>\n",
       "    </tr>\n",
       "    <tr>\n",
       "      <th>5</th>\n",
       "      <td>컨텐츠로 건너뛰기</td>\n",
       "      <td>#content</td>\n",
       "    </tr>\n",
       "    <tr>\n",
       "      <th>6</th>\n",
       "      <td>컨텐츠로 건너뛰기</td>\n",
       "      <td>#content</td>\n",
       "    </tr>\n",
       "    <tr>\n",
       "      <th>7</th>\n",
       "      <td>컨텐츠로 건너뛰기</td>\n",
       "      <td>#content</td>\n",
       "    </tr>\n",
       "    <tr>\n",
       "      <th>8</th>\n",
       "      <td>컨텐츠로 건너뛰기</td>\n",
       "      <td>#content</td>\n",
       "    </tr>\n",
       "    <tr>\n",
       "      <th>9</th>\n",
       "      <td>컨텐츠로 건너뛰기</td>\n",
       "      <td>#content</td>\n",
       "    </tr>\n",
       "    <tr>\n",
       "      <th>10</th>\n",
       "      <td>컨텐츠로 건너뛰기</td>\n",
       "      <td>#content</td>\n",
       "    </tr>\n",
       "    <tr>\n",
       "      <th>11</th>\n",
       "      <td>컨텐츠로 건너뛰기</td>\n",
       "      <td>#content</td>\n",
       "    </tr>\n",
       "    <tr>\n",
       "      <th>12</th>\n",
       "      <td>컨텐츠로 건너뛰기</td>\n",
       "      <td>#content</td>\n",
       "    </tr>\n",
       "    <tr>\n",
       "      <th>13</th>\n",
       "      <td>컨텐츠로 건너뛰기</td>\n",
       "      <td>#content</td>\n",
       "    </tr>\n",
       "    <tr>\n",
       "      <th>14</th>\n",
       "      <td>컨텐츠로 건너뛰기</td>\n",
       "      <td>#content</td>\n",
       "    </tr>\n",
       "    <tr>\n",
       "      <th>15</th>\n",
       "      <td>컨텐츠로 건너뛰기</td>\n",
       "      <td>#content</td>\n",
       "    </tr>\n",
       "    <tr>\n",
       "      <th>16</th>\n",
       "      <td>컨텐츠로 건너뛰기</td>\n",
       "      <td>#content</td>\n",
       "    </tr>\n",
       "    <tr>\n",
       "      <th>17</th>\n",
       "      <td>컨텐츠로 건너뛰기</td>\n",
       "      <td>#content</td>\n",
       "    </tr>\n",
       "    <tr>\n",
       "      <th>18</th>\n",
       "      <td>컨텐츠로 건너뛰기</td>\n",
       "      <td>#content</td>\n",
       "    </tr>\n",
       "    <tr>\n",
       "      <th>19</th>\n",
       "      <td>컨텐츠로 건너뛰기</td>\n",
       "      <td>#content</td>\n",
       "    </tr>\n",
       "    <tr>\n",
       "      <th>20</th>\n",
       "      <td>컨텐츠로 건너뛰기</td>\n",
       "      <td>#content</td>\n",
       "    </tr>\n",
       "    <tr>\n",
       "      <th>21</th>\n",
       "      <td>컨텐츠로 건너뛰기</td>\n",
       "      <td>#content</td>\n",
       "    </tr>\n",
       "    <tr>\n",
       "      <th>22</th>\n",
       "      <td>컨텐츠로 건너뛰기</td>\n",
       "      <td>#content</td>\n",
       "    </tr>\n",
       "    <tr>\n",
       "      <th>23</th>\n",
       "      <td>컨텐츠로 건너뛰기</td>\n",
       "      <td>#content</td>\n",
       "    </tr>\n",
       "    <tr>\n",
       "      <th>24</th>\n",
       "      <td>컨텐츠로 건너뛰기</td>\n",
       "      <td>#content</td>\n",
       "    </tr>\n",
       "  </tbody>\n",
       "</table>\n",
       "</div>"
      ],
      "text/plain": [
       "           제목        링크\n",
       "0   컨텐츠로 건너뛰기  #content\n",
       "1   컨텐츠로 건너뛰기  #content\n",
       "2   컨텐츠로 건너뛰기  #content\n",
       "3   컨텐츠로 건너뛰기  #content\n",
       "4   컨텐츠로 건너뛰기  #content\n",
       "5   컨텐츠로 건너뛰기  #content\n",
       "6   컨텐츠로 건너뛰기  #content\n",
       "7   컨텐츠로 건너뛰기  #content\n",
       "8   컨텐츠로 건너뛰기  #content\n",
       "9   컨텐츠로 건너뛰기  #content\n",
       "10  컨텐츠로 건너뛰기  #content\n",
       "11  컨텐츠로 건너뛰기  #content\n",
       "12  컨텐츠로 건너뛰기  #content\n",
       "13  컨텐츠로 건너뛰기  #content\n",
       "14  컨텐츠로 건너뛰기  #content\n",
       "15  컨텐츠로 건너뛰기  #content\n",
       "16  컨텐츠로 건너뛰기  #content\n",
       "17  컨텐츠로 건너뛰기  #content\n",
       "18  컨텐츠로 건너뛰기  #content\n",
       "19  컨텐츠로 건너뛰기  #content\n",
       "20  컨텐츠로 건너뛰기  #content\n",
       "21  컨텐츠로 건너뛰기  #content\n",
       "22  컨텐츠로 건너뛰기  #content\n",
       "23  컨텐츠로 건너뛰기  #content\n",
       "24  컨텐츠로 건너뛰기  #content"
      ]
     },
     "execution_count": 119,
     "metadata": {},
     "output_type": "execute_result"
    }
   ],
   "source": [
    "quizInfoDf = pd.DataFrame(zip(titleList, linkList), columns = [\"제목\", \"링크\"])\n",
    "quizInfoDf"
   ]
  },
  {
   "cell_type": "code",
   "execution_count": 120,
   "id": "9b6471b3-be98-48be-9d65-e74627952cc1",
   "metadata": {},
   "outputs": [],
   "source": [
    "# d 드라이브에 csv파일로 저장\n",
    "quizInfoDf.to_csv(\"d:/quiz.dsv\", encoding=\"ms949\")"
   ]
  },
  {
   "cell_type": "code",
   "execution_count": 123,
   "id": "ea45b05b-ca96-4be6-9547-a15ac8d860e4",
   "metadata": {},
   "outputs": [],
   "source": [
    "# 작업파일이 저장되어 있는 폴더 내에 csv파일로 저장\n",
    "quizInfoDf.to_csv(\"./quiz.csv\", encoding=\"ms949\")"
   ]
  },
  {
   "cell_type": "code",
   "execution_count": null,
   "id": "0b97dafc-fb97-4729-a1e3-f07c55acee63",
   "metadata": {},
   "outputs": [],
   "source": []
  }
 ],
 "metadata": {
  "kernelspec": {
   "display_name": "Python 3 (ipykernel)",
   "language": "python",
   "name": "python3"
  },
  "language_info": {
   "codemirror_mode": {
    "name": "ipython",
    "version": 3
   },
   "file_extension": ".py",
   "mimetype": "text/x-python",
   "name": "python",
   "nbconvert_exporter": "python",
   "pygments_lexer": "ipython3",
   "version": "3.9.13"
  }
 },
 "nbformat": 4,
 "nbformat_minor": 5
}
