{
 "cells": [
  {
   "cell_type": "code",
   "execution_count": null,
   "id": "c7b035ea-9d90-417f-94a6-ee2f0555aed4",
   "metadata": {},
   "outputs": [],
   "source": [
    "# 쿠팡 설맞이 특가 수목특가 (50개 제품이름, 제품가격 추출)"
   ]
  },
  {
   "cell_type": "code",
   "execution_count": 70,
   "id": "05e534e7-f780-4f07-acc5-18d491fd9c56",
   "metadata": {
    "scrolled": true,
    "tags": []
   },
   "outputs": [],
   "source": [
    "# 라이브러리 선언\n",
    "from selenium import webdriver\n",
    "from selenium.webdriver.common.by import By\n",
    "from selenium.webdriver.common.keys import Keys\n",
    "import bs4\n",
    "import pandas as pd\n",
    "\n",
    "\n",
    "# 드라이버 위치 설정 (상대)\n",
    "driver_loc = \"../extern\\chromedriver/chromedriver.exe\"\n",
    "\n",
    "# 드라이버 옵션 설정\n",
    "options = webdriver.ChromeOptions()\n",
    "\n",
    "options.add_argument(\"window-size = 1920x1080\")\n",
    "\n",
    "# 웹 드라이버 정의\n",
    "driver = webdriver.Chrome(driver_loc, options = options)\n",
    "\n",
    "#웹 페이지 파싱 될때까지 최대 3초 기다림\n",
    "driver.implicitly_wait(3)\n",
    "\n",
    "# 웹 페이지 이동\n",
    "targetUrl = \"https://pages.coupang.com/p/79307\"\n",
    "driver.get(targetUrl)\n",
    "print(driver.current_url)\n",
    "\n",
    "\n",
    "# driver가 접속한 페이지 소스 가져오기\n",
    "html = driver.page_source\n",
    "\n",
    "bsobj = bs4.BeautifulSoup(html, \"html.parser\")\n",
    "\n",
    "\n",
    "\n",
    "# 데이터 추출\n",
    "divs = bsobj.find(name=\"div\", attrs={\"class\":\"sale_point_products__grid grid-2\"})\n",
    "nametags = divs.findAll(name=\"span\", attrs={\"class\":\"info_section__title\"})\n",
    "\n",
    "\n",
    "# 제품이름만 추출\n",
    "nameList = []\n",
    "for i in range(0, len(nametags)):    \n",
    "    nameItem = nametags[i].text\n",
    "    nameList.append(nameItem)    \n",
    "\n",
    "for i in range(0, len(nameList)):\n",
    "    print(f\"{i} : {nameList[i]}\")\n",
    "\n",
    "    \n",
    "# 제품가격만 추출\n",
    "pricetags = divs.findAll(name=\"span\", attrs={\"class\":\"price_info__discount\"})\n",
    "\n",
    "priceList = []\n",
    "for i in range(0, len(pricetags)):    \n",
    "    priceItem = pricetags[i].text\n",
    "    priceList.append(priceItem)    \n",
    "\n",
    "for i in range(0, len(priceList)):\n",
    "    print(f\"{i} : {priceList[i]}\")\n",
    "\n",
    "    \n",
    "    \n",
    "# 묶기\n",
    "itemInfoDf = pd.DataFrame( zip(nameList, priceList) , columns=[\"제품이름\",\"제품가격\"] )\n",
    "\n",
    "# csv로 저장\n",
    "itemInfoDf.to_csv(\"../dataset/itemInfoDf.csv\", encoding=\"ms949\")"
   ]
  }
 ],
 "metadata": {
  "kernelspec": {
   "display_name": "Python 3 (ipykernel)",
   "language": "python",
   "name": "python3"
  },
  "language_info": {
   "codemirror_mode": {
    "name": "ipython",
    "version": 3
   },
   "file_extension": ".py",
   "mimetype": "text/x-python",
   "name": "python",
   "nbconvert_exporter": "python",
   "pygments_lexer": "ipython3",
   "version": "3.9.7"
  }
 },
 "nbformat": 4,
 "nbformat_minor": 5
}
